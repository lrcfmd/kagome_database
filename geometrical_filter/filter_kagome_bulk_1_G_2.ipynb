{
 "cells": [
  {
   "cell_type": "code",
   "execution_count": 1,
   "id": "aaa3ff35-586e-4e5c-87d9-900c41281c80",
   "metadata": {
    "tags": []
   },
   "outputs": [],
   "source": [
    "import matplotlib.pyplot as plt\n",
    "import numpy as np\n",
    "import pandas as pd\n",
    "%matplotlib inline\n",
    "from matplotlib import rc, font_manager\n",
    "ticks_font = font_manager.FontProperties(family='serif', style='normal',\n",
    "                                         size=24, weight='normal', stretch='normal')\n",
    "\n",
    "from pymatgen.core import Structure, Site,PeriodicSite,Lattice,Species,IStructure\n",
    "import os\n",
    "from pymatgen.io.cif import CifFile, CifParser, CifWriter\n",
    "import mycif\n",
    "from pymatgen.io.vasp import *\n",
    "import crystal_toolkit\n",
    "from pymatgen.symmetry.analyzer import SpacegroupAnalyzer\n",
    "import alphashape\n",
    "from scipy.spatial import ConvexHull, Delaunay\n",
    "from pymatgen.analysis.structure_matcher import StructureMatcher\n",
    "import spglib\n"
   ]
  },
  {
   "cell_type": "code",
   "execution_count": 2,
   "id": "62df630f-dd80-4e92-ae3e-a3f0de9d5bea",
   "metadata": {
    "tags": []
   },
   "outputs": [],
   "source": [
    "from copy import deepcopy"
   ]
  },
  {
   "cell_type": "code",
   "execution_count": 3,
   "id": "ebe4a538-7b53-4287-967b-29cb81c95787",
   "metadata": {
    "tags": []
   },
   "outputs": [],
   "source": [
    "from pymatgen.analysis.molecule_structure_comparator import CovalentRadius"
   ]
  },
  {
   "cell_type": "code",
   "execution_count": 4,
   "id": "d90ab444-dd64-4881-bce9-ed0596304662",
   "metadata": {
    "tags": []
   },
   "outputs": [],
   "source": [
    "%load_ext autoreload\n",
    "%autoreload 2\n",
    "from kagome_tools import *\n",
    "import ast\n",
    "import plotly.graph_objects as go"
   ]
  },
  {
   "cell_type": "code",
   "execution_count": 5,
   "id": "d902f8be-9a2b-437b-b0aa-36b9fbd3c49d",
   "metadata": {
    "tags": []
   },
   "outputs": [],
   "source": [
    "#import warnings\n",
    "#warnings.filterwarnings('ignore')\n",
    "from itertools import permutations\n",
    "import itertools"
   ]
  },
  {
   "cell_type": "code",
   "execution_count": 6,
   "id": "d4105534-3113-476d-af02-84a56fcf8ef7",
   "metadata": {
    "tags": []
   },
   "outputs": [],
   "source": [
    "import random\n",
    "import importlib\n",
    "from tqdm.notebook import tqdm, trange\n",
    "import time \n",
    "import ast\n",
    "from pymatgen.analysis.chemenv.utils.coordination_geometry_utils import Plane"
   ]
  },
  {
   "cell_type": "code",
   "execution_count": null,
   "id": "217f52a7-638a-4e1a-bb74-61390fd13b3f",
   "metadata": {
    "tags": []
   },
   "outputs": [],
   "source": []
  },
  {
   "cell_type": "code",
   "execution_count": 457,
   "id": "4e81922d-03de-408d-a896-935df4471704",
   "metadata": {
    "tags": []
   },
   "outputs": [],
   "source": [
    "data_expand = pd.read_csv('./bulk_1_all_grouped_multi_gph_expand_2_20241111.csv')"
   ]
  },
  {
   "cell_type": "code",
   "execution_count": 458,
   "id": "7e306c42-a0e8-4c19-880a-7f2f7ee92c53",
   "metadata": {
    "tags": []
   },
   "outputs": [],
   "source": [
    "mask_G2 = (data_expand['CN_group_index']==2)&(data_expand['angle_labels']=='Measured')\n",
    "G_2_index = list(data_expand[mask_G2].index[:])"
   ]
  },
  {
   "cell_type": "code",
   "execution_count": 459,
   "id": "54465593-aaf8-4178-8bd7-50636fcfc000",
   "metadata": {
    "tags": []
   },
   "outputs": [
    {
     "data": {
      "text/html": [
       "<div>\n",
       "<style scoped>\n",
       "    .dataframe tbody tr th:only-of-type {\n",
       "        vertical-align: middle;\n",
       "    }\n",
       "\n",
       "    .dataframe tbody tr th {\n",
       "        vertical-align: top;\n",
       "    }\n",
       "\n",
       "    .dataframe thead th {\n",
       "        text-align: right;\n",
       "    }\n",
       "</style>\n",
       "<table border=\"1\" class=\"dataframe\">\n",
       "  <thead>\n",
       "    <tr style=\"text-align: right;\">\n",
       "      <th></th>\n",
       "      <th>Unnamed: 0</th>\n",
       "      <th>cifs_ids</th>\n",
       "      <th>cifs_name</th>\n",
       "      <th>space_group_num</th>\n",
       "      <th>num_atom</th>\n",
       "      <th>composition</th>\n",
       "      <th>unique_gph_files</th>\n",
       "      <th>plane_fun_gph</th>\n",
       "      <th>CN_plane</th>\n",
       "      <th>CN_group_index</th>\n",
       "      <th>...</th>\n",
       "      <th>angles_60_data</th>\n",
       "      <th>distance_60_data</th>\n",
       "      <th>distance_mean_120</th>\n",
       "      <th>distance_std_120</th>\n",
       "      <th>angles_mean_120</th>\n",
       "      <th>angles_std_120</th>\n",
       "      <th>angles_120_data</th>\n",
       "      <th>distance_120_data</th>\n",
       "      <th>unique_angles</th>\n",
       "      <th>net_names</th>\n",
       "    </tr>\n",
       "  </thead>\n",
       "  <tbody>\n",
       "    <tr>\n",
       "      <th>0</th>\n",
       "      <td>0</td>\n",
       "      <td>intermetallics_search_000071.cif</td>\n",
       "      <td>intermetallics_search_000071.cif</td>\n",
       "      <td>166</td>\n",
       "      <td>30</td>\n",
       "      <td>defaultdict(&lt;class 'float'&gt;, {'Fe0+': 18.0, 'S...</td>\n",
       "      <td>Fe3Sn2-71-Cagome_big.gph</td>\n",
       "      <td>[-0.10606060825053208, -0.06123412072386011, 1...</td>\n",
       "      <td>[6, 6, 6, 6]</td>\n",
       "      <td>2.0</td>\n",
       "      <td>...</td>\n",
       "      <td>[60.0, 60.0, 59.074, 59.074, 61.091, 61.091, 6...</td>\n",
       "      <td>[2.59024, 2.75376, 2.67911, 2.67911, 2.67909, ...</td>\n",
       "      <td>4.63033</td>\n",
       "      <td>0.03339</td>\n",
       "      <td>119.83550</td>\n",
       "      <td>0.73868</td>\n",
       "      <td>[120.0, 120.0, 120.926, 120.926, 118.909, 118....</td>\n",
       "      <td>[4.62876, 4.62876, 4.58473, 4.58473, 4.67907, ...</td>\n",
       "      <td>[57.817, 59.074, 60.0, 61.091, 61.852, 118.909...</td>\n",
       "      <td>Likely_Filled</td>\n",
       "    </tr>\n",
       "    <tr>\n",
       "      <th>18</th>\n",
       "      <td>18</td>\n",
       "      <td>intermetallics_search_002414.cif</td>\n",
       "      <td>intermetallics_search_002414.cif</td>\n",
       "      <td>166</td>\n",
       "      <td>36</td>\n",
       "      <td>defaultdict(&lt;class 'float'&gt;, {'Hf0+': 9.0, 'Ni...</td>\n",
       "      <td>HfNi3-2414-Cagome_big.gph</td>\n",
       "      <td>[9.235182172113557e-17, 1.599580473925498e-16,...</td>\n",
       "      <td>[6, 6, 6, 6]</td>\n",
       "      <td>2.0</td>\n",
       "      <td>...</td>\n",
       "      <td>[60.0, 60.0, 60.0, 60.0, 60.0, 60.0, 60.0, 60....</td>\n",
       "      <td>[2.63935, 2.63935, 2.63935, 2.63935, 2.63935, ...</td>\n",
       "      <td>4.57149</td>\n",
       "      <td>0.00000</td>\n",
       "      <td>120.00000</td>\n",
       "      <td>0.00000</td>\n",
       "      <td>[120.0, 120.0, 120.0, 120.0, 120.0, 120.0, 120...</td>\n",
       "      <td>[4.57149, 4.57149, 4.57149, 4.57149, 4.57149, ...</td>\n",
       "      <td>[60.0, 120.0]</td>\n",
       "      <td>Likely_Filled</td>\n",
       "    </tr>\n",
       "    <tr>\n",
       "      <th>19</th>\n",
       "      <td>19</td>\n",
       "      <td>intermetallics_search_002414.cif</td>\n",
       "      <td>intermetallics_search_002414.cif</td>\n",
       "      <td>166</td>\n",
       "      <td>36</td>\n",
       "      <td>defaultdict(&lt;class 'float'&gt;, {'Hf0+': 9.0, 'Ni...</td>\n",
       "      <td>HfNi3-2414-Cagome_big_1.gph</td>\n",
       "      <td>[0.0, -5.462017949042774e-16, 2.62015166647399...</td>\n",
       "      <td>[6, 6, 6, 6]</td>\n",
       "      <td>2.0</td>\n",
       "      <td>...</td>\n",
       "      <td>[64.45, 64.45, 64.45, 55.465, 55.465, 55.465, ...</td>\n",
       "      <td>[2.81883, 2.81883, 2.81883, 2.45989, 2.45989, ...</td>\n",
       "      <td>4.57374</td>\n",
       "      <td>0.07326</td>\n",
       "      <td>119.95725</td>\n",
       "      <td>1.58930</td>\n",
       "      <td>[119.872, 119.872, 119.872, 119.872, 119.872, ...</td>\n",
       "      <td>[4.57501, 4.57501, 4.57501, 4.57501, 4.57501, ...</td>\n",
       "      <td>[55.465, 57.775, 60.0, 62.268, 64.45, 117.732,...</td>\n",
       "      <td>Likely_Filled</td>\n",
       "    </tr>\n",
       "    <tr>\n",
       "      <th>20</th>\n",
       "      <td>20</td>\n",
       "      <td>intermetallics_search_002415.cif</td>\n",
       "      <td>intermetallics_search_002415.cif</td>\n",
       "      <td>194</td>\n",
       "      <td>40</td>\n",
       "      <td>defaultdict(&lt;class 'float'&gt;, {'Hf0+': 10.0, 'N...</td>\n",
       "      <td>HfNi3-2415-Cagome_big.gph</td>\n",
       "      <td>[9.44441886217379e-16, 5.452737772415611e-16, ...</td>\n",
       "      <td>[6, 6, 6, 6]</td>\n",
       "      <td>2.0</td>\n",
       "      <td>...</td>\n",
       "      <td>[64.642, 64.642, 64.642, 55.358, 55.358, 55.35...</td>\n",
       "      <td>[2.82651, 2.82651, 2.82651, 2.45569, 2.45569, ...</td>\n",
       "      <td>4.57640</td>\n",
       "      <td>0.07572</td>\n",
       "      <td>120.00000</td>\n",
       "      <td>1.64119</td>\n",
       "      <td>[120.0, 120.0, 120.0, 120.0, 120.0, 120.0, 120...</td>\n",
       "      <td>[4.57828, 4.57828, 4.57828, 4.57828, 4.57828, ...</td>\n",
       "      <td>[55.358, 57.679, 60.0, 62.321, 64.642, 117.679...</td>\n",
       "      <td>Likely_Filled</td>\n",
       "    </tr>\n",
       "    <tr>\n",
       "      <th>21</th>\n",
       "      <td>21</td>\n",
       "      <td>intermetallics_search_002415.cif</td>\n",
       "      <td>intermetallics_search_002415.cif</td>\n",
       "      <td>194</td>\n",
       "      <td>40</td>\n",
       "      <td>defaultdict(&lt;class 'float'&gt;, {'Hf0+': 10.0, 'N...</td>\n",
       "      <td>HfNi3-2415-Cagome_big_2.gph</td>\n",
       "      <td>[1.3509439757680297e-16, 7.799678680697746e-17...</td>\n",
       "      <td>[6, 6, 6, 6]</td>\n",
       "      <td>2.0</td>\n",
       "      <td>...</td>\n",
       "      <td>[64.159, 64.159, 64.159, 55.706, 55.706, 55.70...</td>\n",
       "      <td>[2.81015, 2.81015, 2.81015, 2.47209, 2.47209, ...</td>\n",
       "      <td>4.57687</td>\n",
       "      <td>0.06899</td>\n",
       "      <td>119.93225</td>\n",
       "      <td>1.49622</td>\n",
       "      <td>[119.797, 119.797, 119.797, 119.797, 119.797, ...</td>\n",
       "      <td>[4.57765, 4.57765, 4.57765, 4.57765, 4.57765, ...</td>\n",
       "      <td>[55.706, 57.921, 60.0, 62.147, 64.159, 117.853...</td>\n",
       "      <td>Likely_Filled</td>\n",
       "    </tr>\n",
       "    <tr>\n",
       "      <th>...</th>\n",
       "      <td>...</td>\n",
       "      <td>...</td>\n",
       "      <td>...</td>\n",
       "      <td>...</td>\n",
       "      <td>...</td>\n",
       "      <td>...</td>\n",
       "      <td>...</td>\n",
       "      <td>...</td>\n",
       "      <td>...</td>\n",
       "      <td>...</td>\n",
       "      <td>...</td>\n",
       "      <td>...</td>\n",
       "      <td>...</td>\n",
       "      <td>...</td>\n",
       "      <td>...</td>\n",
       "      <td>...</td>\n",
       "      <td>...</td>\n",
       "      <td>...</td>\n",
       "      <td>...</td>\n",
       "      <td>...</td>\n",
       "      <td>...</td>\n",
       "    </tr>\n",
       "    <tr>\n",
       "      <th>17754</th>\n",
       "      <td>17754</td>\n",
       "      <td>intermetallics_search_687392.cif</td>\n",
       "      <td>intermetallics_search_687392.cif</td>\n",
       "      <td>225</td>\n",
       "      <td>16</td>\n",
       "      <td>defaultdict(&lt;class 'float'&gt;, {'Fe0+': 12.5, 'A...</td>\n",
       "      <td>Fe3.125Al0.875-687392-Cagome_big_1.gph</td>\n",
       "      <td>[-0.22880277777777774, -0.2288027777777778, 0....</td>\n",
       "      <td>[6, 6, 6, 6, 6, 6]</td>\n",
       "      <td>2.0</td>\n",
       "      <td>...</td>\n",
       "      <td>[54.736, 54.736, 54.736, 54.736, 70.529, 70.52...</td>\n",
       "      <td>[2.48551, 2.48551, 2.48551, 2.48551, 2.87, 2.8...</td>\n",
       "      <td>4.52583</td>\n",
       "      <td>0.33025</td>\n",
       "      <td>119.99967</td>\n",
       "      <td>7.44489</td>\n",
       "      <td>[125.264, 125.264, 125.264, 125.264, 109.471, ...</td>\n",
       "      <td>[4.75935, 4.75935, 4.75935, 4.75935, 4.05878, ...</td>\n",
       "      <td>[54.736, 70.529, 109.471, 125.264]</td>\n",
       "      <td>Likely_Filled</td>\n",
       "    </tr>\n",
       "    <tr>\n",
       "      <th>17755</th>\n",
       "      <td>17755</td>\n",
       "      <td>intermetallics_search_687392.cif</td>\n",
       "      <td>intermetallics_search_687392.cif</td>\n",
       "      <td>225</td>\n",
       "      <td>16</td>\n",
       "      <td>defaultdict(&lt;class 'float'&gt;, {'Fe0+': 12.5, 'A...</td>\n",
       "      <td>Fe3.125Al0.875-687392-Cagome_big_2.gph</td>\n",
       "      <td>[-1.874317694514235e-17, 0.24226176470588232, ...</td>\n",
       "      <td>[6, 6, 6, 6, 6, 6]</td>\n",
       "      <td>2.0</td>\n",
       "      <td>...</td>\n",
       "      <td>[54.736, 54.736, 54.736, 54.736, 70.529, 70.52...</td>\n",
       "      <td>[2.48551, 2.48551, 2.48551, 2.48551, 2.87, 2.8...</td>\n",
       "      <td>4.52583</td>\n",
       "      <td>0.33025</td>\n",
       "      <td>119.99967</td>\n",
       "      <td>7.44489</td>\n",
       "      <td>[125.264, 125.264, 125.264, 125.264, 109.471, ...</td>\n",
       "      <td>[4.75935, 4.75935, 4.75935, 4.75935, 4.05878, ...</td>\n",
       "      <td>[54.736, 70.529, 109.471, 125.264]</td>\n",
       "      <td>Likely_Filled</td>\n",
       "    </tr>\n",
       "    <tr>\n",
       "      <th>17756</th>\n",
       "      <td>17756</td>\n",
       "      <td>intermetallics_search_687392.cif</td>\n",
       "      <td>intermetallics_search_687392.cif</td>\n",
       "      <td>225</td>\n",
       "      <td>16</td>\n",
       "      <td>defaultdict(&lt;class 'float'&gt;, {'Fe0+': 12.5, 'A...</td>\n",
       "      <td>Fe3.125Al0.875-687392-Cagome_big_5.gph</td>\n",
       "      <td>[2.7755575615628914e-17, -0.257403125, -0.2574...</td>\n",
       "      <td>[6, 6, 6, 6, 6, 6]</td>\n",
       "      <td>2.0</td>\n",
       "      <td>...</td>\n",
       "      <td>[54.736, 54.736, 54.736, 54.736, 70.529, 70.52...</td>\n",
       "      <td>[2.48551, 2.48551, 2.48551, 2.48551, 2.87, 2.8...</td>\n",
       "      <td>4.52583</td>\n",
       "      <td>0.33025</td>\n",
       "      <td>119.99967</td>\n",
       "      <td>7.44489</td>\n",
       "      <td>[125.264, 125.264, 125.264, 125.264, 109.471, ...</td>\n",
       "      <td>[4.75935, 4.75935, 4.75935, 4.75935, 4.05878, ...</td>\n",
       "      <td>[54.736, 70.529, 109.471, 125.264]</td>\n",
       "      <td>Likely_Filled</td>\n",
       "    </tr>\n",
       "    <tr>\n",
       "      <th>17775</th>\n",
       "      <td>17775</td>\n",
       "      <td>intermetallics_search_687540.cif</td>\n",
       "      <td>intermetallics_search_687540.cif</td>\n",
       "      <td>216</td>\n",
       "      <td>12</td>\n",
       "      <td>defaultdict(&lt;class 'float'&gt;, {'V0+': 4.0, 'In0...</td>\n",
       "      <td>CoVIn-687540-Cagome_big.gph</td>\n",
       "      <td>[-1.841449, -1.8414489999999997, -1.841449, -9...</td>\n",
       "      <td>[6, 6, 6, 6]</td>\n",
       "      <td>2.0</td>\n",
       "      <td>...</td>\n",
       "      <td>[60.0, 60.0, 60.0, 60.0, 60.0, 60.0, 60.0, 60....</td>\n",
       "      <td>[3.83818, 3.83818, 3.83818, 3.83818, 3.83818, ...</td>\n",
       "      <td>6.64792</td>\n",
       "      <td>0.00000</td>\n",
       "      <td>120.00000</td>\n",
       "      <td>0.00000</td>\n",
       "      <td>[120.0, 120.0, 120.0, 120.0, 120.0, 120.0, 120...</td>\n",
       "      <td>[6.64792, 6.64792, 6.64792, 6.64792, 6.64792, ...</td>\n",
       "      <td>[60.0, 120.0]</td>\n",
       "      <td>Likely_Filled</td>\n",
       "    </tr>\n",
       "    <tr>\n",
       "      <th>17776</th>\n",
       "      <td>17776</td>\n",
       "      <td>intermetallics_search_687540.cif</td>\n",
       "      <td>intermetallics_search_687540.cif</td>\n",
       "      <td>216</td>\n",
       "      <td>12</td>\n",
       "      <td>defaultdict(&lt;class 'float'&gt;, {'V0+': 4.0, 'In0...</td>\n",
       "      <td>CoVIn-687540-Cagome_big_1.gph</td>\n",
       "      <td>[1.8414489999999997, -1.8414489999999997, 1.84...</td>\n",
       "      <td>[6, 6, 6, 6]</td>\n",
       "      <td>2.0</td>\n",
       "      <td>...</td>\n",
       "      <td>[60.0, 60.0, 60.0, 60.0, 60.0, 60.0, 60.0, 60....</td>\n",
       "      <td>[3.83818, 3.83818, 3.83818, 3.83818, 3.83818, ...</td>\n",
       "      <td>6.64792</td>\n",
       "      <td>0.00000</td>\n",
       "      <td>120.00000</td>\n",
       "      <td>0.00000</td>\n",
       "      <td>[120.0, 120.0, 120.0, 120.0, 120.0, 120.0, 120...</td>\n",
       "      <td>[6.64792, 6.64792, 6.64792, 6.64792, 6.64792, ...</td>\n",
       "      <td>[60.0, 120.0]</td>\n",
       "      <td>Likely_Filled</td>\n",
       "    </tr>\n",
       "  </tbody>\n",
       "</table>\n",
       "<p>2575 rows × 25 columns</p>\n",
       "</div>"
      ],
      "text/plain": [
       "       Unnamed: 0                          cifs_ids  \\\n",
       "0               0  intermetallics_search_000071.cif   \n",
       "18             18  intermetallics_search_002414.cif   \n",
       "19             19  intermetallics_search_002414.cif   \n",
       "20             20  intermetallics_search_002415.cif   \n",
       "21             21  intermetallics_search_002415.cif   \n",
       "...           ...                               ...   \n",
       "17754       17754  intermetallics_search_687392.cif   \n",
       "17755       17755  intermetallics_search_687392.cif   \n",
       "17756       17756  intermetallics_search_687392.cif   \n",
       "17775       17775  intermetallics_search_687540.cif   \n",
       "17776       17776  intermetallics_search_687540.cif   \n",
       "\n",
       "                              cifs_name  space_group_num  num_atom  \\\n",
       "0      intermetallics_search_000071.cif              166        30   \n",
       "18     intermetallics_search_002414.cif              166        36   \n",
       "19     intermetallics_search_002414.cif              166        36   \n",
       "20     intermetallics_search_002415.cif              194        40   \n",
       "21     intermetallics_search_002415.cif              194        40   \n",
       "...                                 ...              ...       ...   \n",
       "17754  intermetallics_search_687392.cif              225        16   \n",
       "17755  intermetallics_search_687392.cif              225        16   \n",
       "17756  intermetallics_search_687392.cif              225        16   \n",
       "17775  intermetallics_search_687540.cif              216        12   \n",
       "17776  intermetallics_search_687540.cif              216        12   \n",
       "\n",
       "                                             composition  \\\n",
       "0      defaultdict(<class 'float'>, {'Fe0+': 18.0, 'S...   \n",
       "18     defaultdict(<class 'float'>, {'Hf0+': 9.0, 'Ni...   \n",
       "19     defaultdict(<class 'float'>, {'Hf0+': 9.0, 'Ni...   \n",
       "20     defaultdict(<class 'float'>, {'Hf0+': 10.0, 'N...   \n",
       "21     defaultdict(<class 'float'>, {'Hf0+': 10.0, 'N...   \n",
       "...                                                  ...   \n",
       "17754  defaultdict(<class 'float'>, {'Fe0+': 12.5, 'A...   \n",
       "17755  defaultdict(<class 'float'>, {'Fe0+': 12.5, 'A...   \n",
       "17756  defaultdict(<class 'float'>, {'Fe0+': 12.5, 'A...   \n",
       "17775  defaultdict(<class 'float'>, {'V0+': 4.0, 'In0...   \n",
       "17776  defaultdict(<class 'float'>, {'V0+': 4.0, 'In0...   \n",
       "\n",
       "                             unique_gph_files  \\\n",
       "0                    Fe3Sn2-71-Cagome_big.gph   \n",
       "18                  HfNi3-2414-Cagome_big.gph   \n",
       "19                HfNi3-2414-Cagome_big_1.gph   \n",
       "20                  HfNi3-2415-Cagome_big.gph   \n",
       "21                HfNi3-2415-Cagome_big_2.gph   \n",
       "...                                       ...   \n",
       "17754  Fe3.125Al0.875-687392-Cagome_big_1.gph   \n",
       "17755  Fe3.125Al0.875-687392-Cagome_big_2.gph   \n",
       "17756  Fe3.125Al0.875-687392-Cagome_big_5.gph   \n",
       "17775             CoVIn-687540-Cagome_big.gph   \n",
       "17776           CoVIn-687540-Cagome_big_1.gph   \n",
       "\n",
       "                                           plane_fun_gph            CN_plane  \\\n",
       "0      [-0.10606060825053208, -0.06123412072386011, 1...        [6, 6, 6, 6]   \n",
       "18     [9.235182172113557e-17, 1.599580473925498e-16,...        [6, 6, 6, 6]   \n",
       "19     [0.0, -5.462017949042774e-16, 2.62015166647399...        [6, 6, 6, 6]   \n",
       "20     [9.44441886217379e-16, 5.452737772415611e-16, ...        [6, 6, 6, 6]   \n",
       "21     [1.3509439757680297e-16, 7.799678680697746e-17...        [6, 6, 6, 6]   \n",
       "...                                                  ...                 ...   \n",
       "17754  [-0.22880277777777774, -0.2288027777777778, 0....  [6, 6, 6, 6, 6, 6]   \n",
       "17755  [-1.874317694514235e-17, 0.24226176470588232, ...  [6, 6, 6, 6, 6, 6]   \n",
       "17756  [2.7755575615628914e-17, -0.257403125, -0.2574...  [6, 6, 6, 6, 6, 6]   \n",
       "17775  [-1.841449, -1.8414489999999997, -1.841449, -9...        [6, 6, 6, 6]   \n",
       "17776  [1.8414489999999997, -1.8414489999999997, 1.84...        [6, 6, 6, 6]   \n",
       "\n",
       "       CN_group_index  ...                                     angles_60_data  \\\n",
       "0                 2.0  ...  [60.0, 60.0, 59.074, 59.074, 61.091, 61.091, 6...   \n",
       "18                2.0  ...  [60.0, 60.0, 60.0, 60.0, 60.0, 60.0, 60.0, 60....   \n",
       "19                2.0  ...  [64.45, 64.45, 64.45, 55.465, 55.465, 55.465, ...   \n",
       "20                2.0  ...  [64.642, 64.642, 64.642, 55.358, 55.358, 55.35...   \n",
       "21                2.0  ...  [64.159, 64.159, 64.159, 55.706, 55.706, 55.70...   \n",
       "...               ...  ...                                                ...   \n",
       "17754             2.0  ...  [54.736, 54.736, 54.736, 54.736, 70.529, 70.52...   \n",
       "17755             2.0  ...  [54.736, 54.736, 54.736, 54.736, 70.529, 70.52...   \n",
       "17756             2.0  ...  [54.736, 54.736, 54.736, 54.736, 70.529, 70.52...   \n",
       "17775             2.0  ...  [60.0, 60.0, 60.0, 60.0, 60.0, 60.0, 60.0, 60....   \n",
       "17776             2.0  ...  [60.0, 60.0, 60.0, 60.0, 60.0, 60.0, 60.0, 60....   \n",
       "\n",
       "                                        distance_60_data  distance_mean_120  \\\n",
       "0      [2.59024, 2.75376, 2.67911, 2.67911, 2.67909, ...            4.63033   \n",
       "18     [2.63935, 2.63935, 2.63935, 2.63935, 2.63935, ...            4.57149   \n",
       "19     [2.81883, 2.81883, 2.81883, 2.45989, 2.45989, ...            4.57374   \n",
       "20     [2.82651, 2.82651, 2.82651, 2.45569, 2.45569, ...            4.57640   \n",
       "21     [2.81015, 2.81015, 2.81015, 2.47209, 2.47209, ...            4.57687   \n",
       "...                                                  ...                ...   \n",
       "17754  [2.48551, 2.48551, 2.48551, 2.48551, 2.87, 2.8...            4.52583   \n",
       "17755  [2.48551, 2.48551, 2.48551, 2.48551, 2.87, 2.8...            4.52583   \n",
       "17756  [2.48551, 2.48551, 2.48551, 2.48551, 2.87, 2.8...            4.52583   \n",
       "17775  [3.83818, 3.83818, 3.83818, 3.83818, 3.83818, ...            6.64792   \n",
       "17776  [3.83818, 3.83818, 3.83818, 3.83818, 3.83818, ...            6.64792   \n",
       "\n",
       "       distance_std_120  angles_mean_120 angles_std_120  \\\n",
       "0               0.03339        119.83550        0.73868   \n",
       "18              0.00000        120.00000        0.00000   \n",
       "19              0.07326        119.95725        1.58930   \n",
       "20              0.07572        120.00000        1.64119   \n",
       "21              0.06899        119.93225        1.49622   \n",
       "...                 ...              ...            ...   \n",
       "17754           0.33025        119.99967        7.44489   \n",
       "17755           0.33025        119.99967        7.44489   \n",
       "17756           0.33025        119.99967        7.44489   \n",
       "17775           0.00000        120.00000        0.00000   \n",
       "17776           0.00000        120.00000        0.00000   \n",
       "\n",
       "                                         angles_120_data  \\\n",
       "0      [120.0, 120.0, 120.926, 120.926, 118.909, 118....   \n",
       "18     [120.0, 120.0, 120.0, 120.0, 120.0, 120.0, 120...   \n",
       "19     [119.872, 119.872, 119.872, 119.872, 119.872, ...   \n",
       "20     [120.0, 120.0, 120.0, 120.0, 120.0, 120.0, 120...   \n",
       "21     [119.797, 119.797, 119.797, 119.797, 119.797, ...   \n",
       "...                                                  ...   \n",
       "17754  [125.264, 125.264, 125.264, 125.264, 109.471, ...   \n",
       "17755  [125.264, 125.264, 125.264, 125.264, 109.471, ...   \n",
       "17756  [125.264, 125.264, 125.264, 125.264, 109.471, ...   \n",
       "17775  [120.0, 120.0, 120.0, 120.0, 120.0, 120.0, 120...   \n",
       "17776  [120.0, 120.0, 120.0, 120.0, 120.0, 120.0, 120...   \n",
       "\n",
       "                                       distance_120_data  \\\n",
       "0      [4.62876, 4.62876, 4.58473, 4.58473, 4.67907, ...   \n",
       "18     [4.57149, 4.57149, 4.57149, 4.57149, 4.57149, ...   \n",
       "19     [4.57501, 4.57501, 4.57501, 4.57501, 4.57501, ...   \n",
       "20     [4.57828, 4.57828, 4.57828, 4.57828, 4.57828, ...   \n",
       "21     [4.57765, 4.57765, 4.57765, 4.57765, 4.57765, ...   \n",
       "...                                                  ...   \n",
       "17754  [4.75935, 4.75935, 4.75935, 4.75935, 4.05878, ...   \n",
       "17755  [4.75935, 4.75935, 4.75935, 4.75935, 4.05878, ...   \n",
       "17756  [4.75935, 4.75935, 4.75935, 4.75935, 4.05878, ...   \n",
       "17775  [6.64792, 6.64792, 6.64792, 6.64792, 6.64792, ...   \n",
       "17776  [6.64792, 6.64792, 6.64792, 6.64792, 6.64792, ...   \n",
       "\n",
       "                                           unique_angles      net_names  \n",
       "0      [57.817, 59.074, 60.0, 61.091, 61.852, 118.909...  Likely_Filled  \n",
       "18                                         [60.0, 120.0]  Likely_Filled  \n",
       "19     [55.465, 57.775, 60.0, 62.268, 64.45, 117.732,...  Likely_Filled  \n",
       "20     [55.358, 57.679, 60.0, 62.321, 64.642, 117.679...  Likely_Filled  \n",
       "21     [55.706, 57.921, 60.0, 62.147, 64.159, 117.853...  Likely_Filled  \n",
       "...                                                  ...            ...  \n",
       "17754                 [54.736, 70.529, 109.471, 125.264]  Likely_Filled  \n",
       "17755                 [54.736, 70.529, 109.471, 125.264]  Likely_Filled  \n",
       "17756                 [54.736, 70.529, 109.471, 125.264]  Likely_Filled  \n",
       "17775                                      [60.0, 120.0]  Likely_Filled  \n",
       "17776                                      [60.0, 120.0]  Likely_Filled  \n",
       "\n",
       "[2575 rows x 25 columns]"
      ]
     },
     "execution_count": 459,
     "metadata": {},
     "output_type": "execute_result"
    }
   ],
   "source": [
    "data_expand[mask_G2]"
   ]
  },
  {
   "cell_type": "code",
   "execution_count": null,
   "id": "55c126f5-12c9-4c1c-8e9a-40d5f0f4888d",
   "metadata": {
    "tags": []
   },
   "outputs": [],
   "source": []
  },
  {
   "cell_type": "code",
   "execution_count": null,
   "id": "6c23630f-7882-4e2b-a7d4-ff9108871e78",
   "metadata": {
    "tags": []
   },
   "outputs": [],
   "source": []
  },
  {
   "cell_type": "code",
   "execution_count": null,
   "id": "dafd37cf-771f-4e03-873b-0a45d9a1049e",
   "metadata": {
    "tags": []
   },
   "outputs": [],
   "source": []
  },
  {
   "cell_type": "code",
   "execution_count": null,
   "id": "3101db0b-c2ce-4831-9d47-a9a9c1da6787",
   "metadata": {
    "tags": []
   },
   "outputs": [],
   "source": []
  },
  {
   "cell_type": "code",
   "execution_count": 460,
   "id": "e98f274a-0c15-4588-8c4b-4802d33a2f87",
   "metadata": {
    "tags": []
   },
   "outputs": [],
   "source": [
    "def transmat(lattice_A,lattice_B):\n",
    "    # transformation from lattice A to lattice B\n",
    "    M_A_B = np.dot(lattice_B, np.linalg.inv(lattice_A))\n",
    "    return M_A_B\n",
    "def clean_file(gphfile):\n",
    "    with open(gphfile) as fh:\n",
    "        lines = fh.readlines()\n",
    "        \n",
    "    vec_info = np.array([np.float64(x) for x in lines[1].strip('\\n').split(' ')])\n",
    "    #print(vec_info)\n",
    "    site_list = []\n",
    "    lattice = Lattice.from_parameters(a=vec_info[0],b=vec_info[1],c=vec_info[2],alpha=vec_info[3],beta=vec_info[4],gamma=vec_info[5])\n",
    "    for line in lines[2:]:\n",
    "        \n",
    "        ls = line.strip('\\n').split(' ')\n",
    "        \n",
    "        coor_txt = [ls[i+2] for i in range(3)]\n",
    "        ele = Species(ls[1])\n",
    "        coor = np.array([np.float64(x) for x in coor_txt])\n",
    "        \n",
    "        site = PeriodicSite(ele,coords=coor,lattice=lattice)\n",
    "        site_list.append(site)\n",
    "    structure = Structure.from_sites(site_list)\n",
    "    return structure\n",
    "def get_site_idx(structure_sub,structure_full):\n",
    "    site_sub = structure_sub.sites\n",
    "    site_full = structure_full.sites\n",
    "    \n",
    "    sub_full_ids = []\n",
    "    for i in range(len(site_sub)):\n",
    "        site_i = site_sub[i]\n",
    "        for j in range(len(site_full)):\n",
    "            site_j = site_full[j]\n",
    "            dist = np.linalg.norm(site_i.coords-site_j.coords)\n",
    "            if np.round(dist,1)==0:\n",
    "                #print(dist, site_i,site_j)\n",
    "                sub_full_ids.append(j)\n",
    "                \n",
    "    return sub_full_ids"
   ]
  },
  {
   "cell_type": "code",
   "execution_count": null,
   "id": "1315cc64-cda1-4ad4-a507-85a86f022baa",
   "metadata": {
    "tags": []
   },
   "outputs": [],
   "source": []
  },
  {
   "cell_type": "code",
   "execution_count": 461,
   "id": "6a9445d7-aa13-40fd-ab06-280e5f6539eb",
   "metadata": {
    "tags": []
   },
   "outputs": [
    {
     "data": {
      "application/vnd.jupyter.widget-view+json": {
       "model_id": "05e168628b904cc698ac88ed4dde4205",
       "version_major": 2,
       "version_minor": 0
      },
      "text/plain": [
       "  0%|          | 0/2575 [00:00<?, ?it/s]"
      ]
     },
     "metadata": {},
     "output_type": "display_data"
    }
   ],
   "source": [
    "# start looping to get the structures stored in a list: \n",
    "\n",
    "structure_full_list = []\n",
    "structure_sub_list = []\n",
    "structure_full_n_atom_list = []\n",
    "gph_top = '../Intermetallics_kagome_search_graph/'\n",
    "top_dir = '../../intermetallics_search_results2/'\n",
    "\n",
    "p_bar = tqdm(data_expand[mask_G2].index)\n",
    "#for i in range(len(sorted_cifs_ids_short)):\n",
    "for i in p_bar:\n",
    "    p_bar.set_description(f'Working on \"{i}\"')\n",
    "    cif_file = data_expand['cifs_name'][i]\n",
    "    try:\n",
    "        cif = CifParser(top_dir+cif_file,occupancy_tolerance=100,site_tolerance=0.008)\n",
    "        structure_full_orig = cif.get_structures(primitive=False)[0]\n",
    "    except:\n",
    "        cif = CifParser(top_dir+cif_file,occupancy_tolerance=101,site_tolerance=0.008)\n",
    "        structure_full_orig = cif.get_structures(primitive=False)[0]\n",
    "    \n",
    "    structure_full = structure_full_orig\n",
    "    structure_sub_ = []\n",
    "    \n",
    "    gph_fn = data_expand['unique_gph_files'][i]\n",
    "    structure_sub = clean_file(gph_top+gph_fn)\n",
    "    #\n",
    "    #new_structure_sub = Structure.from_sites(structure_sub.sites)\n",
    "    \n",
    "            \n",
    "    \n",
    "    structure_full_list.append(structure_full)\n",
    "    structure_sub_list.append(structure_sub)\n",
    "    \n",
    "    "
   ]
  },
  {
   "cell_type": "code",
   "execution_count": 464,
   "id": "bc124174-c23d-4a76-b765-a0b1defa9d03",
   "metadata": {
    "tags": []
   },
   "outputs": [],
   "source": [
    "all_jimages = get_all_images()"
   ]
  },
  {
   "cell_type": "code",
   "execution_count": 463,
   "id": "bd0af570-6117-4d14-9e13-04db13b2abc1",
   "metadata": {
    "tags": []
   },
   "outputs": [
    {
     "data": {
      "application/vnd.jupyter.widget-view+json": {
       "model_id": "35d501292dad47bfbd6edeb7cb0c3f05",
       "version_major": 2,
       "version_minor": 0
      },
      "text/plain": [
       "  0%|          | 0/2575 [00:00<?, ?it/s]"
      ]
     },
     "metadata": {},
     "output_type": "display_data"
    }
   ],
   "source": [
    "#filtered_3_remain_index = list(filtered_3_data.index)\n",
    "\n",
    "# filter round 4\n",
    "# build a planar structure based on the sites. \n",
    "filter_4_match_res = [] # document the ABCD of that plane\n",
    "plane_structures_list = []\n",
    "plane_structures_pbc_list = []\n",
    "p_bar = tqdm(data_expand[mask_G2].index)\n",
    "for i in p_bar:\n",
    "    p_bar.set_description(f'Working on \"{i}\"')\n",
    "    st_i = G_2_index.index(i)\n",
    "    structure_full = structure_full_list[st_i]        \n",
    "    pop_sites = populate_sites(structure_full,all_jimages)\n",
    "\n",
    "    \n",
    "    \n",
    "    structure_sub = structure_sub_list[st_i]\n",
    "    #A,B,C,D = get_plane_from_sites_m3(structure_sub.sites)\n",
    "    A,B,C,D = ast.literal_eval(data_expand['plane_fun_gph'][i])\n",
    "    \n",
    "    # get_plane_from_sites_m is not good enough\n",
    "    plane_my = Plane([A,B,C,-D])\n",
    "    #for site in structure_sub.sites:\n",
    "    #    print(calc_site_plane_distance(A,B,C,D,site))\n",
    "    sites_in_plane,sites_plane_dist = get_sites_in_plane(structure_full,pop_sites,A,B,C,D)\n",
    "    plane_sites = [structure_full.sites[x] for x in sites_in_plane]\n",
    "    sites_in_gph, sites_out_gph = get_site_in_out_gph(plane_sites,structure_sub)\n",
    "    # group atoms in the supercell based on the distance\n",
    "    points = [s.coords for s in plane_sites]\n",
    "    plane_dist_site_group = plane_my.distances_indices_groups(points,0.15)\n",
    "    # this gives us the sites with approximately the same distances to the plane\n",
    "    # so that I know these sites should be on the gph, but gph may exclude those sites\n",
    "\n",
    "\n",
    "    #print(np.round(plane_dist_site_group[0],2),plane_dist_site_group[2])\n",
    "    if len(plane_dist_site_group[2])>1:\n",
    "        num_sites_group = [(len(x)) for x in plane_dist_site_group[2]]\n",
    "        more_sites_group = num_sites_group.index(max(num_sites_group))\n",
    "        plane_sites_clean = [plane_sites[int(i)] for i in plane_dist_site_group[2][more_sites_group]]\n",
    "    else:\n",
    "        plane_sites_clean = plane_sites\n",
    "    # get plane_sites\n",
    "    # get A,B,C,D\n",
    "    if len(plane_sites_clean)<3:\n",
    "        #number of atoms <3\n",
    "        nA,nB,nC,nD,nplane_sites = [A,B,C,D,plane_sites]\n",
    "    elif len(plane_sites_clean)==3:\n",
    "        if points_collinear(plane_sites_clean):\n",
    "            nA,nB,nC,nD,nplane_sites = [A,B,C,D,plane_sites]\n",
    "        else:\n",
    "            # number of atoms ==3\n",
    "            nA,nB,nC,nD,nplane_sites = get_plane_from_sites(plane_sites_clean)\n",
    "    else:\n",
    "        # number of atoms > 3\n",
    "        nA,nB,nC,nD = get_plane_from_sites_m3(plane_sites_clean)\n",
    "    #match_fragment_plane.append([nA,nB,nC,nD]) \n",
    "    # make a cleaner plane_structure, this is crucial to further steps. \n",
    "    # 1. check if other sites are missed on the facets/edges \n",
    "    plane_sites_clean_ = [s for s in plane_sites_clean]\n",
    "    if len(plane_sites_clean)<len(plane_sites):\n",
    "        for site in plane_sites:\n",
    "            if site not in plane_sites_clean_:\n",
    "                if 0 in [np.round(x,1) for x in site.frac_coords]:\n",
    "                    plane_sites_clean_.append(site)\n",
    "                elif 1 in [np.round(x,1) for x in site.frac_coords]:\n",
    "                    plane_sites_clean_.append(site)\n",
    "    # 2. add atoms if needed  \n",
    "    plane_func = Plane([nA,nB,nC,-nD])\n",
    "    if len(plane_sites_clean)<len(plane_sites_clean_):\n",
    "        plane_sites_cleaned,plane_sites_pbc = get_plane_sites_clean(plane_sites,plane_sites_clean,all_jimages,plane_func)\n",
    "        if len(plane_sites_cleaned)>3:\n",
    "            nA,nB,nC,nD = get_plane_from_sites_m3(plane_sites_cleaned)\n",
    "    else:\n",
    "        #plane_sites_cleaned = get_plane_sites_clean_m2(plane_sites_clean)\n",
    "        plane_sites_cleaned,plane_sites_pbc = get_plane_sites_clean(plane_sites,plane_sites_clean,all_jimages,plane_func)\n",
    "        if len(plane_sites_cleaned)>3:\n",
    "            nA,nB,nC,nD = get_plane_from_sites_m3(plane_sites_cleaned)\n",
    "    # get plane structure\n",
    "    plane_structure = Structure.from_sites(plane_sites_cleaned)\n",
    "\n",
    "    # get plane structure with PBC \n",
    "    plane_structure_pbc = Structure.from_sites(plane_sites_pbc)\n",
    "\n",
    "\n",
    "\n",
    "    filter_4_match_res.append([nA,nB,nC,nD])\n",
    "    plane_structures_list.append(plane_structure)\n",
    "    plane_structures_pbc_list.append(plane_structure_pbc)\n",
    "    "
   ]
  },
  {
   "cell_type": "code",
   "execution_count": null,
   "id": "05b00446-4a95-4346-b3f2-7519362d062d",
   "metadata": {
    "tags": []
   },
   "outputs": [],
   "source": []
  },
  {
   "cell_type": "code",
   "execution_count": 15,
   "id": "7cb386b7-bac5-483c-abab-324d21365f6e",
   "metadata": {
    "tags": []
   },
   "outputs": [
    {
     "data": {
      "application/vnd.jupyter.widget-view+json": {
       "model_id": "a9d96a15a50f488bb5578d23755f5fea",
       "version_major": 2,
       "version_minor": 0
      },
      "text/plain": [
       "  0%|          | 0/2596 [00:00<?, ?it/s]"
      ]
     },
     "metadata": {},
     "output_type": "display_data"
    }
   ],
   "source": [
    "'''\n",
    "plane_structures_list = []\n",
    "plane_structures_pbc_list = []\n",
    "pbc_folder = './plane_structures_pbc_gph/'\n",
    "pls_folder = './plane_structures_gph/'\n",
    "G_2_index = list(data_expand[mask_G2].index[:])\n",
    "pbar = tqdm(G_2_index)\n",
    "for i in pbar:\n",
    "    filename = data_expand['unique_gph_files'][i].split('.gph')[0]\n",
    "    read_pbc = pbc_folder+filename+'.cif'\n",
    "    read_pls = pls_folder+filename+'.cif'\n",
    "    try:\n",
    "        pbc_cif = mycif.CifParser(read_pbc,occupancy_tolerance=100,site_tolerance=0.0001,round_frac=False)\n",
    "        plane_structure_pbc = pbc_cif.get_structures(primitive=False)[0]\n",
    "    except:\n",
    "        pbc_cif = mycif.CifParser(read_pbc,occupancy_tolerance=100,site_tolerance=0.0001,round_frac=False)\n",
    "        plane_structure_pbc = pbc_cif.get_structures(primitive=False)[0]\n",
    "    plane_structures_pbc_list.append(plane_structure_pbc)\n",
    "    \n",
    "    try:\n",
    "        pls_cif = mycif.CifParser(read_pls,occupancy_tolerance=100,site_tolerance=0.0001,round_frac=False)\n",
    "        plane_structure = pls_cif.get_structures(primitive=False)[0]\n",
    "    except:\n",
    "        pls_cif = mycif.CifParser(read_pls,occupancy_tolerance=100,site_tolerance=0.0001,round_frac=False)\n",
    "        plane_structure = pls_cif.get_structures(primitive=False)[0]\n",
    "    plane_structures_list.append(plane_structure)\n"
   ]
  },
  {
   "cell_type": "code",
   "execution_count": null,
   "id": "7e49b1bf-ce61-461a-bcfd-072e385bfc50",
   "metadata": {
    "tags": []
   },
   "outputs": [],
   "source": []
  },
  {
   "cell_type": "code",
   "execution_count": null,
   "id": "a6a26b61-f5ab-45fe-be92-b3af4cfc9aca",
   "metadata": {
    "tags": []
   },
   "outputs": [],
   "source": []
  },
  {
   "cell_type": "code",
   "execution_count": null,
   "id": "5f12de15-5724-4c92-a907-7b17468d376c",
   "metadata": {
    "tags": []
   },
   "outputs": [],
   "source": []
  },
  {
   "cell_type": "code",
   "execution_count": null,
   "id": "62e402d7-fac6-4af6-b2c6-12d1d3bbd9d3",
   "metadata": {
    "tags": []
   },
   "outputs": [],
   "source": []
  },
  {
   "cell_type": "code",
   "execution_count": null,
   "id": "07d4e571-426e-4cfb-96d6-042a6b4c41ca",
   "metadata": {
    "tags": []
   },
   "outputs": [],
   "source": []
  },
  {
   "cell_type": "code",
   "execution_count": 468,
   "id": "a5f5ffce-94f1-45f2-b63c-bc302918fa35",
   "metadata": {
    "tags": []
   },
   "outputs": [],
   "source": [
    "def check_plane_structure(structure):\n",
    "    # check the composition of a structure \n",
    "    # need to tell whether all the sites in this structure are compositionally identical\n",
    "    composition = structure.composition.as_dict()\n",
    "    if len(structure.sites)==1 or len(composition.keys())==1:\n",
    "        # hexagonal because only one site in the plane or the composition consists only one element\n",
    "        # done\n",
    "        return 'Likely Hexagonal'    \n",
    "    \n",
    "    else:\n",
    "        # the rest of the structures can be:\n",
    "        # 1. filled kagome - composition is A3-B\n",
    "        # 2. filled kagome - composition is (A,B)3-(C,D)\n",
    "        # 3. other types of sublattices: \n",
    "        #    hexagonal + honeycomb\n",
    "        #    three or more sublattice sites. \n",
    "        # \n",
    "        # check sublattice sites based on the composition of each site\n",
    "        site_composition = [site.species.as_dict() for site in structure]\n",
    "        unique_site_comp = [] # get unique compositions from all the sites \n",
    "        for s_comp in site_composition:\n",
    "            if s_comp not in unique_site_comp:\n",
    "                unique_site_comp.append(s_comp) \n",
    "        unique_site_comp_count = [] # count the number of sites with the same composition \n",
    "        unique_site_comp_group = [] # group the index of the sites with the same composition\n",
    "        \n",
    "        for uni_s_comp in unique_site_comp:\n",
    "            count = 0\n",
    "            site_comp_group = []\n",
    "            for i,s_comp in enumerate(site_composition):\n",
    "                if s_comp == uni_s_comp:\n",
    "                    count+=1\n",
    "                    site_comp_group.append(i)\n",
    "            unique_site_comp_group.append(site_comp_group)\n",
    "            unique_site_comp_count.append(count) \n",
    "        #print(unique_site_comp,len(unique_site_comp),unique_site_comp_count,unique_site_comp_group)\n",
    "        \n",
    "        if len(unique_site_comp) == 2:\n",
    "            # two sublattices \n",
    "            if unique_site_comp_count[0]/unique_site_comp_count[1] in [1/3,3]:\n",
    "                return 'Likely filled - 2'\n",
    "            else: \n",
    "                return 'Likely others - 2'\n",
    "        if len(unique_site_comp) == 3:\n",
    "            return 'Likely others - 3'\n",
    "        \n",
    "        if len(unique_site_comp) == 4:\n",
    "            return 'Likely others - 4'\n",
    "        \n",
    "        else: \n",
    "            return 'Likely others - x'\n",
    "        \n",
    "        "
   ]
  },
  {
   "cell_type": "code",
   "execution_count": 469,
   "id": "4a0e053a-18a8-42a1-98e4-ff15e6a60132",
   "metadata": {
    "tags": []
   },
   "outputs": [],
   "source": [
    "def make_empty_net(structure):\n",
    "    # for a potentially filled kagome net, take out the atoms and make an empty net structure. \n",
    "    composition = structure.composition.as_dict()\n",
    "    site_composition = [site.species.as_dict() for site in structure]\n",
    "    unique_site_comp = [] # get unique compositions from all the sites \n",
    "    for s_comp in site_composition:\n",
    "        if s_comp not in unique_site_comp:\n",
    "            unique_site_comp.append(s_comp) \n",
    "    unique_site_comp_count = [] # count the number of sites with the same composition \n",
    "    unique_site_comp_group = [] # group the index of the sites with the same composition\n",
    "\n",
    "    for uni_s_comp in unique_site_comp:\n",
    "        count = 0\n",
    "        site_comp_group = []\n",
    "        for i,s_comp in enumerate(site_composition):\n",
    "            if s_comp == uni_s_comp:\n",
    "                count+=1\n",
    "                site_comp_group.append(i)\n",
    "        unique_site_comp_group.append(site_comp_group)\n",
    "        unique_site_comp_count.append(count) \n",
    "    #print(unique_site_comp,len(unique_site_comp),unique_site_comp_count,unique_site_comp_group)\n",
    "    \n",
    "    if unique_site_comp_count[0]>unique_site_comp_count[1]:\n",
    "        sites_net_index = 0\n",
    "    else: \n",
    "        sites_net_index = 1\n",
    "    \n",
    "    new_sites = [structure.sites[i] for i in unique_site_comp_group[sites_net_index]]\n",
    "    \n",
    "    new_structure = Structure.from_sites(new_sites)\n",
    "    return new_structure"
   ]
  },
  {
   "cell_type": "code",
   "execution_count": null,
   "id": "baf7e31b-cb7e-4211-8f17-77f9adccda5f",
   "metadata": {},
   "outputs": [],
   "source": []
  },
  {
   "cell_type": "code",
   "execution_count": null,
   "id": "506eff92-d158-4dbc-9dd9-3c01a738aabd",
   "metadata": {
    "tags": []
   },
   "outputs": [],
   "source": []
  },
  {
   "cell_type": "code",
   "execution_count": null,
   "id": "17177841-d268-421a-80e3-1524cb1af0f2",
   "metadata": {
    "tags": []
   },
   "outputs": [],
   "source": []
  },
  {
   "cell_type": "code",
   "execution_count": null,
   "id": "4b878e2e-7d56-417b-a8be-641c2c0740bd",
   "metadata": {
    "tags": []
   },
   "outputs": [],
   "source": []
  },
  {
   "cell_type": "code",
   "execution_count": null,
   "id": "1e65fad7-86df-4e30-a7b8-efe1ac560085",
   "metadata": {
    "tags": []
   },
   "outputs": [],
   "source": []
  },
  {
   "cell_type": "code",
   "execution_count": 470,
   "id": "c6263bc1-7a15-4dbe-98c3-b78d02286474",
   "metadata": {
    "tags": []
   },
   "outputs": [],
   "source": [
    "#oth_index_2[91]"
   ]
  },
  {
   "cell_type": "code",
   "execution_count": null,
   "id": "bad6e4cd-36b0-4864-96b4-e4732f2cc2bf",
   "metadata": {
    "tags": []
   },
   "outputs": [],
   "source": []
  },
  {
   "cell_type": "code",
   "execution_count": null,
   "id": "d90bc510-9132-40e9-89b9-9a6a4bd4792c",
   "metadata": {
    "tags": []
   },
   "outputs": [],
   "source": []
  },
  {
   "cell_type": "code",
   "execution_count": null,
   "id": "c4f6b826-468b-4258-920d-5a5c6acb3e55",
   "metadata": {
    "tags": []
   },
   "outputs": [],
   "source": []
  },
  {
   "cell_type": "code",
   "execution_count": null,
   "id": "bd6783d0-7107-466b-b618-77369c86a17e",
   "metadata": {
    "tags": []
   },
   "outputs": [],
   "source": []
  },
  {
   "cell_type": "code",
   "execution_count": 471,
   "id": "a4c8de74-2050-439c-84d8-6f026c828b86",
   "metadata": {
    "tags": []
   },
   "outputs": [
    {
     "data": {
      "application/vnd.jupyter.widget-view+json": {
       "model_id": "78f256a378cf4125a1e4cb1fda9a94d8",
       "version_major": 2,
       "version_minor": 0
      },
      "text/plain": [
       "  0%|          | 0/2575 [00:00<?, ?it/s]"
      ]
     },
     "metadata": {},
     "output_type": "display_data"
    },
    {
     "name": "stdout",
     "output_type": "stream",
     "text": [
      "Likely others - 2 Likely filled - 2 5 7396 intermetallics_search_194417.cif 221\n",
      "Likely others - 2 Likely filled - 2 5 7398 intermetallics_search_194420.cif 221\n",
      "Likely others - 2 Likely filled - 2 5 7400 intermetallics_search_194423.cif 221\n",
      "Likely others - 2 Likely filled - 2 5 7426 intermetallics_search_194968.cif 99\n",
      "Likely others - 2 Likely filled - 2 5 7428 intermetallics_search_194968.cif 99\n",
      "Likely others - 2 Likely filled - 2 5 7430 intermetallics_search_194970.cif 99\n",
      "Likely others - 2 Likely filled - 2 5 7431 intermetallics_search_194970.cif 99\n",
      "Likely others - 2 Likely filled - 2 5 7432 intermetallics_search_194970.cif 99\n",
      "Likely others - 2 Likely filled - 2 5 7433 intermetallics_search_194971.cif 99\n",
      "Likely others - 2 Likely filled - 2 5 7434 intermetallics_search_194971.cif 99\n",
      "Likely others - 2 Likely filled - 2 5 7435 intermetallics_search_194971.cif 99\n",
      "Likely others - 2 Likely filled - 2 5 16929 intermetallics_search_680381.cif 221\n",
      "Likely others - 2 Likely filled - 2 5 16930 intermetallics_search_680391.cif 221\n",
      "Likely others - 2 Likely filled - 2 5 16931 intermetallics_search_680401.cif 221\n"
     ]
    }
   ],
   "source": [
    "# analyze whether the plane structure is a hexagonal close-packed plane \n",
    "test_labels_pbc = []\n",
    "test_labels_pls = []\n",
    "pbar = tqdm(G_2_index)\n",
    "for i in pbar:\n",
    "    st_i = G_2_index.index(i)\n",
    "    natom = data_expand['num_atom'][i]\n",
    "    \n",
    "    plane_structure_pbc = plane_structures_pbc_list[st_i]\n",
    "    \n",
    "    label1 = check_plane_structure(plane_structure_pbc)\n",
    "    \n",
    "    plane_structure = plane_structures_list[st_i]\n",
    "    label2 = check_plane_structure(plane_structure)\n",
    "    \n",
    "    #if label1!=label2:\n",
    "    #    print(label1,label2,natom,i,data_expand['cifs_name'][i],data_expand['space_group_num'][i])\n",
    "    if natom<6:\n",
    "        if 'Likely filled - 2' in [label1,label2] :\n",
    "            # these are not likely filled\n",
    "            print(label1,label2,natom,i,data_expand['cifs_name'][i],data_expand['space_group_num'][i])\n",
    "            label1 = 'Likely cubic'\n",
    "            label2 = 'Likely cubic'\n",
    "    test_labels_pbc.append(label1)        \n",
    "    test_labels_pls.append(label2)"
   ]
  },
  {
   "cell_type": "code",
   "execution_count": 472,
   "id": "a22f474c-0d66-4539-9446-1e47e19b0726",
   "metadata": {
    "tags": []
   },
   "outputs": [],
   "source": [
    "#data_expand.iloc[G_2_index][data_expand.iloc[G_2_index]['num_atom']<6]"
   ]
  },
  {
   "cell_type": "code",
   "execution_count": 473,
   "id": "2d09f0af-1c28-4e22-a240-f2653dac6ec6",
   "metadata": {
    "tags": []
   },
   "outputs": [],
   "source": [
    "hex_index = [i for i in range(len(test_labels_pls)) if 'Hex' in test_labels_pbc[i]]"
   ]
  },
  {
   "cell_type": "code",
   "execution_count": 474,
   "id": "68f89850-e326-40ba-b5a4-aafbd9383faf",
   "metadata": {
    "tags": []
   },
   "outputs": [],
   "source": [
    "fil_index = [i for i in range(len(test_labels_pls)) if 'Likely filled - 2' in [test_labels_pbc[i],test_labels_pls[i]]]"
   ]
  },
  {
   "cell_type": "code",
   "execution_count": 475,
   "id": "9029df09-d144-4b5e-9fe0-97389870aa1e",
   "metadata": {
    "tags": []
   },
   "outputs": [],
   "source": [
    "#fil_index.index(851)"
   ]
  },
  {
   "cell_type": "code",
   "execution_count": 476,
   "id": "b895024d-919d-45dd-bb42-0b6d6f197279",
   "metadata": {
    "tags": []
   },
   "outputs": [],
   "source": [
    "oth_index_2 = [i for i in range(len(test_labels_pls)) if 'Likely others - 2' in [test_labels_pbc[i], test_labels_pls[i]]]\n",
    "oth_index_3 = [i for i in range(len(test_labels_pls)) if 'Likely others - 3' in [test_labels_pbc[i], test_labels_pls[i]]]\n",
    "oth_index_4 = [i for i in range(len(test_labels_pls)) if 'Likely others - 4' in [test_labels_pbc[i], test_labels_pls[i]]]\n",
    "oth_index_x = [i for i in range(len(test_labels_pls)) if ('Likely others - x'==test_labels_pbc[i]) and ('Likely others - x'==test_labels_pls[i])]\n",
    "\n",
    "oth_index = [i for i in range(len(test_labels_pls)) if ('Likely others' in test_labels_pbc[i]) or ('Likely others' in test_labels_pls[i])]\n"
   ]
  },
  {
   "cell_type": "code",
   "execution_count": null,
   "id": "ce125eb7-ed0c-4118-b469-6aa678ff8831",
   "metadata": {
    "tags": []
   },
   "outputs": [],
   "source": []
  },
  {
   "cell_type": "code",
   "execution_count": null,
   "id": "eec8366a-6dd2-45a8-9791-95bf11d08cae",
   "metadata": {
    "tags": []
   },
   "outputs": [],
   "source": []
  },
  {
   "cell_type": "code",
   "execution_count": null,
   "id": "d3becc4b-d9e4-4647-ab19-fa9041260e9b",
   "metadata": {
    "tags": []
   },
   "outputs": [],
   "source": []
  },
  {
   "cell_type": "code",
   "execution_count": null,
   "id": "45fcb835-8bdc-45bd-9c75-bed0d761c13c",
   "metadata": {
    "tags": []
   },
   "outputs": [],
   "source": []
  },
  {
   "cell_type": "code",
   "execution_count": null,
   "id": "2dadf1f8-5478-4864-86f3-7fe47efc5550",
   "metadata": {
    "tags": []
   },
   "outputs": [],
   "source": []
  },
  {
   "cell_type": "code",
   "execution_count": null,
   "id": "c7ac4f29-2f4b-401c-8053-e57fc4c1dcde",
   "metadata": {},
   "outputs": [],
   "source": []
  },
  {
   "cell_type": "code",
   "execution_count": 481,
   "id": "a7ecb262-3457-4589-b1f5-f13858abe502",
   "metadata": {
    "tags": []
   },
   "outputs": [],
   "source": [
    "def get_1nn_m2(structure,\n",
    "            plane_structure_very_clean,\n",
    "            plane_func_coeffs,\n",
    "            NN_method=CrystalNN(x_diff_weight=0.0, porous_adjustment=False )):\n",
    "    # get the 1NN for each site within the radius r_d\n",
    "    A,B,C,D = plane_func_coeffs\n",
    "    plane_handle = Plane([A,B,C,-D])\n",
    "    sites = plane_structure_very_clean.sites\n",
    "    sites_nn_info = {}\n",
    "    B_NN_info_pre = NN_method.get_all_nn_info(structure=structure) \n",
    "    B_NN_info = [[] for x in sites]\n",
    "    \n",
    "    for i in range(len(sites)):\n",
    "        site_i_it = structure.sites.index(sites[i])\n",
    "        nn_site_index = range(len(B_NN_info_pre[site_i_it]))\n",
    "        #print(site_i_it)\n",
    "        for j in nn_site_index:\n",
    "            site_nn_j = B_NN_info_pre[site_i_it][j]\n",
    "            plane_to_point = np.abs(plane_handle.distances_indices_groups([site_nn_j['site'].coords])[0][0])\n",
    "            #if i!=site_nn_j['site_index']:\n",
    "            if plane_to_point<0.4:\n",
    "                #print(i)\n",
    "                B_NN_info[i].append(site_nn_j)\n",
    "\n",
    "    \n",
    "    #sites_coordination = [len(x) for x in B_NN_info]\n",
    "    #return sites,B_NN_info\n",
    "    \n",
    "    for i in range(len(sites)):\n",
    "        nn_site_index = range(len(B_NN_info[i]))   #np.unique([x['site_index'] for x in B_NN_info[i]])\n",
    "        angles_index_list = [(x[0],i,x[1]) for x in list(itertools.combinations(nn_site_index,2))]\n",
    "        #print(angles_index_list)\n",
    "        for j in range(len(B_NN_info[i])):\n",
    "            a = sites[i].coords \n",
    "            b = B_NN_info[i][j]['site'].coords\n",
    "            B_NN_info[i][j][\"distance\"] = np.round(np.linalg.norm(a-b),5) #np.round(sites[i].distance(B_NN_info[i][j]['site']),5)\n",
    "        #print(len(B_NN_info[i]))\n",
    "        angle_info = []\n",
    "        for x in angles_index_list:\n",
    "            if calc_angle(B_NN_info[i][x[0]]['site'],sites[i],B_NN_info[i][x[2]]['site']) not in [0,180]:\n",
    "                # (j,i,k)\n",
    "                j = B_NN_info[i][x[0]]['site_index']\n",
    "                k = B_NN_info[i][x[2]]['site_index']\n",
    "                # angle(j,i,k)\n",
    "                angle = calc_angle_m(B_NN_info[i][x[0]]['site'],sites[i],B_NN_info[i][x[2]]['site'])\n",
    "                # distances\n",
    "                dij = B_NN_info[i][x[0]]['distance']\n",
    "                dik = B_NN_info[i][x[2]]['distance']\n",
    "                djk = np.round(calculate_opposite_side_length(angle,dij,dik),5)\n",
    "                angle_info.append([j,i,k, angle, dij,dik,djk] )\n",
    "                \n",
    "        angle_info = [x for x in angle_info if str(x[3])!='nan' ]\n",
    "        sites_nn_info['{}'.format(str(i))]={\"nn_info\":B_NN_info[i],\n",
    "                                            \"angle_info\":angle_info}\n",
    "    return sites, sites_nn_info"
   ]
  },
  {
   "cell_type": "code",
   "execution_count": null,
   "id": "5efaf090-330a-4287-997f-076013000dd0",
   "metadata": {
    "tags": []
   },
   "outputs": [],
   "source": []
  },
  {
   "cell_type": "code",
   "execution_count": 482,
   "id": "030cc933-ae91-436e-aef0-6d8eafe65df2",
   "metadata": {
    "tags": []
   },
   "outputs": [
    {
     "data": {
      "text/plain": [
       "516"
      ]
     },
     "execution_count": 482,
     "metadata": {},
     "output_type": "execute_result"
    }
   ],
   "source": [
    "G_2_index.index(5097)"
   ]
  },
  {
   "cell_type": "code",
   "execution_count": null,
   "id": "0fe33a08-bc45-4c18-985b-9a71cb8f3204",
   "metadata": {
    "tags": []
   },
   "outputs": [],
   "source": []
  },
  {
   "cell_type": "code",
   "execution_count": null,
   "id": "08bacf31-8365-4b0f-8d9c-3928304b1ada",
   "metadata": {
    "tags": []
   },
   "outputs": [],
   "source": []
  },
  {
   "cell_type": "code",
   "execution_count": null,
   "id": "af57cd2f-091b-4251-b048-87d0d219eb11",
   "metadata": {
    "tags": []
   },
   "outputs": [],
   "source": []
  },
  {
   "cell_type": "code",
   "execution_count": null,
   "id": "e824c163-b31a-4f7c-bc4e-1971ac7b757a",
   "metadata": {
    "tags": []
   },
   "outputs": [],
   "source": []
  },
  {
   "cell_type": "code",
   "execution_count": 486,
   "id": "ec77c366-7f31-4fe7-b4b9-e391d8e7ea41",
   "metadata": {
    "tags": []
   },
   "outputs": [
    {
     "data": {
      "application/vnd.jupyter.widget-view+json": {
       "model_id": "96d32ff7668a4e628f502e3cc9d118e2",
       "version_major": 2,
       "version_minor": 0
      },
      "text/plain": [
       "  0%|          | 0/2575 [00:00<?, ?it/s]"
      ]
     },
     "metadata": {},
     "output_type": "display_data"
    }
   ],
   "source": [
    "# finer filter on filled nets \n",
    "oth_index_2_survive = []\n",
    "pbar = tqdm(G_2_index)\n",
    "for i in pbar:\n",
    "    st_i = G_2_index.index(i)\n",
    "    if st_i in oth_index_2:\n",
    "        # potentially filled index, \n",
    "        # then we measure it carefully. \n",
    "        # \n",
    "        nn_sites = None\n",
    "        nn_info = None\n",
    "        plane_structure_pbc = plane_structures_pbc_list[st_i]\n",
    "        \n",
    "        plane_structure = plane_structures_list[st_i]\n",
    "        \n",
    "        new_plane_structure_pbc = make_empty_net(plane_structure_pbc)\n",
    "        new_plane_structure = make_empty_net(plane_structure)\n",
    "        #absds = ast.literal_eval(data_expand['plane_fun_gph'][i])\n",
    "        absds = filter_4_match_res[st_i]\n",
    "        [A,B,C,D] = absds\n",
    "        for cutoff in range(7,30):\n",
    "            try:\n",
    "                # Try to call your function with the current parameter\n",
    "                C_NN = CrystalNN(distance_cutoffs=(2,2.4),x_diff_weight=0.0, porous_adjustment=False,search_cutoff=cutoff )\n",
    "                nn_sites,nn_info = get_1nn_m2(new_plane_structure_pbc,\n",
    "                                   new_plane_structure,\n",
    "                                   [A,B,C,D],\n",
    "                                   NN_method=C_NN\n",
    "                                  )\n",
    "                #cutoff_.append(cutoff)\n",
    "                break\n",
    "            except Exception as e:\n",
    "                # If there is an error, print it and continue to the next parameter\n",
    "                continue\n",
    "                \n",
    "        try:\n",
    "            keys = nn_info.keys()\n",
    "            CN = [len(nn_info[k]['nn_info']) for k in keys]\n",
    "            unique_CN = np.unique(CN)\n",
    "            if len(unique_CN)==1 and 4 in unique_CN:\n",
    "                oth_index_2_survive.append(st_i)\n",
    "        except:\n",
    "            continue\n"
   ]
  },
  {
   "cell_type": "code",
   "execution_count": null,
   "id": "e3df1ff6-f80c-4931-b1a6-5a310d16fb34",
   "metadata": {
    "tags": []
   },
   "outputs": [],
   "source": []
  },
  {
   "cell_type": "code",
   "execution_count": null,
   "id": "5e8d8309-50de-46c2-96c4-cda3da7157d8",
   "metadata": {
    "tags": []
   },
   "outputs": [],
   "source": []
  },
  {
   "cell_type": "code",
   "execution_count": null,
   "id": "3c88927c-19f6-445b-8f34-2a3560d3402c",
   "metadata": {
    "tags": []
   },
   "outputs": [],
   "source": []
  },
  {
   "cell_type": "code",
   "execution_count": null,
   "id": "ba02d457-bf51-4679-a317-20c9dafcbced",
   "metadata": {
    "tags": []
   },
   "outputs": [],
   "source": []
  },
  {
   "cell_type": "code",
   "execution_count": null,
   "id": "5739e79a-cf0b-458f-8d48-f8962237295c",
   "metadata": {
    "tags": []
   },
   "outputs": [],
   "source": []
  },
  {
   "cell_type": "code",
   "execution_count": null,
   "id": "f360c4ea-9709-4e11-b1d7-988217d0e214",
   "metadata": {
    "tags": []
   },
   "outputs": [],
   "source": []
  },
  {
   "cell_type": "code",
   "execution_count": null,
   "id": "ddf102a7-54a1-4d8e-917d-089c29638aa4",
   "metadata": {
    "tags": []
   },
   "outputs": [],
   "source": []
  },
  {
   "cell_type": "code",
   "execution_count": 496,
   "id": "c3d913ce-80e6-49e6-8868-570ed66bfa52",
   "metadata": {
    "tags": []
   },
   "outputs": [
    {
     "data": {
      "application/vnd.jupyter.widget-view+json": {
       "model_id": "11dd661771364f47988b530cbdd41dd8",
       "version_major": 2,
       "version_minor": 0
      },
      "text/plain": [
       "  0%|          | 0/2575 [00:00<?, ?it/s]"
      ]
     },
     "metadata": {},
     "output_type": "display_data"
    }
   ],
   "source": [
    "G_2_angles = []\n",
    "G_2_angle_distance_info_all = []\n",
    "G_2_CN = []\n",
    "G_2_CN_strange_index = []\n",
    "G_2_CN_strange_index_it = []\n",
    "G_2_CN_strange = []\n",
    "pbar = tqdm(G_2_index)\n",
    "\n",
    "for i in pbar:\n",
    "    st_i = G_2_index.index(i)\n",
    "    if st_i in fil_index+oth_index_2_survive:\n",
    "        # potentially filled index, \n",
    "        # then we measure it carefully. \n",
    "        # \n",
    "        nn_sites = None\n",
    "        nn_info = None\n",
    "        plane_structure_pbc = plane_structures_pbc_list[st_i]\n",
    "        \n",
    "        plane_structure = plane_structures_list[st_i]\n",
    "        \n",
    "        new_plane_structure_pbc = make_empty_net(plane_structure_pbc)\n",
    "        new_plane_structure = make_empty_net(plane_structure)\n",
    "        #absds = ast.literal_eval(data_expand['plane_fun_gph'][i])\n",
    "        absds = filter_4_match_res[st_i]\n",
    "        [A,B,C,D] = absds\n",
    "        for cutoff in range(7,30):\n",
    "            try:\n",
    "                # Try to call your function with the current parameter\n",
    "                C_NN = CrystalNN(distance_cutoffs=(2,2.4),x_diff_weight=0.0, porous_adjustment=False,search_cutoff=cutoff )\n",
    "                nn_sites,nn_info = get_1nn_m2(new_plane_structure_pbc,\n",
    "                                   new_plane_structure,\n",
    "                                   [A,B,C,D],\n",
    "                                   NN_method=C_NN\n",
    "                                  )\n",
    "                #cutoff_.append(cutoff)\n",
    "                break\n",
    "            except Exception as e:\n",
    "                # If there is an error, print it and continue to the next parameter\n",
    "                continue\n",
    "        keys = nn_info.keys()\n",
    "        G_2_angles.append(np.unique(np.concatenate([[x[3] for x in nn_info[k]['angle_info']]  for k in keys])))\n",
    "        G_2_angle_distance_info_all.append([ nn_info[k]['angle_info'] for k in keys])\n",
    "        CN = [len(nn_info[k]['nn_info']) for k in keys]\n",
    "        G_2_CN.append(CN)\n",
    "        if len(np.unique(CN)) != 1 or 0 in CN or 4 not in CN:\n",
    "            G_2_CN_strange_index.append(i)\n",
    "            G_2_CN_strange_index_it.append(st_i)\n",
    "            G_2_CN_strange.append(CN)\n",
    "            \n",
    "    else:\n",
    "        G_2_angles.append('NA')\n",
    "        G_2_angle_distance_info_all.append('NA')\n",
    "        G_2_CN.append('NA')"
   ]
  },
  {
   "cell_type": "code",
   "execution_count": null,
   "id": "b3decc97-076c-4159-b987-849ae70f62e3",
   "metadata": {
    "tags": []
   },
   "outputs": [],
   "source": []
  },
  {
   "cell_type": "code",
   "execution_count": 497,
   "id": "198a9a86-dc2f-4a23-8bd0-1f184df34ef7",
   "metadata": {
    "tags": []
   },
   "outputs": [],
   "source": [
    "new_fil_index = [x for x in fil_index+oth_index_2_survive if x not in G_2_CN_strange_index_it]"
   ]
  },
  {
   "cell_type": "code",
   "execution_count": null,
   "id": "a58fd700-f902-42a5-a696-b074a60b0d76",
   "metadata": {
    "tags": []
   },
   "outputs": [],
   "source": []
  },
  {
   "cell_type": "code",
   "execution_count": null,
   "id": "5bfee1b5-f183-494f-8365-96a703c779d7",
   "metadata": {
    "tags": []
   },
   "outputs": [],
   "source": []
  },
  {
   "cell_type": "code",
   "execution_count": null,
   "id": "0f5c7909-8686-463b-bedc-387c61be5dfe",
   "metadata": {
    "tags": []
   },
   "outputs": [],
   "source": []
  },
  {
   "cell_type": "code",
   "execution_count": 501,
   "id": "82fc7e29-6997-4673-8f64-a3d853946dfe",
   "metadata": {
    "tags": []
   },
   "outputs": [],
   "source": [
    "#data_expand.iloc[G_2_CN_strange_index]"
   ]
  },
  {
   "cell_type": "code",
   "execution_count": 502,
   "id": "01b1f65e-6b33-44bc-8f73-e1b9f50d23e3",
   "metadata": {
    "tags": []
   },
   "outputs": [],
   "source": [
    "# define functions to analyze std of angles around an atom and atomic distances\n",
    "def quantity_std(site_info):\n",
    "    '''\n",
    "    site_info: a list of sites information containing atom index, angles, and distances\n",
    "    site_info[i][ii]=[j,i,k,angle,dij,dik,djk] \n",
    "    return: site grouped angles and distances\n",
    "    '''\n",
    "    l_i = range(len(site_info))\n",
    "    all_si_di = []\n",
    "    all_si_angles = []\n",
    "    for i in l_i:\n",
    "        si = np.array(site_info[i])\n",
    "        si_angles = si.T[3]\n",
    "        jk = [] # site-j and site-k index\n",
    "        si_di = [] # distance around site-i\n",
    "        for j in range(len(si.T[0])):\n",
    "            j_a = si.T[0][j]\n",
    "            if j_a not in jk:\n",
    "                jk.append(j_a)\n",
    "                si_di.append(si.T[4][j])\n",
    "        for k in range(len(si.T[2])):\n",
    "            k_a = si.T[2][k]\n",
    "            if k_a not in jk:\n",
    "                jk.append(k_a)\n",
    "                si_di.append(si.T[4][k])\n",
    "        #print(jk)\n",
    "        all_si_di.append(np.array(si_di))\n",
    "        all_si_angles.append(si_angles)\n",
    "    all_si_di = np.array(all_si_di)\n",
    "    all_si_angles = np.array(all_si_angles)\n",
    "    return all_si_di,all_si_angles\n",
    "\n",
    "# define functions to get the angles and distances around specified sites-i\n",
    "def get_angles_distances_jik(site_info):\n",
    "    '''\n",
    "    site_info: a list of sites information containing atom index, angles, and distances\n",
    "    site_info[i][ii]=[j,i,k,angle,dij,dik,djk] \n",
    "    return: site grouped Angles_jik and Distances-djk\n",
    "    '''\n",
    "    l_i = range(len(site_info))\n",
    "    all_si_di = []\n",
    "    all_si_angles = []\n",
    "    for i in l_i:\n",
    "        si = np.array(site_info[i])\n",
    "        si_angles = si.T[3]\n",
    "        si_djk = si.T[-1]\n",
    "        \n",
    "        all_si_di.append(np.array(si_djk))\n",
    "        all_si_angles.append(si_angles)\n",
    "    all_si_di = np.array(all_si_di)\n",
    "    all_si_angles = np.array(all_si_angles)\n",
    "    return all_si_di,all_si_angles\n",
    "# function to group the nearest sites according to angles from get_angles_distances_jik\n",
    "def get_quantity_std(all_site_distances,all_site_angles,angles_around=60,delta=40):\n",
    "    '''\n",
    "    all_site_distances,all_site_angles: np.arrays from get_angles_distances_jik\n",
    "    angels_around: only return distances when the angles are roughtly equal to this value.\n",
    "    delta: difference between max and min angles for grouping the angles. \n",
    "    '''\n",
    "    l_i = range(len(all_site_distances))\n",
    "    selected_angles = np.array([])\n",
    "    selected_djk = np.array([])\n",
    "    for i in l_i:\n",
    "        #print(selected_angles)\n",
    "        si_angles = all_site_angles[i]#-angles_around\n",
    "        si_angles_abs = np.abs(all_site_angles[i]-angles_around)\n",
    "        si_djk = all_site_distances[i]\n",
    "        \n",
    "        angles_abs_sort,angles_abs_group,angles_abs_group_index = group_angles(si_angles_abs,delta=delta)\n",
    "        #print(np.array([si_angles[int(index)] for index in angles_abs_group_index[0]]))\n",
    "        selected_angles = np.concatenate([selected_angles,np.array([si_angles[int(index)] for index in angles_abs_group_index[0]])])\n",
    "        selected_djk = np.concatenate([selected_djk,np.array([si_djk[int(index)] for index in angles_abs_group_index[0]])])\n",
    "    return selected_angles,selected_djk"
   ]
  },
  {
   "cell_type": "code",
   "execution_count": null,
   "id": "cd3bbf3f-1db1-4f6d-a145-44d63d8c6f2e",
   "metadata": {
    "tags": []
   },
   "outputs": [],
   "source": []
  },
  {
   "cell_type": "code",
   "execution_count": null,
   "id": "462d5df6-1ee3-4eea-97f8-d23cd2593879",
   "metadata": {
    "tags": []
   },
   "outputs": [],
   "source": []
  },
  {
   "cell_type": "code",
   "execution_count": 503,
   "id": "befd3b3f-1b5c-4490-beb1-705ce8fc13b2",
   "metadata": {
    "tags": []
   },
   "outputs": [],
   "source": [
    "data_expand_G2 = deepcopy(data_expand[mask_G2])"
   ]
  },
  {
   "cell_type": "code",
   "execution_count": null,
   "id": "d1d6f0dc-b0d4-4574-a26d-3c0c7a07adc1",
   "metadata": {
    "tags": []
   },
   "outputs": [],
   "source": []
  },
  {
   "cell_type": "code",
   "execution_count": 504,
   "id": "57063fc1-d6b2-4041-b688-1ce89ac6a13b",
   "metadata": {
    "tags": []
   },
   "outputs": [],
   "source": [
    "G2_data_angles_around_60_mean = []\n",
    "G2_data_angles_around_60_std = []\n",
    "G2_data_djk_around_60_mean = []\n",
    "G2_data_djk_around_60_std = []\n",
    "G2_data_angles_around_60 = []\n",
    "G2_data_djk_around_60 = []\n",
    "\n",
    "# no data: 'NA'\n",
    "for i in data_expand_G2.index:\n",
    "    iG = G_2_index.index(i)\n",
    "    #print(i)\n",
    "    if iG in new_fil_index:\n",
    "        #print(iG)\n",
    "        \n",
    "        \n",
    "        G_2_angle_distance_info_ = G_2_angle_distance_info_all[iG]\n",
    "        #########\n",
    "        test_di,test_angles = get_angles_distances_jik(G_2_angle_distance_info_)\n",
    "        G2_angles_jik, G2_djk = get_quantity_std(test_di,test_angles,angles_around=60,delta=20)\n",
    "\n",
    "        G2_data_djk_around_60_std.append(np.round(np.std(G2_djk),4))\n",
    "        G2_data_angles_around_60_std.append(np.round(np.std(G2_angles_jik),4))\n",
    "        G2_data_djk_around_60_mean.append(np.round(np.mean(G2_djk),4))\n",
    "        G2_data_angles_around_60_mean.append(np.round(np.mean(G2_angles_jik),4))\n",
    "        G2_data_angles_around_60.append(list(np.round(G2_angles_jik,4)))\n",
    "        G2_data_djk_around_60.append(list(np.round(G2_djk,4)))\n",
    "        ##########\n",
    "        \n",
    "    else:\n",
    "        G2_data_djk_around_60_std.append('N/A')\n",
    "        G2_data_angles_around_60_std.append('N/A')\n",
    "        G2_data_djk_around_60_mean.append('N/A')\n",
    "        G2_data_angles_around_60_mean.append('N/A')\n",
    "        G2_data_angles_around_60.append('N/A')\n",
    "        G2_data_djk_around_60.append('N/A')"
   ]
  },
  {
   "cell_type": "code",
   "execution_count": 505,
   "id": "ed8342d4-39f0-4775-bd73-13cce30efeec",
   "metadata": {
    "tags": []
   },
   "outputs": [
    {
     "data": {
      "text/plain": [
       "(17776, 2574)"
      ]
     },
     "execution_count": 505,
     "metadata": {},
     "output_type": "execute_result"
    }
   ],
   "source": [
    "i,iG"
   ]
  },
  {
   "cell_type": "code",
   "execution_count": 506,
   "id": "ac75c813-a986-4e30-a747-b6bc93aee847",
   "metadata": {
    "tags": []
   },
   "outputs": [
    {
     "data": {
      "text/plain": [
       "[[[1, 0, 2, 120.0, 2.8425, 2.8425, 4.92335],\n",
       "  [1, 0, 2, 60.0, 2.8425, 2.8425, 2.8425],\n",
       "  [2, 0, 1, 60.0, 2.8425, 2.8425, 2.8425],\n",
       "  [2, 0, 1, 120.0, 2.8425, 2.8425, 4.92335]],\n",
       " [[0, 1, 2, 120.0, 2.8425, 2.8425, 4.92335],\n",
       "  [0, 1, 2, 60.0, 2.8425, 2.8425, 2.8425],\n",
       "  [2, 1, 0, 60.0, 2.8425, 2.8425, 2.8425],\n",
       "  [0, 1, 2, 120.0, 2.8425, 2.8425, 4.92335]],\n",
       " [[0, 2, 1, 60.0, 2.8425, 2.8425, 2.8425],\n",
       "  [0, 2, 1, 120.0, 2.8425, 2.8425, 4.92335],\n",
       "  [0, 2, 1, 120.0, 2.8425, 2.8425, 4.92335],\n",
       "  [0, 2, 1, 60.0, 2.8425, 2.8425, 2.8425]]]"
      ]
     },
     "execution_count": 506,
     "metadata": {},
     "output_type": "execute_result"
    }
   ],
   "source": [
    "G_2_angle_distance_info_"
   ]
  },
  {
   "cell_type": "code",
   "execution_count": 507,
   "id": "08924794-4b47-4c92-9865-3672f81f7b23",
   "metadata": {
    "tags": []
   },
   "outputs": [],
   "source": [
    "G2_data_angles_around_120_mean = []\n",
    "G2_data_angles_around_120_std = []\n",
    "G2_data_djk_around_120_mean = []\n",
    "G2_data_djk_around_120_std = []\n",
    "G2_data_angles_around_120 = []\n",
    "G2_data_djk_around_120 = []\n",
    "\n",
    "# no data: 'NA'\n",
    "for i in data_expand_G2.index:\n",
    "    iG = G_2_index.index(i)\n",
    "    #print(i)\n",
    "    if iG in new_fil_index:\n",
    "        #print(iG)\n",
    "        \n",
    "        \n",
    "        G_2_angle_distance_info_ = G_2_angle_distance_info_all[iG]\n",
    "        #########\n",
    "        test_di,test_angles = get_angles_distances_jik(G_2_angle_distance_info_)\n",
    "        G2_angles_jik, G2_djk = get_quantity_std(test_di,test_angles,angles_around=120,delta=20)\n",
    "\n",
    "        G2_data_djk_around_120_std.append(np.round(np.std(G2_djk),4))\n",
    "        G2_data_angles_around_120_std.append(np.round(np.std(G2_angles_jik),4))\n",
    "        G2_data_djk_around_120_mean.append(np.round(np.mean(G2_djk),4))\n",
    "        G2_data_angles_around_120_mean.append(np.round(np.mean(G2_angles_jik),4))\n",
    "        G2_data_angles_around_120.append(list(np.round(G2_angles_jik,4)))\n",
    "        G2_data_djk_around_120.append(list(np.round(G2_djk,4)))\n",
    "        ##########\n",
    "        \n",
    "    else:\n",
    "        G2_data_djk_around_120_std.append('N/A')\n",
    "        G2_data_angles_around_120_std.append('N/A')\n",
    "        G2_data_djk_around_120_mean.append('N/A')\n",
    "        G2_data_angles_around_120_mean.append('N/A')\n",
    "        G2_data_angles_around_120.append('N/A')\n",
    "        G2_data_djk_around_120.append('N/A')"
   ]
  },
  {
   "cell_type": "code",
   "execution_count": null,
   "id": "d983da1d-e669-4a5b-876a-449b68283a26",
   "metadata": {
    "tags": []
   },
   "outputs": [],
   "source": []
  },
  {
   "cell_type": "code",
   "execution_count": null,
   "id": "0f89fb43-cd8f-4b16-b7b0-dd84a21d63b8",
   "metadata": {
    "tags": []
   },
   "outputs": [],
   "source": []
  },
  {
   "cell_type": "code",
   "execution_count": null,
   "id": "a8b0f1d8-71af-4651-9ce5-d02f80f7912b",
   "metadata": {
    "tags": []
   },
   "outputs": [],
   "source": []
  },
  {
   "cell_type": "code",
   "execution_count": 508,
   "id": "3d6ef719-0cca-4fe1-bc42-005dc46a58be",
   "metadata": {
    "tags": []
   },
   "outputs": [],
   "source": [
    "for i in data_expand_G2.index[:]:\n",
    "    iG = G_2_index.index(i)\n",
    "    #print(i)\n",
    "    if iG in new_fil_index:\n",
    "        data_expand_G2['distance_mean_120'][i] = G2_data_djk_around_120_mean[iG]\n",
    "        data_expand_G2['distance_std_120'][i] = G2_data_djk_around_120_std[iG]\n",
    "        data_expand_G2['angles_mean_120'][i] = G2_data_angles_around_120_mean[iG]\n",
    "        data_expand_G2['angles_std_120'][i] = G2_data_angles_around_120_std[iG]\n",
    "        data_expand_G2['angles_120_data'][i] = G2_data_angles_around_120[iG]\n",
    "        data_expand_G2['distance_120_data'][i] = G2_data_djk_around_120[iG]\n",
    "        \n",
    "        \n",
    "        data_expand_G2['distance_mean_60'][i] = G2_data_djk_around_60_mean[iG]\n",
    "        data_expand_G2['distance_std_60'][i] = G2_data_djk_around_60_std[iG]\n",
    "        data_expand_G2['angles_mean_60'][i] = G2_data_angles_around_60_mean[iG]\n",
    "        data_expand_G2['angles_std_60'][i] = G2_data_angles_around_60_std[iG]\n",
    "        data_expand_G2['angles_60_data'][i] = G2_data_angles_around_60[iG]\n",
    "        data_expand_G2['distance_60_data'][i] = G2_data_djk_around_60[iG]\n",
    "        data_expand_G2['unique_angles'][i] = list(np.unique(G_2_angles[iG]))\n",
    "        #print(data_expand_G2['angles_std_60'][i],G2_data_angles_around_60_std[iG])\n",
    "        \n",
    "        data_expand_G2['net_names'][i] = 'Likely Filled'\n",
    "    else: \n",
    "        data_expand_G2['distance_mean_120'][i] = 'NA'\n",
    "        data_expand_G2['distance_std_120'][i] = 'NA'\n",
    "        data_expand_G2['angles_mean_120'][i] = 'NA'\n",
    "        data_expand_G2['angles_std_120'][i] = 'NA'\n",
    "        data_expand_G2['angles_120_data'][i] = 'NA'\n",
    "        data_expand_G2['distance_120_data'][i] = 'NA'\n",
    "        \n",
    "        data_expand_G2['distance_mean_60'][i] = 'NA'\n",
    "        data_expand_G2['distance_std_60'][i] = 'NA'\n",
    "        data_expand_G2['angles_mean_60'][i] = 'NA'\n",
    "        data_expand_G2['angles_std_60'][i] = 'NA'\n",
    "        data_expand_G2['angles_60_data'][i] = 'NA'\n",
    "        data_expand_G2['distance_60_data'][i] = 'NA'\n",
    "        \n",
    "        data_expand_G2['unique_angles'][i] = 'NA'\n",
    "        \n",
    "        if iG in hex_index:\n",
    "            data_expand_G2['net_names'][i] = 'Likely Hexagonal'\n",
    "        else:\n",
    "            data_expand_G2['net_names'][i] = 'Others'"
   ]
  },
  {
   "cell_type": "code",
   "execution_count": 509,
   "id": "802d04fe-3d21-4cc7-b9bc-5828e3615f31",
   "metadata": {
    "tags": []
   },
   "outputs": [],
   "source": [
    "data_expand_G2.to_csv('./bulk_1_all_grouped_multi_gph_expand_2_filled_20241111.csv')"
   ]
  },
  {
   "cell_type": "code",
   "execution_count": null,
   "id": "da3c7721-49bd-4bea-a174-eb3ab90e38a4",
   "metadata": {
    "tags": []
   },
   "outputs": [],
   "source": []
  },
  {
   "cell_type": "code",
   "execution_count": null,
   "id": "df499894-86bf-4807-8836-0eee6d754901",
   "metadata": {
    "tags": []
   },
   "outputs": [],
   "source": []
  },
  {
   "cell_type": "code",
   "execution_count": null,
   "id": "a38d9e0e-15b0-4e28-b6a0-0fada63c58a6",
   "metadata": {},
   "outputs": [],
   "source": []
  }
 ],
 "metadata": {
  "kernelspec": {
   "display_name": "Python 3 (ipykernel)",
   "language": "python",
   "name": "python3"
  },
  "language_info": {
   "codemirror_mode": {
    "name": "ipython",
    "version": 3
   },
   "file_extension": ".py",
   "mimetype": "text/x-python",
   "name": "python",
   "nbconvert_exporter": "python",
   "pygments_lexer": "ipython3",
   "version": "3.7.12"
  }
 },
 "nbformat": 4,
 "nbformat_minor": 5
}

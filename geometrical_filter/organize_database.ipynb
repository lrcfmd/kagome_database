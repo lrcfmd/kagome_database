{
 "cells": [
  {
   "cell_type": "code",
   "execution_count": 53,
   "id": "61237bcb-5d95-4736-b376-e918d903cb70",
   "metadata": {
    "tags": []
   },
   "outputs": [],
   "source": [
    "import matplotlib.pyplot as plt\n",
    "import numpy as np\n",
    "import pandas as pd\n",
    "%matplotlib inline\n",
    "from matplotlib import rc, font_manager\n",
    "ticks_font = font_manager.FontProperties(family='serif', style='normal',\n",
    "                                         size=24, weight='normal', stretch='normal')\n",
    "import math"
   ]
  },
  {
   "cell_type": "code",
   "execution_count": 136,
   "id": "90d63c81-0041-453c-8658-cd1dc70667ce",
   "metadata": {
    "tags": []
   },
   "outputs": [],
   "source": [
    "from pymatgen.io.cif import CifParser\n",
    "from pymatgen.io.vasp import Poscar\n",
    "from pymatgen.core import Structure"
   ]
  },
  {
   "cell_type": "code",
   "execution_count": 137,
   "id": "9f45dd56-2951-4281-beae-3ab621b97c83",
   "metadata": {
    "tags": []
   },
   "outputs": [],
   "source": [
    "empty_database_raw = pd.read_csv('./bulk_1_all_label_kagome_distortions_multi_gph_expand_20241111.csv')"
   ]
  },
  {
   "cell_type": "code",
   "execution_count": 138,
   "id": "cd586535-b18b-42bf-924e-4865716af6db",
   "metadata": {
    "tags": []
   },
   "outputs": [],
   "source": [
    "filled_database_raw = pd.read_csv('./bulk_1_all_label_kagome_distortions_multi_gph_expand_G2_20241111.csv')"
   ]
  },
  {
   "cell_type": "code",
   "execution_count": 139,
   "id": "7d1b12e9-256e-412d-a148-96d63c280218",
   "metadata": {
    "tags": []
   },
   "outputs": [],
   "source": [
    "All_Cu3Au_database_raw = pd.read_csv('./All_Cu3Au_structure_type_perfect_filled.csv')"
   ]
  },
  {
   "cell_type": "code",
   "execution_count": null,
   "id": "0aa41c51-7749-49eb-a7f9-8ef74aa3be7b",
   "metadata": {
    "tags": []
   },
   "outputs": [],
   "source": []
  },
  {
   "cell_type": "code",
   "execution_count": null,
   "id": "e4172b78-e870-4f76-a12e-4b1bcffe758a",
   "metadata": {
    "tags": []
   },
   "outputs": [],
   "source": []
  },
  {
   "cell_type": "code",
   "execution_count": 142,
   "id": "dbd72085-b0ed-452a-b5bd-ad2d4f40746b",
   "metadata": {
    "tags": []
   },
   "outputs": [],
   "source": [
    "classes = []\n",
    "for i in empty_database_raw.index:\n",
    "    if type(empty_database_raw['Kagome_group'][i])==str:\n",
    "        if empty_database_raw['Kagome_group'][i] not in classes:\n",
    "            classes.append(empty_database_raw['Kagome_group'][i])"
   ]
  },
  {
   "cell_type": "code",
   "execution_count": 143,
   "id": "50ef288e-6c11-41f1-9828-c5951727d65b",
   "metadata": {
    "tags": []
   },
   "outputs": [
    {
     "data": {
      "text/plain": [
       "['Perfect',\n",
       " 'Near Perfect',\n",
       " 'Breathing',\n",
       " 'Tension-b',\n",
       " 'Shuffle-a',\n",
       " 'Twist',\n",
       " 'Site Distortion',\n",
       " 'Shuffle-c',\n",
       " 'Tension-a',\n",
       " 'Shuffle-b']"
      ]
     },
     "execution_count": 143,
     "metadata": {},
     "output_type": "execute_result"
    }
   ],
   "source": [
    "classes"
   ]
  },
  {
   "cell_type": "code",
   "execution_count": 144,
   "id": "475aac0c-3e40-498c-a4f7-06e4d6e81a1b",
   "metadata": {
    "tags": []
   },
   "outputs": [],
   "source": [
    "empty_classes = []\n",
    "for i in empty_database_raw.index:\n",
    "    if type(empty_database_raw['Kagome_group'][i])==str:\n",
    "        if empty_database_raw['Kagome_group'][i] not in filled_classes:\n",
    "            filled_classes.append(empty_database_raw['Kagome_group'][i])"
   ]
  },
  {
   "cell_type": "code",
   "execution_count": 145,
   "id": "6ccf254b-5919-4101-a73b-5438f33a9a13",
   "metadata": {
    "tags": []
   },
   "outputs": [],
   "source": [
    "all_together_database = pd.DataFrame()"
   ]
  },
  {
   "cell_type": "code",
   "execution_count": 146,
   "id": "bae03ac1-18b2-490e-a46a-1081ef5fbd03",
   "metadata": {
    "tags": []
   },
   "outputs": [],
   "source": [
    "all_together_database['cifs_name'] = np.unique(empty_database_raw['cifs_ids'])"
   ]
  },
  {
   "cell_type": "code",
   "execution_count": 147,
   "id": "041a1198-a4c6-4379-b168-ba641c327308",
   "metadata": {
    "tags": []
   },
   "outputs": [],
   "source": [
    "all_together_database['empty'] = np.zeros(len(all_together_database))\n",
    "all_together_database['filled'] = np.zeros(len(all_together_database))\n",
    "all_together_database['empty_perfect'] = np.zeros(len(all_together_database))\n",
    "all_together_database['empty_distort'] = np.zeros(len(all_together_database))\n",
    "all_together_database['filled_perfect'] = np.zeros(len(all_together_database))\n",
    "all_together_database['filled_distort'] = np.zeros(len(all_together_database))\n",
    "all_together_database['sg'] = np.zeros(len(all_together_database))\n",
    "all_together_database['num_atom'] = np.zeros(len(all_together_database))\n"
   ]
  },
  {
   "cell_type": "code",
   "execution_count": 148,
   "id": "eca10525-6f30-4351-980b-d4d1501324c0",
   "metadata": {
    "tags": []
   },
   "outputs": [
    {
     "name": "stderr",
     "output_type": "stream",
     "text": [
      "/opt/anaconda3/lib/python3.7/site-packages/ipykernel_launcher.py:10: SettingWithCopyWarning: \n",
      "A value is trying to be set on a copy of a slice from a DataFrame\n",
      "\n",
      "See the caveats in the documentation: https://pandas.pydata.org/pandas-docs/stable/user_guide/indexing.html#returning-a-view-versus-a-copy\n",
      "  # Remove the CWD from sys.path while we load stuff.\n",
      "/opt/anaconda3/lib/python3.7/site-packages/ipykernel_launcher.py:11: SettingWithCopyWarning: \n",
      "A value is trying to be set on a copy of a slice from a DataFrame\n",
      "\n",
      "See the caveats in the documentation: https://pandas.pydata.org/pandas-docs/stable/user_guide/indexing.html#returning-a-view-versus-a-copy\n",
      "  # This is added back by InteractiveShellApp.init_path()\n",
      "/opt/anaconda3/lib/python3.7/site-packages/ipykernel_launcher.py:26: SettingWithCopyWarning: \n",
      "A value is trying to be set on a copy of a slice from a DataFrame\n",
      "\n",
      "See the caveats in the documentation: https://pandas.pydata.org/pandas-docs/stable/user_guide/indexing.html#returning-a-view-versus-a-copy\n",
      "/opt/anaconda3/lib/python3.7/site-packages/ipykernel_launcher.py:39: SettingWithCopyWarning: \n",
      "A value is trying to be set on a copy of a slice from a DataFrame\n",
      "\n",
      "See the caveats in the documentation: https://pandas.pydata.org/pandas-docs/stable/user_guide/indexing.html#returning-a-view-versus-a-copy\n",
      "/opt/anaconda3/lib/python3.7/site-packages/ipykernel_launcher.py:32: SettingWithCopyWarning: \n",
      "A value is trying to be set on a copy of a slice from a DataFrame\n",
      "\n",
      "See the caveats in the documentation: https://pandas.pydata.org/pandas-docs/stable/user_guide/indexing.html#returning-a-view-versus-a-copy\n",
      "/opt/anaconda3/lib/python3.7/site-packages/ipykernel_launcher.py:37: SettingWithCopyWarning: \n",
      "A value is trying to be set on a copy of a slice from a DataFrame\n",
      "\n",
      "See the caveats in the documentation: https://pandas.pydata.org/pandas-docs/stable/user_guide/indexing.html#returning-a-view-versus-a-copy\n",
      "/opt/anaconda3/lib/python3.7/site-packages/ipykernel_launcher.py:34: SettingWithCopyWarning: \n",
      "A value is trying to be set on a copy of a slice from a DataFrame\n",
      "\n",
      "See the caveats in the documentation: https://pandas.pydata.org/pandas-docs/stable/user_guide/indexing.html#returning-a-view-versus-a-copy\n",
      "/opt/anaconda3/lib/python3.7/site-packages/ipykernel_launcher.py:24: SettingWithCopyWarning: \n",
      "A value is trying to be set on a copy of a slice from a DataFrame\n",
      "\n",
      "See the caveats in the documentation: https://pandas.pydata.org/pandas-docs/stable/user_guide/indexing.html#returning-a-view-versus-a-copy\n",
      "/opt/anaconda3/lib/python3.7/site-packages/ipykernel_launcher.py:15: SettingWithCopyWarning: \n",
      "A value is trying to be set on a copy of a slice from a DataFrame\n",
      "\n",
      "See the caveats in the documentation: https://pandas.pydata.org/pandas-docs/stable/user_guide/indexing.html#returning-a-view-versus-a-copy\n",
      "  from ipykernel import kernelapp as app\n"
     ]
    }
   ],
   "source": [
    "# get empty nets first\n",
    "for i in all_together_database.index:\n",
    "    cifname = all_together_database['cifs_name'][i] \n",
    "    masked_empty_database = empty_database_raw[empty_database_raw['cifs_name']==cifname]\n",
    "    masked_filled_database = filled_database_raw[filled_database_raw['cifs_name']==cifname]\n",
    "    masked_All_Cu3Au_database = All_Cu3Au_database_raw[All_Cu3Au_database_raw['cifs_name']==cifname]\n",
    "    \n",
    "    num_atom = masked_empty_database['num_atom'].values[0]\n",
    "    space_group_num = masked_empty_database['space_group_num'].values[0]\n",
    "    all_together_database['sg'][i] = space_group_num\n",
    "    all_together_database['num_atom'][i] = num_atom\n",
    "    \n",
    "    already_classified_gph = []\n",
    "    if len(masked_All_Cu3Au_database)!=0:\n",
    "        all_together_database['filled_perfect'][i]=1\n",
    "        \n",
    "        \n",
    "    if len(masked_filled_database)!=0:\n",
    "        for j in masked_filled_database.index:\n",
    "            already_classified_gph.append(masked_filled_database['unique_gph_files'][j])\n",
    "            \n",
    "            if masked_filled_database['Kagome_group'][j] in classes:\n",
    "                if masked_filled_database['Kagome_group'][j]=='Perfect':\n",
    "                    all_together_database['filled_perfect'][i]=1\n",
    "                else: \n",
    "                    all_together_database['filled_distort'][i]=1\n",
    "    \n",
    "    if len(masked_empty_database)!=0:\n",
    "        for j in masked_empty_database.index:\n",
    "            if masked_empty_database['Kagome_group'][j] in classes:\n",
    "                if masked_empty_database['Kagome_group'][j]=='Perfect':\n",
    "                    all_together_database['empty_perfect'][i]=1\n",
    "                else: \n",
    "                    all_together_database['empty_distort'][i]=1\n",
    "                    \n",
    "    if all_together_database['empty_distort'][i]+all_together_database['empty_perfect'][i]>0:\n",
    "        all_together_database['empty'][i]=1\n",
    "    if all_together_database['filled_distort'][i]+all_together_database['filled_perfect'][i]>0:\n",
    "        all_together_database['filled'][i]=1\n",
    "        \n",
    "    "
   ]
  },
  {
   "cell_type": "code",
   "execution_count": null,
   "id": "6756a3d7-109f-456d-9dc0-50638efc4916",
   "metadata": {
    "tags": []
   },
   "outputs": [],
   "source": []
  },
  {
   "cell_type": "code",
   "execution_count": null,
   "id": "3ddffde6-d4d3-45e8-b683-06eb5db7b42a",
   "metadata": {
    "tags": []
   },
   "outputs": [],
   "source": []
  },
  {
   "cell_type": "code",
   "execution_count": null,
   "id": "fe93849d-7043-486f-bdb9-121ecbe29555",
   "metadata": {
    "tags": []
   },
   "outputs": [],
   "source": []
  },
  {
   "cell_type": "code",
   "execution_count": null,
   "id": "8432b8f2-b02b-4162-86e2-20176ceb88c5",
   "metadata": {},
   "outputs": [],
   "source": []
  },
  {
   "cell_type": "code",
   "execution_count": 153,
   "id": "496d9045-f90f-4cea-9bd9-3d9454f324d5",
   "metadata": {
    "tags": []
   },
   "outputs": [],
   "source": [
    "all_together_database.to_csv('./full_hex_dataset_kagome_database_class_20241111.csv')"
   ]
  },
  {
   "cell_type": "code",
   "execution_count": null,
   "id": "45f7b756-a4de-415e-bc12-7e3e478f2f4d",
   "metadata": {
    "tags": []
   },
   "outputs": [],
   "source": []
  },
  {
   "cell_type": "code",
   "execution_count": null,
   "id": "e678f962-73eb-401c-ba0c-b4a46e300641",
   "metadata": {
    "tags": []
   },
   "outputs": [],
   "source": []
  },
  {
   "cell_type": "code",
   "execution_count": null,
   "id": "ceba900a-1e86-4cfe-b46d-d12a7fee9082",
   "metadata": {
    "tags": []
   },
   "outputs": [],
   "source": []
  },
  {
   "cell_type": "code",
   "execution_count": null,
   "id": "9d4cfa94-e6ed-405c-84ed-5011876e6163",
   "metadata": {},
   "outputs": [],
   "source": []
  },
  {
   "cell_type": "code",
   "execution_count": null,
   "id": "3268a02d-d21c-405c-9908-f4a5e1a7b02d",
   "metadata": {},
   "outputs": [],
   "source": []
  },
  {
   "cell_type": "code",
   "execution_count": null,
   "id": "9b267477-a5ec-4c6f-b17d-c464e46446d1",
   "metadata": {
    "tags": []
   },
   "outputs": [],
   "source": []
  },
  {
   "cell_type": "code",
   "execution_count": null,
   "id": "85585e78-c01f-4082-b94e-dd8b90d452a9",
   "metadata": {
    "tags": []
   },
   "outputs": [],
   "source": []
  },
  {
   "cell_type": "code",
   "execution_count": null,
   "id": "4cbd1bff-874e-41cd-bae7-5a3070a2ff8a",
   "metadata": {
    "tags": []
   },
   "outputs": [],
   "source": []
  },
  {
   "cell_type": "code",
   "execution_count": null,
   "id": "182efa00-9558-42bd-9b3f-3aa0e17d57a5",
   "metadata": {
    "tags": []
   },
   "outputs": [],
   "source": []
  },
  {
   "cell_type": "code",
   "execution_count": null,
   "id": "95247103-42ff-4c27-87e4-5414302b80dd",
   "metadata": {},
   "outputs": [],
   "source": []
  }
 ],
 "metadata": {
  "kernelspec": {
   "display_name": "Python 3 (ipykernel)",
   "language": "python",
   "name": "python3"
  },
  "language_info": {
   "codemirror_mode": {
    "name": "ipython",
    "version": 3
   },
   "file_extension": ".py",
   "mimetype": "text/x-python",
   "name": "python",
   "nbconvert_exporter": "python",
   "pygments_lexer": "ipython3",
   "version": "3.7.12"
  }
 },
 "nbformat": 4,
 "nbformat_minor": 5
}

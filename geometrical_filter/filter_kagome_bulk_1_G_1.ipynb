{
 "cells": [
  {
   "cell_type": "code",
   "execution_count": 215,
   "id": "63411204-4e2c-4642-aed7-1152b71604c7",
   "metadata": {},
   "outputs": [],
   "source": [
    "# note: latest method using pymatgen CN model \n"
   ]
  },
  {
   "cell_type": "code",
   "execution_count": 2,
   "id": "f96d28a1-7e5d-47da-9ad6-077430bbab22",
   "metadata": {},
   "outputs": [],
   "source": [
    "import matplotlib.pyplot as plt\n",
    "import numpy as np\n",
    "import pandas as pd\n",
    "%matplotlib inline\n",
    "from matplotlib import rc, font_manager\n",
    "ticks_font = font_manager.FontProperties(family='serif', style='normal',\n",
    "                                         size=24, weight='normal', stretch='normal')\n",
    "\n",
    "from pymatgen.core import Structure, Site,PeriodicSite,Lattice,Species,IStructure\n",
    "import os\n",
    "from pymatgen.io.cif import CifFile, CifParser, CifWriter\n",
    "from pymatgen.io.vasp import *\n",
    "import crystal_toolkit\n",
    "from pymatgen.symmetry.analyzer import SpacegroupAnalyzer\n",
    "import alphashape\n",
    "from scipy.spatial import ConvexHull, Delaunay\n",
    "from pymatgen.analysis.structure_matcher import StructureMatcher\n",
    "import spglib\n"
   ]
  },
  {
   "cell_type": "code",
   "execution_count": 369,
   "id": "0f95e21d-017f-4013-8e3e-970d7e09b4c5",
   "metadata": {
    "tags": []
   },
   "outputs": [],
   "source": [
    "from copy import deepcopy"
   ]
  },
  {
   "cell_type": "code",
   "execution_count": 3,
   "id": "70429e04-4111-4d95-8f67-90397515d699",
   "metadata": {
    "tags": []
   },
   "outputs": [],
   "source": [
    "from pymatgen.analysis.molecule_structure_comparator import CovalentRadius"
   ]
  },
  {
   "cell_type": "code",
   "execution_count": 69,
   "id": "015965c7-279e-4424-8a4f-00205a8add39",
   "metadata": {
    "tags": []
   },
   "outputs": [
    {
     "name": "stdout",
     "output_type": "stream",
     "text": [
      "The autoreload extension is already loaded. To reload it, use:\n",
      "  %reload_ext autoreload\n"
     ]
    }
   ],
   "source": [
    "%load_ext autoreload\n",
    "%autoreload 2\n",
    "from kagome_tools import *\n",
    "import ast\n",
    "import plotly.graph_objects as go"
   ]
  },
  {
   "cell_type": "code",
   "execution_count": null,
   "id": "fed27427-bb09-4dd9-9ae8-2464873f7db2",
   "metadata": {
    "tags": []
   },
   "outputs": [],
   "source": []
  },
  {
   "cell_type": "code",
   "execution_count": 6,
   "id": "64e7ad9c-093c-484f-b375-d5ade862150a",
   "metadata": {},
   "outputs": [],
   "source": [
    "import warnings\n",
    "warnings.filterwarnings('ignore')"
   ]
  },
  {
   "cell_type": "code",
   "execution_count": 7,
   "id": "f30849f7-1fde-4b80-98c9-9e723af2a124",
   "metadata": {},
   "outputs": [],
   "source": [
    "from itertools import permutations\n",
    "import itertools"
   ]
  },
  {
   "cell_type": "code",
   "execution_count": 8,
   "id": "c71ecfdf-7cca-4809-987d-ab73b6ff4920",
   "metadata": {},
   "outputs": [],
   "source": [
    "import random\n",
    "import importlib\n",
    "from tqdm.notebook import tqdm, trange\n",
    "import time \n"
   ]
  },
  {
   "cell_type": "code",
   "execution_count": 9,
   "id": "4df09b56-cae3-4971-b1a6-5072e51a4d23",
   "metadata": {
    "tags": []
   },
   "outputs": [],
   "source": [
    "import ast"
   ]
  },
  {
   "cell_type": "code",
   "execution_count": null,
   "id": "91111ba3-2ac0-4f17-9451-67594d8e4126",
   "metadata": {
    "tags": []
   },
   "outputs": [],
   "source": []
  },
  {
   "cell_type": "code",
   "execution_count": 10,
   "id": "3309ce62-574a-49fe-80d6-ea7b0781547e",
   "metadata": {},
   "outputs": [],
   "source": [
    "from pymatgen.analysis.chemenv.utils.coordination_geometry_utils import Plane"
   ]
  },
  {
   "cell_type": "code",
   "execution_count": null,
   "id": "5c680f6e-236a-4688-b5e2-2927d728f9d3",
   "metadata": {},
   "outputs": [],
   "source": []
  },
  {
   "cell_type": "code",
   "execution_count": 11,
   "id": "87bccea9-bc73-4fed-8e26-a1e52f58b287",
   "metadata": {
    "tags": []
   },
   "outputs": [],
   "source": [
    "spg_data = [[],[]]\n",
    "spg_dict = {}\n",
    "for i in range(530):\n",
    "    i = i+1\n",
    "    spg_ = spglib.get_spacegroup_type(i)\n",
    "    if spg_['number'] not in spg_data[0]:\n",
    "        spg_data[0].append(spg_['number'])\n",
    "        spg_data[1].append(spg_['international_short'])\n",
    "        spg_dict[spg_['number']] = spg_['international_short']"
   ]
  },
  {
   "cell_type": "code",
   "execution_count": null,
   "id": "77e552f9-44c3-4b34-8daf-8407ebce0231",
   "metadata": {},
   "outputs": [],
   "source": []
  },
  {
   "cell_type": "code",
   "execution_count": 12,
   "id": "fcf808f3-32e3-40bd-853f-a12d9aff9f17",
   "metadata": {},
   "outputs": [],
   "source": [
    "# cif file locations\n",
    "top_dir = '../../intermetallics_search_results2/'"
   ]
  },
  {
   "cell_type": "code",
   "execution_count": 13,
   "id": "7bd58fec-407d-4d40-868f-3a2b5b6ba8eb",
   "metadata": {},
   "outputs": [],
   "source": [
    "all_files = os.listdir(top_dir)"
   ]
  },
  {
   "cell_type": "code",
   "execution_count": 14,
   "id": "e14ffe1c-8ee4-4ce9-adfa-068ace47a7a9",
   "metadata": {},
   "outputs": [],
   "source": [
    "# gph file locations\n",
    "gph_top = '../Intermetallics_kagome_search_graph/'\n",
    "all_gph = os.listdir(gph_top)"
   ]
  },
  {
   "cell_type": "code",
   "execution_count": 15,
   "id": "d61efeda-3050-4890-a96d-4f5bdd927804",
   "metadata": {},
   "outputs": [],
   "source": [
    "cifs = []\n",
    "gphs = []\n",
    "cifs_ids = []\n",
    "cifs_ids_short = []\n",
    "for f in all_files:\n",
    "    \n",
    "    cifs.append(f)\n",
    "    cifs_ids.append((f.split('_')[-1].split('.')[0]))\n",
    "    cifs_ids_short.append( int(f.split('_')[-1].split('.')[0]))\n",
    "for f in all_gph: \n",
    "\n",
    "    gphs.append(f)\n",
    "\n"
   ]
  },
  {
   "cell_type": "code",
   "execution_count": null,
   "id": "352fc6c3-f7bc-4fc3-bc19-2806fcabf284",
   "metadata": {},
   "outputs": [],
   "source": []
  },
  {
   "cell_type": "code",
   "execution_count": 16,
   "id": "8192c302-e4d2-4a7c-b7a9-c3547725280f",
   "metadata": {},
   "outputs": [],
   "source": [
    "sorted_cifs = [z for x,y,z in sorted(zip(cifs_ids_short,cifs_ids, cifs))]\n",
    "sorted_cifs_ids = [y for x,y,z in sorted(zip(cifs_ids_short,cifs_ids, cifs))]\n",
    "sorted_cifs_ids_short = [x for x,y,z in sorted(zip(cifs_ids_short,cifs_ids, cifs))]"
   ]
  },
  {
   "cell_type": "code",
   "execution_count": 17,
   "id": "18ed9638-e5ce-45fe-873c-d6724780a392",
   "metadata": {},
   "outputs": [],
   "source": [
    "def transmat(lattice_A,lattice_B):\n",
    "    # transformation from lattice A to lattice B\n",
    "    M_A_B = np.dot(lattice_B, np.linalg.inv(lattice_A))\n",
    "    return M_A_B"
   ]
  },
  {
   "cell_type": "code",
   "execution_count": 18,
   "id": "4fae7fb1-022a-4dd7-b0ec-ba0e11320c81",
   "metadata": {},
   "outputs": [],
   "source": [
    "def clean_file(gphfile):\n",
    "    with open(gphfile) as fh:\n",
    "        lines = fh.readlines()\n",
    "        \n",
    "    vec_info = np.array([np.float64(x) for x in lines[1].strip('\\n').split(' ')])\n",
    "    #print(vec_info)\n",
    "    site_list = []\n",
    "    lattice = Lattice.from_parameters(a=vec_info[0],b=vec_info[1],c=vec_info[2],alpha=vec_info[3],beta=vec_info[4],gamma=vec_info[5])\n",
    "    for line in lines[2:]:\n",
    "        \n",
    "        ls = line.strip('\\n').split(' ')\n",
    "        \n",
    "        coor_txt = [ls[i+2] for i in range(3)]\n",
    "        ele = Species(ls[1])\n",
    "        coor = np.array([np.float64(x) for x in coor_txt])\n",
    "        \n",
    "        site = PeriodicSite(ele,coords=coor,lattice=lattice)\n",
    "        site_list.append(site)\n",
    "    structure = Structure.from_sites(site_list)\n",
    "    return structure"
   ]
  },
  {
   "cell_type": "code",
   "execution_count": 19,
   "id": "05726c8f-602d-4553-8f6a-2038c2e741ad",
   "metadata": {},
   "outputs": [],
   "source": [
    "structure_sub = clean_file(gph_top+gphs[0])\n",
    "#structure"
   ]
  },
  {
   "cell_type": "code",
   "execution_count": null,
   "id": "4371a22a-b097-414c-a4b5-571073aca3e2",
   "metadata": {},
   "outputs": [],
   "source": []
  },
  {
   "cell_type": "code",
   "execution_count": 20,
   "id": "f1b97de7-05c6-4523-97e5-f19926c099f4",
   "metadata": {},
   "outputs": [
    {
     "data": {
      "text/plain": [
       "43170"
      ]
     },
     "execution_count": 20,
     "metadata": {},
     "output_type": "execute_result"
    }
   ],
   "source": [
    "len(cifs)"
   ]
  },
  {
   "cell_type": "code",
   "execution_count": null,
   "id": "9379b2e4-d0f4-4579-b386-9920b0c6aa95",
   "metadata": {},
   "outputs": [],
   "source": []
  },
  {
   "cell_type": "code",
   "execution_count": null,
   "id": "99a52c33-7fd8-4e74-9e2a-b6d3975a6a5d",
   "metadata": {},
   "outputs": [],
   "source": []
  },
  {
   "cell_type": "code",
   "execution_count": null,
   "id": "97775381-f9ca-41da-b877-21eeb230130f",
   "metadata": {},
   "outputs": [],
   "source": []
  },
  {
   "cell_type": "code",
   "execution_count": 21,
   "id": "8b1b7618-43d1-47a6-b238-c15243211cb6",
   "metadata": {},
   "outputs": [],
   "source": [
    "def get_site_idx(structure_sub,structure_full):\n",
    "    site_sub = structure_sub.sites\n",
    "    site_full = structure_full.sites\n",
    "    \n",
    "    sub_full_ids = []\n",
    "    for i in range(len(site_sub)):\n",
    "        site_i = site_sub[i]\n",
    "        for j in range(len(site_full)):\n",
    "            site_j = site_full[j]\n",
    "            dist = np.linalg.norm(site_i.coords-site_j.coords)\n",
    "            if np.round(dist,1)==0:\n",
    "                #print(dist, site_i,site_j)\n",
    "                sub_full_ids.append(j)\n",
    "                \n",
    "    return sub_full_ids"
   ]
  },
  {
   "cell_type": "code",
   "execution_count": null,
   "id": "6b11c586-7a52-49a7-8360-023ed9e42fda",
   "metadata": {},
   "outputs": [],
   "source": []
  },
  {
   "cell_type": "code",
   "execution_count": 22,
   "id": "4111565a-1d9b-44a6-b0f9-fabd4ab6ee3b",
   "metadata": {},
   "outputs": [],
   "source": [
    "data = pd.read_csv('./bulk_1_all.csv')\n"
   ]
  },
  {
   "cell_type": "code",
   "execution_count": null,
   "id": "dafac9b0-725f-49a7-807c-74983c384f4e",
   "metadata": {},
   "outputs": [],
   "source": []
  },
  {
   "cell_type": "code",
   "execution_count": null,
   "id": "ee7e56bd-0e1c-4675-bca2-e3c47f8f779e",
   "metadata": {},
   "outputs": [],
   "source": []
  },
  {
   "cell_type": "code",
   "execution_count": null,
   "id": "baec0e60-32c2-4023-953e-062a5392dcc2",
   "metadata": {},
   "outputs": [],
   "source": []
  },
  {
   "cell_type": "code",
   "execution_count": 25,
   "id": "aa4f2142-2e39-468f-b4e2-e9f3d673846f",
   "metadata": {},
   "outputs": [],
   "source": [
    "data['cifs_name'] = data['sorted_cifs_non_empty']"
   ]
  },
  {
   "cell_type": "code",
   "execution_count": null,
   "id": "0555fb7c-b1cf-4e2e-8010-1c0dc0a12c2a",
   "metadata": {},
   "outputs": [],
   "source": []
  },
  {
   "cell_type": "code",
   "execution_count": null,
   "id": "5cbb6eef-aab1-4238-9f9a-06bd960b162b",
   "metadata": {},
   "outputs": [],
   "source": []
  },
  {
   "cell_type": "code",
   "execution_count": null,
   "id": "f22ef3e1-6002-4e21-b206-6e4d491d7273",
   "metadata": {},
   "outputs": [],
   "source": []
  },
  {
   "cell_type": "code",
   "execution_count": 26,
   "id": "20fb487a-f3ce-4962-964d-795399d65ab5",
   "metadata": {},
   "outputs": [],
   "source": [
    "gph_write_cif_dir = '../Intermetallics_kagome_search_graph_gph_to_cifs/'"
   ]
  },
  {
   "cell_type": "code",
   "execution_count": 164,
   "id": "ea5d9959-47d7-45fd-abec-2e2b769ae174",
   "metadata": {},
   "outputs": [
    {
     "data": {
      "application/vnd.jupyter.widget-view+json": {
       "model_id": "cffd28c83e25432bb83d74d3892c6c36",
       "version_major": 2,
       "version_minor": 0
      },
      "text/plain": [
       "  0%|          | 0/15000 [00:00<?, ?it/s]"
      ]
     },
     "metadata": {},
     "output_type": "display_data"
    }
   ],
   "source": [
    "# start looping to get the structures stored in a list: \n",
    "# very simple one, just compare the sites \n",
    "miller_index_list = []\n",
    "structure_full_list = []\n",
    "structure_full_index_list = []\n",
    "structure_sub_list = []\n",
    "structure_full_n_atom_list = []\n",
    "spg_number_list = []\n",
    "\n",
    "p_bar = tqdm(range(len(data))[:])\n",
    "#for i in range(len(sorted_cifs_ids_short)):\n",
    "for i in p_bar:\n",
    "    p_bar.set_description(f'Working on \"{i}\"')\n",
    "    cif_file = data['cifs_name'][i]\n",
    "    try:\n",
    "        cif = CifParser(top_dir+cif_file,occupancy_tolerance=100,site_tolerance=0.008)\n",
    "        structure_full_orig = cif.get_structures(primitive=False)[0]\n",
    "    except:\n",
    "        cif = CifParser(top_dir+cif_file,occupancy_tolerance=101,site_tolerance=0.008)\n",
    "        structure_full_orig = cif.get_structures(primitive=False)[0]\n",
    "    \n",
    "    structure_full = structure_full_orig\n",
    "    structure_sub_ = []\n",
    "    gph_list = ast.literal_eval(data['gph_grouped_non_empty'][i])\n",
    "    for j in range(len(gph_list)):\n",
    "        \n",
    "        gph_fn = gph_list[j]\n",
    "        structure_sub = clean_file(gph_top+gph_fn)\n",
    "        #\n",
    "        new_structure_sub = Structure.from_sites(structure_sub.sites)\n",
    "        structure_sub_.append(structure_sub)\n",
    "        \n",
    "        #cw = CifWriter(structure_sub)\n",
    "        #cw.write_file(gph_write_cif_dir+'{}_{}.cif'.format(sorted_cifs_ids_non_empty[i],j))\n",
    "        \n",
    "    structure_full_n_atom_list.append(len(structure_full.sites))\n",
    "    structure_full_list.append(structure_full)\n",
    "    structure_sub_list.append(structure_sub_)\n",
    "    \n",
    "    cif_dict = cif.as_dict()\n",
    "    key=list(cif_dict.keys())[0]\n",
    "    spg_number_list.append(int(cif_dict[key]['_space_group_IT_number']))"
   ]
  },
  {
   "cell_type": "code",
   "execution_count": 168,
   "id": "acadcb4e-a69c-49e9-bb48-e39d119c463d",
   "metadata": {},
   "outputs": [],
   "source": [
    "compositions = []\n",
    "for i in range(len(structure_full_list)):\n",
    "    structure_full = structure_full_list[i]\n",
    "    comp = structure_full.composition.as_dict()\n",
    "    compositions.append(comp)"
   ]
  },
  {
   "cell_type": "code",
   "execution_count": 29,
   "id": "bf6da43f-5d7f-4306-9706-c00246f538a7",
   "metadata": {
    "tags": []
   },
   "outputs": [],
   "source": [
    "all_jimages = get_all_images()\n"
   ]
  },
  {
   "cell_type": "code",
   "execution_count": 84,
   "id": "7896be9a-866e-4a89-bfb7-ecdd48122925",
   "metadata": {},
   "outputs": [],
   "source": [
    "data['num_atom'] = structure_full_n_atom_list"
   ]
  },
  {
   "cell_type": "code",
   "execution_count": 166,
   "id": "c029da32-0c30-4e3f-ac89-66968fdcd084",
   "metadata": {},
   "outputs": [],
   "source": [
    "data['space_group_num'] = spg_number_list"
   ]
  },
  {
   "cell_type": "code",
   "execution_count": 427,
   "id": "2f52ccb1-ff90-4378-8a3a-69ee90c271db",
   "metadata": {},
   "outputs": [],
   "source": [
    "data['composition'] = compositions"
   ]
  },
  {
   "cell_type": "code",
   "execution_count": null,
   "id": "e97117e5-a931-4834-8056-60211922c374",
   "metadata": {
    "tags": []
   },
   "outputs": [],
   "source": []
  },
  {
   "cell_type": "code",
   "execution_count": null,
   "id": "44dda98e-ea95-4240-b01a-94e75649b316",
   "metadata": {},
   "outputs": [],
   "source": []
  },
  {
   "cell_type": "code",
   "execution_count": null,
   "id": "4c1e98d6-d0d8-4c69-b8f6-209eb8d2230b",
   "metadata": {},
   "outputs": [],
   "source": []
  },
  {
   "cell_type": "code",
   "execution_count": null,
   "id": "27a6be6e-beed-4988-9cbd-eb7ee656d71f",
   "metadata": {},
   "outputs": [],
   "source": []
  },
  {
   "cell_type": "code",
   "execution_count": null,
   "id": "9c72049c-ca4f-4be4-af01-e1ecf08cae5b",
   "metadata": {},
   "outputs": [],
   "source": []
  },
  {
   "cell_type": "code",
   "execution_count": null,
   "id": "edcddfb8-c950-499e-be1a-344ac1b14342",
   "metadata": {},
   "outputs": [],
   "source": []
  },
  {
   "cell_type": "code",
   "execution_count": 30,
   "id": "53a59e98-8a88-4e0f-8820-d933e87c0ef8",
   "metadata": {},
   "outputs": [
    {
     "data": {
      "application/vnd.jupyter.widget-view+json": {
       "model_id": "eef46d30ecd24126867b18397bb83283",
       "version_major": 2,
       "version_minor": 0
      },
      "text/plain": [
       "  0%|          | 0/15000 [00:00<?, ?it/s]"
      ]
     },
     "metadata": {},
     "output_type": "display_data"
    }
   ],
   "source": [
    "unique_gph_all = []\n",
    "p_bar = tqdm(data.index)\n",
    "#p_bar = tqdm([5])\n",
    "for i in p_bar:\n",
    "    #time.sleep(0.5)\n",
    "    p_bar.set_description(f'Working on \"{i}\"')\n",
    "    if len(data['gph_grouped_non_empty'][i])>1:\n",
    "        structure_sub = structure_sub_list[i][0]\n",
    "        #A,B,C,D,s = get_plane_from_sites_m(structure_sub.sites)\n",
    "        A,B,C,D = get_plane_from_sites_m3(structure_sub.sites)\n",
    "        plane_my = Plane([A,B,C,-D])\n",
    "        unique_gph = [0]\n",
    "        gph_planes = [plane_my]\n",
    "        \n",
    "        for jt in range(len(structure_sub_list[i])-1):\n",
    "            j = jt+1\n",
    "            structure_sub = structure_sub_list[i][j]\n",
    "            points = [s.coords for s in structure_sub]\n",
    "            distances_ = []\n",
    "            for plane_known in gph_planes:\n",
    "                distances = plane_known.distances_indices_groups(points,0.05)\n",
    "                distances_.append(np.abs(np.mean(distances[0])))\n",
    "            #print(distances_)\n",
    "            if min(distances_) > 0.15:\n",
    "                #print(np.round(distances[0],2))\n",
    "\n",
    "                #A,B,C,D,s = get_plane_from_sites_m(structure_sub.sites)\n",
    "                A,B,C,D = get_plane_from_sites_m3(structure_sub.sites)\n",
    "                plane_my = Plane([A,B,C,-D])\n",
    "                gph_planes.append(plane_my)\n",
    "                unique_gph.append(j)\n",
    "    else:\n",
    "        unique_gph = [0]\n",
    "    unique_gph_all.append(unique_gph)\n",
    "#data['unique_gph']=unique_gph_all\n",
    "\n"
   ]
  },
  {
   "cell_type": "code",
   "execution_count": null,
   "id": "3ddf9229-c784-4215-806a-2528336d0dd8",
   "metadata": {
    "tags": []
   },
   "outputs": [],
   "source": []
  },
  {
   "cell_type": "code",
   "execution_count": 171,
   "id": "2adcfe61-9a1b-4c5c-bf12-5ece05d0f63b",
   "metadata": {},
   "outputs": [],
   "source": [
    "data['gph_grouped'] = data['gph_grouped_non_empty']"
   ]
  },
  {
   "cell_type": "code",
   "execution_count": 177,
   "id": "7c416565-ec43-419e-b716-02fe2e55de7e",
   "metadata": {
    "tags": []
   },
   "outputs": [],
   "source": [
    "data['unique_gph'] = unique_gph_all"
   ]
  },
  {
   "cell_type": "code",
   "execution_count": null,
   "id": "66b4d06f-59f2-48ba-b980-1170f8592d50",
   "metadata": {},
   "outputs": [],
   "source": []
  },
  {
   "cell_type": "code",
   "execution_count": 89,
   "id": "e80f0a71-a239-4073-8e9b-9bf27644c1b1",
   "metadata": {},
   "outputs": [
    {
     "data": {
      "text/plain": [
       "13492"
      ]
     },
     "execution_count": 89,
     "metadata": {},
     "output_type": "execute_result"
    }
   ],
   "source": [
    "# without 3 atoms in the cell, it is not possible to construct the lattice plane from 3 sites\n",
    "\n",
    "filtered_3_remain_index = [x for x in data.index if data['num_atom'][x]>=3]\n",
    "len(filtered_3_remain_index)\n"
   ]
  },
  {
   "cell_type": "code",
   "execution_count": 704,
   "id": "f42293f5-53a3-4161-89c2-06d78efdc9d8",
   "metadata": {},
   "outputs": [
    {
     "data": {
      "application/vnd.jupyter.widget-view+json": {
       "model_id": "7ab8a660a08643fb9806f636f04a5913",
       "version_major": 2,
       "version_minor": 0
      },
      "text/plain": [
       "  0%|          | 0/15000 [00:00<?, ?it/s]"
      ]
     },
     "metadata": {},
     "output_type": "display_data"
    }
   ],
   "source": [
    "#filtered_3_remain_index = list(filtered_3_data.index)\n",
    "\n",
    "# filter round 4\n",
    "# build a planar structure based on the sites. \n",
    "filter_4_match_res = [] # document the ABCD of that plane\n",
    "plane_structures_list = []\n",
    "plane_structures_pbc_list = []\n",
    "p_bar = tqdm(data.index)\n",
    "for i in p_bar:\n",
    "    p_bar.set_description(f'Working on \"{i}\"')\n",
    "    if i in filtered_3_remain_index[:]:\n",
    "        structure_full = structure_full_list[i]        \n",
    "        pop_sites = populate_sites(structure_full,all_jimages)\n",
    "        match_fragment_plane = [] # document the ABCD of that plane \n",
    "        plane_structures_ = []\n",
    "        plane_structures_pbc_ = []\n",
    "        #p_bar2 = tqdm(range(len(ast.literal_eval(data['unique_gph'][i]))))\n",
    "        for j in range(len((data['unique_gph'][i]))):\n",
    "        #for j in range(len(data['unique_gph'][i])):\n",
    "            #p_bar2.set_description(f'Working on substructure\"{j}\"')\n",
    "            jt = data['unique_gph'][i][j]\n",
    "            structure_sub = structure_sub_list[i][jt]\n",
    "            A,B,C,D = get_plane_from_sites_m3(structure_sub.sites)\n",
    "            # get_plane_from_sites_m is not good enough\n",
    "            plane_my = Plane([A,B,C,-D])\n",
    "            #for site in structure_sub.sites:\n",
    "            #    print(calc_site_plane_distance(A,B,C,D,site))\n",
    "            sites_in_plane,sites_plane_dist = get_sites_in_plane(structure_full,pop_sites,A,B,C,D)\n",
    "            plane_sites = [structure_full.sites[x] for x in sites_in_plane]\n",
    "            sites_in_gph, sites_out_gph = get_site_in_out_gph(plane_sites,structure_sub)\n",
    "            # group atoms in the supercell based on the distance\n",
    "            points = [s.coords for s in plane_sites]\n",
    "            plane_dist_site_group = plane_my.distances_indices_groups(points,0.15)\n",
    "            # this gives us the sites with approximately the same distances to the plane\n",
    "            # so that I know these sites should be on the gph, but gph may exclude those sites\n",
    "            \n",
    "            \n",
    "            #print(np.round(plane_dist_site_group[0],2),plane_dist_site_group[2])\n",
    "            if len(plane_dist_site_group[2])>1:\n",
    "                num_sites_group = [(len(x)) for x in plane_dist_site_group[2]]\n",
    "                more_sites_group = num_sites_group.index(max(num_sites_group))\n",
    "                plane_sites_clean = [plane_sites[int(i)] for i in plane_dist_site_group[2][more_sites_group]]\n",
    "            else:\n",
    "                plane_sites_clean = plane_sites\n",
    "            # get plane_sites\n",
    "            # get A,B,C,D\n",
    "            if len(plane_sites_clean)<3:\n",
    "                #number of atoms <3\n",
    "                nA,nB,nC,nD,nplane_sites = [A,B,C,D,plane_sites]\n",
    "            elif len(plane_sites_clean)==3:\n",
    "                if points_collinear(plane_sites_clean):\n",
    "                    nA,nB,nC,nD,nplane_sites = [A,B,C,D,plane_sites]\n",
    "                else:\n",
    "                    # number of atoms ==3\n",
    "                    nA,nB,nC,nD,nplane_sites = get_plane_from_sites(plane_sites_clean)\n",
    "            else:\n",
    "                # number of atoms > 3\n",
    "                nA,nB,nC,nD = get_plane_from_sites_m3(plane_sites_clean)\n",
    "            #match_fragment_plane.append([nA,nB,nC,nD]) \n",
    "            # make a cleaner plane_structure, this is crucial to further steps. \n",
    "            # 1. check if other sites are missed on the facets/edges \n",
    "            plane_sites_clean_ = [s for s in plane_sites_clean]\n",
    "            if len(plane_sites_clean)<len(plane_sites):\n",
    "                for site in plane_sites:\n",
    "                    if site not in plane_sites_clean_:\n",
    "                        if 0 in [np.round(x,1) for x in site.frac_coords]:\n",
    "                            plane_sites_clean_.append(site)\n",
    "                        elif 1 in [np.round(x,1) for x in site.frac_coords]:\n",
    "                            plane_sites_clean_.append(site)\n",
    "            # 2. add atoms if needed  \n",
    "            plane_func = Plane([nA,nB,nC,-nD])\n",
    "            if len(plane_sites_clean)<len(plane_sites_clean_):\n",
    "                plane_sites_cleaned,plane_sites_pbc = get_plane_sites_clean(plane_sites,plane_sites_clean,all_jimages,plane_func)\n",
    "                if len(plane_sites_cleaned)>3:\n",
    "                    nA,nB,nC,nD = get_plane_from_sites_m3(plane_sites_cleaned)\n",
    "            else:\n",
    "                #plane_sites_cleaned = get_plane_sites_clean_m2(plane_sites_clean)\n",
    "                plane_sites_cleaned,plane_sites_pbc = get_plane_sites_clean(plane_sites,plane_sites_clean,all_jimages,plane_func)\n",
    "                if len(plane_sites_cleaned)>3:\n",
    "                    nA,nB,nC,nD = get_plane_from_sites_m3(plane_sites_cleaned)\n",
    "            # get plane structure\n",
    "            plane_structure = Structure.from_sites(plane_sites_cleaned)\n",
    "            plane_structures_.append(plane_structure)\n",
    "            # get plane structure with PBC \n",
    "            plane_structure_pbc = Structure.from_sites(plane_sites_pbc)\n",
    "            plane_structures_pbc_.append(plane_structure_pbc)\n",
    "            # get plane function \n",
    "            match_fragment_plane.append([nA,nB,nC,nD]) \n",
    "        filter_4_match_res.append(match_fragment_plane)\n",
    "        plane_structures_list.append(plane_structures_)\n",
    "        plane_structures_pbc_list.append(plane_structures_pbc_)\n",
    "    else:\n",
    "        plane_structures_pbc_list.append([])\n",
    "        filter_4_match_res.append([])\n",
    "        plane_structures_list.append([])"
   ]
  },
  {
   "cell_type": "code",
   "execution_count": 705,
   "id": "0fa586c0-e28a-4aef-801a-75a4c53b261b",
   "metadata": {},
   "outputs": [],
   "source": [
    "check_ = []\n",
    "for i in p_bar:\n",
    "    p_bar.set_description(f'Working on \"{i}\"')\n",
    "    if i in filtered_3_remain_index[:]:\n",
    "        for j in range(len((data['unique_gph'][i]))):\n",
    "            jt = data['unique_gph'][i][j]\n",
    "            if j!=jt:\n",
    "                check_.append([i,j])"
   ]
  },
  {
   "cell_type": "code",
   "execution_count": null,
   "id": "dd26b89d-3456-4113-9b2a-e9841aad3bbb",
   "metadata": {
    "tags": []
   },
   "outputs": [],
   "source": []
  },
  {
   "cell_type": "code",
   "execution_count": null,
   "id": "03f47a6e-42ff-43fc-add2-8d464ae6420c",
   "metadata": {
    "tags": []
   },
   "outputs": [],
   "source": []
  },
  {
   "cell_type": "code",
   "execution_count": null,
   "id": "6f61be43-ca8d-4d31-87ba-e28b94a220d1",
   "metadata": {
    "tags": []
   },
   "outputs": [],
   "source": []
  },
  {
   "cell_type": "code",
   "execution_count": null,
   "id": "3653e179-7b04-4adb-9256-4ecbe041a184",
   "metadata": {
    "tags": []
   },
   "outputs": [],
   "source": []
  },
  {
   "cell_type": "code",
   "execution_count": null,
   "id": "80d1be05-f525-407e-8956-667112c7bcc2",
   "metadata": {
    "tags": []
   },
   "outputs": [],
   "source": []
  },
  {
   "cell_type": "code",
   "execution_count": null,
   "id": "3fa52d1e-34fa-47d1-a717-7a8f84036cb2",
   "metadata": {},
   "outputs": [],
   "source": []
  },
  {
   "cell_type": "code",
   "execution_count": null,
   "id": "2b6c6907-1ef5-4978-9191-7be46a19aa69",
   "metadata": {
    "tags": []
   },
   "outputs": [],
   "source": []
  },
  {
   "cell_type": "code",
   "execution_count": null,
   "id": "364bcd80-374b-4a11-b2c4-3cc9459b7723",
   "metadata": {},
   "outputs": [],
   "source": []
  },
  {
   "cell_type": "code",
   "execution_count": null,
   "id": "995150f6-cd47-47fa-9b00-00d8285b85ad",
   "metadata": {},
   "outputs": [],
   "source": []
  },
  {
   "cell_type": "code",
   "execution_count": null,
   "id": "54c6c38e-1618-442d-800c-4d653722e87c",
   "metadata": {},
   "outputs": [],
   "source": []
  },
  {
   "cell_type": "code",
   "execution_count": null,
   "id": "4cbab144-d0c8-425c-a57d-75fb040c047b",
   "metadata": {},
   "outputs": [],
   "source": []
  },
  {
   "cell_type": "code",
   "execution_count": null,
   "id": "a7b445c0-073c-44bb-8f7f-e496ffe8882d",
   "metadata": {},
   "outputs": [],
   "source": []
  },
  {
   "cell_type": "code",
   "execution_count": null,
   "id": "48f09b5e-73d8-4e17-9458-c5855f533f0c",
   "metadata": {},
   "outputs": [],
   "source": []
  },
  {
   "cell_type": "code",
   "execution_count": null,
   "id": "cf6db874-e7db-4a8d-af9b-6bab6b09a7b0",
   "metadata": {
    "tags": []
   },
   "outputs": [],
   "source": []
  },
  {
   "cell_type": "code",
   "execution_count": null,
   "id": "588b5f2d-c432-42a9-8faa-dd754d0dcc01",
   "metadata": {
    "tags": []
   },
   "outputs": [],
   "source": []
  },
  {
   "cell_type": "code",
   "execution_count": null,
   "id": "591f7524-93f2-4f91-a70d-7d2eb464a39c",
   "metadata": {
    "tags": []
   },
   "outputs": [],
   "source": []
  },
  {
   "cell_type": "code",
   "execution_count": null,
   "id": "493c2aa3-87f7-4c8b-bc9c-7454546cd875",
   "metadata": {
    "tags": []
   },
   "outputs": [],
   "source": []
  },
  {
   "cell_type": "code",
   "execution_count": null,
   "id": "551ceb33-3413-4980-bfa8-a0c06540d86a",
   "metadata": {},
   "outputs": [],
   "source": []
  },
  {
   "cell_type": "code",
   "execution_count": null,
   "id": "e9c28827-afdf-42c3-8db0-de18bf83c021",
   "metadata": {},
   "outputs": [],
   "source": []
  },
  {
   "cell_type": "code",
   "execution_count": null,
   "id": "5db4a5a5-d48e-4a8f-8188-0659e8490cd3",
   "metadata": {},
   "outputs": [],
   "source": []
  },
  {
   "cell_type": "code",
   "execution_count": null,
   "id": "a5712ea0-847c-4e43-afad-5fdfe7707217",
   "metadata": {},
   "outputs": [],
   "source": []
  },
  {
   "cell_type": "code",
   "execution_count": null,
   "id": "253a0119-40e9-4215-8448-a040e0deceab",
   "metadata": {},
   "outputs": [],
   "source": []
  },
  {
   "cell_type": "code",
   "execution_count": null,
   "id": "ec2be749-0d07-479e-9687-cf1fc41c715b",
   "metadata": {},
   "outputs": [],
   "source": []
  },
  {
   "cell_type": "code",
   "execution_count": null,
   "id": "dfd6beda-a3b6-417a-b294-3c25980462f8",
   "metadata": {},
   "outputs": [],
   "source": []
  },
  {
   "cell_type": "code",
   "execution_count": null,
   "id": "f9946a3e-a04e-4884-9b06-cdaeb5be919f",
   "metadata": {
    "tags": []
   },
   "outputs": [],
   "source": []
  },
  {
   "cell_type": "code",
   "execution_count": null,
   "id": "afb5012b-8004-424b-98fb-a44ca1e757d9",
   "metadata": {
    "tags": []
   },
   "outputs": [],
   "source": []
  },
  {
   "cell_type": "code",
   "execution_count": null,
   "id": "276d377a-7021-4540-b1ed-5630bb6c060f",
   "metadata": {},
   "outputs": [],
   "source": []
  },
  {
   "cell_type": "code",
   "execution_count": null,
   "id": "f0182588-4a37-44d4-baa9-57e4f42fe4b7",
   "metadata": {
    "tags": []
   },
   "outputs": [],
   "source": []
  },
  {
   "cell_type": "code",
   "execution_count": null,
   "id": "6c3eebfc-faee-443c-a920-e12d8097be6b",
   "metadata": {
    "tags": []
   },
   "outputs": [],
   "source": []
  },
  {
   "cell_type": "code",
   "execution_count": null,
   "id": "1a643486-21ee-4d06-ae4c-2a46da7968e8",
   "metadata": {
    "tags": []
   },
   "outputs": [],
   "source": []
  },
  {
   "cell_type": "code",
   "execution_count": null,
   "id": "b781ce82-ba9b-4e0f-84ec-13b9484db4d0",
   "metadata": {
    "tags": []
   },
   "outputs": [],
   "source": []
  },
  {
   "cell_type": "code",
   "execution_count": null,
   "id": "77dfaf37-5e04-42f8-b186-0f8498614029",
   "metadata": {
    "tags": []
   },
   "outputs": [],
   "source": []
  },
  {
   "cell_type": "code",
   "execution_count": null,
   "id": "2bac30df-cb86-40c1-aa69-89da0e72e2ff",
   "metadata": {
    "tags": []
   },
   "outputs": [],
   "source": []
  },
  {
   "cell_type": "code",
   "execution_count": 663,
   "id": "5879d496-29f2-425d-9663-97049aca4d22",
   "metadata": {},
   "outputs": [
    {
     "data": {
      "text/plain": [
       "150"
      ]
     },
     "execution_count": 663,
     "metadata": {},
     "output_type": "execute_result"
    }
   ],
   "source": [
    "range(len(data['unique_gph'][i])),len(structure_sub_list[i])"
   ]
  },
  {
   "cell_type": "code",
   "execution_count": null,
   "id": "e0b0fc30-789a-4f86-9ec4-d2db6676fee1",
   "metadata": {
    "tags": []
   },
   "outputs": [],
   "source": []
  },
  {
   "cell_type": "code",
   "execution_count": 725,
   "id": "005fb99e-d41b-4732-acd1-dffc71a6a740",
   "metadata": {
    "tags": []
   },
   "outputs": [],
   "source": [
    "data['match_gph'] = filter_4_match_res\n"
   ]
  },
  {
   "cell_type": "code",
   "execution_count": 97,
   "id": "dba7da6d-220d-4dd7-8155-da4bef9ef924",
   "metadata": {
    "tags": []
   },
   "outputs": [],
   "source": [
    "#plane_func.distances_indices_groups([x.coords for x in plane_structure.sites],0.2)"
   ]
  },
  {
   "cell_type": "code",
   "execution_count": null,
   "id": "73556ed4-b8c7-4cbf-b3c9-bd7cbb25106c",
   "metadata": {
    "tags": []
   },
   "outputs": [],
   "source": []
  },
  {
   "cell_type": "code",
   "execution_count": null,
   "id": "e6717e32-0c3c-4915-a6ec-5abef5792c77",
   "metadata": {
    "tags": []
   },
   "outputs": [],
   "source": []
  },
  {
   "cell_type": "code",
   "execution_count": null,
   "id": "f6e5ba22-30ed-4161-9dce-fcccb3eeb6a8",
   "metadata": {
    "tags": []
   },
   "outputs": [],
   "source": []
  },
  {
   "cell_type": "code",
   "execution_count": null,
   "id": "14b0eef8-fb25-4244-b677-596b0a9bbfcc",
   "metadata": {
    "tags": []
   },
   "outputs": [],
   "source": []
  },
  {
   "cell_type": "code",
   "execution_count": null,
   "id": "53f778e4-81e6-481e-9178-f202ee458f64",
   "metadata": {},
   "outputs": [],
   "source": []
  },
  {
   "cell_type": "code",
   "execution_count": null,
   "id": "0bd68e96-d111-43bf-9375-34b20c162459",
   "metadata": {
    "tags": []
   },
   "outputs": [],
   "source": []
  },
  {
   "cell_type": "code",
   "execution_count": null,
   "id": "4951e525-b56f-4fd7-b188-416a77285344",
   "metadata": {
    "tags": []
   },
   "outputs": [],
   "source": []
  },
  {
   "cell_type": "code",
   "execution_count": null,
   "id": "4b89e6bc-5ce4-4742-982f-bba021174e70",
   "metadata": {
    "tags": []
   },
   "outputs": [],
   "source": []
  },
  {
   "cell_type": "code",
   "execution_count": null,
   "id": "fa307245-6fd6-4687-ab43-97d92c5292f0",
   "metadata": {
    "tags": []
   },
   "outputs": [],
   "source": []
  },
  {
   "cell_type": "code",
   "execution_count": null,
   "id": "5a3a2b36-787d-4ae0-a354-afff6de82002",
   "metadata": {
    "tags": []
   },
   "outputs": [],
   "source": []
  },
  {
   "cell_type": "code",
   "execution_count": null,
   "id": "3dc60fe0-22ab-4c1e-b338-8fff6f77b24a",
   "metadata": {
    "tags": []
   },
   "outputs": [],
   "source": []
  },
  {
   "cell_type": "code",
   "execution_count": null,
   "id": "8dfc46b9-1be0-404f-952f-35102a262619",
   "metadata": {
    "tags": []
   },
   "outputs": [],
   "source": []
  },
  {
   "cell_type": "code",
   "execution_count": null,
   "id": "97eeb0bc-6a6a-4b90-ab0a-335320d6fc03",
   "metadata": {
    "tags": []
   },
   "outputs": [],
   "source": []
  },
  {
   "cell_type": "code",
   "execution_count": null,
   "id": "0d936ac0-836e-4b96-9fb1-5a78cfcbfe68",
   "metadata": {
    "tags": []
   },
   "outputs": [],
   "source": []
  },
  {
   "cell_type": "code",
   "execution_count": null,
   "id": "69742bd7-beb6-482c-a486-9078b430748d",
   "metadata": {
    "tags": []
   },
   "outputs": [],
   "source": []
  },
  {
   "cell_type": "code",
   "execution_count": null,
   "id": "25817b25-eb46-40e1-ac1e-3576806b1af9",
   "metadata": {
    "tags": []
   },
   "outputs": [],
   "source": []
  },
  {
   "cell_type": "code",
   "execution_count": null,
   "id": "279668af-ac9f-4bb9-ad05-b2df4434427b",
   "metadata": {},
   "outputs": [],
   "source": []
  },
  {
   "cell_type": "code",
   "execution_count": null,
   "id": "6fd3a8bd-441c-45ec-8b59-d0e724c1b7e8",
   "metadata": {
    "tags": []
   },
   "outputs": [],
   "source": [
    "\n"
   ]
  },
  {
   "cell_type": "code",
   "execution_count": null,
   "id": "f76262cd-812e-4755-8abc-bcee7a884879",
   "metadata": {
    "tags": []
   },
   "outputs": [],
   "source": []
  },
  {
   "cell_type": "code",
   "execution_count": null,
   "id": "228e8be8-c815-4a2d-ac93-1591bff81825",
   "metadata": {
    "tags": []
   },
   "outputs": [],
   "source": []
  },
  {
   "cell_type": "code",
   "execution_count": null,
   "id": "f98536f5-fbe6-4479-adfb-c61116642cfd",
   "metadata": {
    "tags": []
   },
   "outputs": [],
   "source": []
  },
  {
   "cell_type": "code",
   "execution_count": null,
   "id": "90f5f3fc-2e44-4239-9f1e-ff671fab28c3",
   "metadata": {
    "tags": []
   },
   "outputs": [],
   "source": []
  },
  {
   "cell_type": "code",
   "execution_count": null,
   "id": "8b02e41e-5c86-462b-a392-f274d76583b3",
   "metadata": {
    "tags": []
   },
   "outputs": [],
   "source": []
  },
  {
   "cell_type": "code",
   "execution_count": null,
   "id": "011fe57f-29bb-4103-a537-c5a13f8aa9ee",
   "metadata": {
    "tags": []
   },
   "outputs": [],
   "source": []
  },
  {
   "cell_type": "code",
   "execution_count": null,
   "id": "8a533ccb-4654-49de-b8a4-d7283f3461a6",
   "metadata": {},
   "outputs": [],
   "source": []
  },
  {
   "cell_type": "code",
   "execution_count": 103,
   "id": "3da148e7-dca6-444d-8e91-7173d4d0b3df",
   "metadata": {},
   "outputs": [
    {
     "name": "stdout",
     "output_type": "stream",
     "text": [
      "[0]\n"
     ]
    }
   ],
   "source": [
    "\n",
    "def safe_literal_eval(s):\n",
    "    try:\n",
    "        # Handle infinity and negative infinity cases\n",
    "        s = s.replace(\"inf\", \"0\").replace(\"-inf\", \"0\").replace(\"nan\",\"0\")\n",
    "        \n",
    "        return ast.literal_eval(s)\n",
    "    except ValueError:\n",
    "        # Handle other potential exceptions, if needed\n",
    "        return s\n",
    "\n"
   ]
  },
  {
   "cell_type": "code",
   "execution_count": 104,
   "id": "cc1e2d88-4b06-4203-912b-253126cf36e9",
   "metadata": {},
   "outputs": [],
   "source": [
    "#res = safe_literal_eval(data[\"match_gph\"][8712])\n",
    "#res"
   ]
  },
  {
   "cell_type": "code",
   "execution_count": 105,
   "id": "8ce340b8-d73f-4002-8459-8e735a355929",
   "metadata": {},
   "outputs": [],
   "source": []
  },
  {
   "cell_type": "code",
   "execution_count": null,
   "id": "25fc2ce1-5a40-4003-9d62-d007a4038675",
   "metadata": {},
   "outputs": [],
   "source": []
  },
  {
   "cell_type": "code",
   "execution_count": 255,
   "id": "26af97e5-7f39-433b-b2d4-a2e547c32b56",
   "metadata": {
    "tags": []
   },
   "outputs": [
    {
     "data": {
      "application/vnd.jupyter.widget-view+json": {
       "model_id": "475ca01b7d074a1a851833442da7e9df",
       "version_major": 2,
       "version_minor": 0
      },
      "text/plain": [
       "  0%|          | 0/15000 [00:00<?, ?it/s]"
      ]
     },
     "metadata": {},
     "output_type": "display_data"
    }
   ],
   "source": [
    "# write out the unique plane structure into cifs \n",
    "#\n",
    "'''\n",
    "plane_structures_write_dir = './plane_structures/'\n",
    "plane_structures_pbc_write_dir = './plane_structures_pbc/'\n",
    "p_bar = tqdm(data.index[:])\n",
    "for i in p_bar:\n",
    "    p_bar.set_description(f'Working on \"{i}\"')\n",
    "    if i in filtered_3_remain_index[:]:\n",
    "        CN_ = []\n",
    "        cutoff_ = []\n",
    "        # replace this line if necessary\n",
    "        #absds = safe_literal_eval(data['match_gph'][i])\n",
    "        absds = data['match_gph'][i]\n",
    "        for j in data['unique_gph'][i]:\n",
    "            #for j in [1,2]:\n",
    "            \n",
    "            jt = data['unique_gph'][i].index(j)\n",
    "            #plane_structure = plane_structures_list[i][jt]\n",
    "            plane_structure = plane_structures_list[i][jt]\n",
    "            plane_structure_pbc = plane_structures_pbc_list[i][jt]\n",
    "            \n",
    "            cw1 = CifWriter(plane_structure)\n",
    "            cifname = data['cifs_name'][i].split('_')[-1].strip('.cif')\n",
    "            path_1 = plane_structures_write_dir + f'{cifname}_{jt}_{j}.cif'\n",
    "            #print(path_1)\n",
    "            cw1.write_file(path_1)\n",
    "            \n",
    "            cw2 = CifWriter(plane_structure_pbc)\n",
    "            cifname = data['cifs_name'][i].split('_')[-1].strip('.cif')\n",
    "            path_2 = plane_structures_pbc_write_dir + f'{cifname}_{jt}_{j}.cif'\n",
    "            #print(path_2)\n",
    "            cw2.write_file(path_2)\n",
    "            \n",
    "            "
   ]
  },
  {
   "cell_type": "code",
   "execution_count": null,
   "id": "d94e0470-5a1f-4870-9daa-837ed247d18b",
   "metadata": {
    "tags": []
   },
   "outputs": [],
   "source": []
  },
  {
   "cell_type": "code",
   "execution_count": 728,
   "id": "99a80d23-4db2-4007-94d4-044db914f568",
   "metadata": {},
   "outputs": [
    {
     "data": {
      "application/vnd.jupyter.widget-view+json": {
       "model_id": "c95afd065a364e21a8b8a205f4de5cdf",
       "version_major": 2,
       "version_minor": 0
      },
      "text/plain": [
       "  0%|          | 0/15000 [00:00<?, ?it/s]"
      ]
     },
     "metadata": {},
     "output_type": "display_data"
    }
   ],
   "source": [
    "\n",
    "CN_f_4 = []\n",
    "p_bar = tqdm(data.index)\n",
    "cutoff_that_worked = []\n",
    "for i in p_bar:\n",
    "    p_bar.set_description(f'Working on \"{i}\"')\n",
    "    if i in filtered_3_remain_index[:]:\n",
    "        CN_ = []\n",
    "        cutoff_ = []\n",
    "        # replace this line if necessary\n",
    "        #absds = safe_literal_eval(data['match_gph'][i])\n",
    "        absds = data['match_gph'][i]\n",
    "        for j in data['unique_gph'][i]:\n",
    "            #for j in [1,2]:\n",
    "            \n",
    "            jt = data['unique_gph'][i].index(j)\n",
    "            #plane_structure = plane_structures_list[i][jt]\n",
    "            plane_structure = plane_structures_list[i][jt]\n",
    "            plane_structure_pbc = plane_structures_pbc_list[i][jt]\n",
    "            \n",
    "            [A,B,C,D] = absds[jt]\n",
    "            # analyze nninfo and get CN\n",
    "            #nn_sites,CN = get_1nn_on_plane(plane_structure,plane_fun_coeff=plane_fun_coeff)\n",
    "            for cutoff in range(7,30):\n",
    "                try:\n",
    "                    # Try to call your function with the current parameter\n",
    "                    C_NN = CrystalNN(distance_cutoffs=(2,2.4),x_diff_weight=0.0, porous_adjustment=False,search_cutoff=cutoff )\n",
    "                    nn_sites,nn_info = get_1nn(plane_structure_pbc,\n",
    "                                       plane_structure,\n",
    "                                       [A,B,C,D],\n",
    "                                       NN_method=C_NN\n",
    "                                      )\n",
    "                    cutoff_.append(cutoff)\n",
    "                    break\n",
    "                except Exception as e:\n",
    "                    # If there is an error, print it and continue to the next parameter\n",
    "                    continue\n",
    "            \n",
    "            keys = nn_info.keys()\n",
    "            #for j in range(len(nn_info[\"0\"]['nn_info'])):\n",
    "            #    print(plane_handle.distances_indices_groups([nn_info[\"0\"]['nn_info'][j]['site'].coords])[0])\n",
    "            CN = [len(nn_info[k]['nn_info']) for k in keys]\n",
    "            CN_.append(CN)\n",
    "        CN_f_4.append(CN_)\n",
    "        cutoff_that_worked.append(cutoff_)\n",
    "    else:\n",
    "        CN_f_4.append([])\n",
    "        cutoff_that_worked.append([])"
   ]
  },
  {
   "cell_type": "code",
   "execution_count": null,
   "id": "19fc939e-1840-40ee-84cc-ef9484bd4d0c",
   "metadata": {
    "tags": []
   },
   "outputs": [],
   "source": []
  },
  {
   "cell_type": "code",
   "execution_count": null,
   "id": "94929984-7bf5-4f17-935d-fb5bc6beb3fb",
   "metadata": {
    "tags": []
   },
   "outputs": [],
   "source": []
  },
  {
   "cell_type": "code",
   "execution_count": null,
   "id": "7dc9095e-2632-403e-8bc8-22bf183c5c2a",
   "metadata": {},
   "outputs": [],
   "source": []
  },
  {
   "cell_type": "code",
   "execution_count": null,
   "id": "d90d5f2e-13a5-492f-b9aa-524c521d2835",
   "metadata": {
    "tags": []
   },
   "outputs": [],
   "source": []
  },
  {
   "cell_type": "code",
   "execution_count": null,
   "id": "1de68268-dc57-4fe0-bf17-e75ada0810cb",
   "metadata": {
    "tags": []
   },
   "outputs": [],
   "source": []
  },
  {
   "cell_type": "code",
   "execution_count": 733,
   "id": "02a1aab8-e682-444c-9b3e-4a35b10b5a48",
   "metadata": {
    "tags": []
   },
   "outputs": [],
   "source": [
    "data['CN_plane'] = CN_f_4"
   ]
  },
  {
   "cell_type": "code",
   "execution_count": null,
   "id": "50a5cabe-7cd0-4f05-8a34-ffd3e6b38ece",
   "metadata": {
    "tags": []
   },
   "outputs": [],
   "source": []
  },
  {
   "cell_type": "code",
   "execution_count": null,
   "id": "b8b4ae2e-882b-4702-b165-41c43b19790a",
   "metadata": {
    "tags": []
   },
   "outputs": [],
   "source": []
  },
  {
   "cell_type": "code",
   "execution_count": null,
   "id": "216214e6-9215-4256-a367-b4de5ba3a12a",
   "metadata": {
    "tags": []
   },
   "outputs": [],
   "source": []
  },
  {
   "cell_type": "code",
   "execution_count": 734,
   "id": "4dea2cce-265f-46a9-9710-025be2d16eee",
   "metadata": {
    "tags": []
   },
   "outputs": [
    {
     "data": {
      "application/vnd.jupyter.widget-view+json": {
       "model_id": "22f2afa1e7db4ab49dc479b0426755c0",
       "version_major": 2,
       "version_minor": 0
      },
      "text/plain": [
       "  0%|          | 0/15000 [00:00<?, ?it/s]"
      ]
     },
     "metadata": {},
     "output_type": "display_data"
    }
   ],
   "source": [
    "# Group_1: CN=4\n",
    "# Group_2: CN=6\n",
    "# Group_3: CN=8\n",
    "# Group_4: CN=12\n",
    "# Group_5: other cases\n",
    "\n",
    "G_all = []\n",
    "p_bar = tqdm(data.index)\n",
    "for i in p_bar:\n",
    "    time.sleep(1/1000)\n",
    "    p_bar.set_description(f'Working on \"{i}\"')\n",
    "    G_i_ = []\n",
    "    if i in filtered_3_remain_index[:]:\n",
    "        CN_list = data['CN_plane'][i]\n",
    "        #print(np.unique(CN_list))\n",
    "        CN_ = np.array([np.unique([y for y in x if y!=0]) for x in CN_list])\n",
    "        #print(CN_.shape[1]==1)\n",
    "        for CN_i in CN_:\n",
    "            if (4 in CN_i)and(len(CN_i)==1):\n",
    "                G_i = 1\n",
    "            elif (6 in CN_i)and(len(CN_i)==1):\n",
    "                G_i = 2\n",
    "            elif (8 in CN_i)and(len(CN_i)==1):\n",
    "                G_i = 3\n",
    "                #print(i)\n",
    "            elif (12 in CN_i)and(len(CN_i)==1):\n",
    "                G_i = 4\n",
    "                #print(i)\n",
    "            else:\n",
    "                G_i = 5\n",
    "                #print(i,CN_i)\n",
    "            G_i_.append(G_i)\n",
    "    G_all.append(G_i_)"
   ]
  },
  {
   "cell_type": "code",
   "execution_count": 735,
   "id": "f1ed83bc-0cb4-4441-98d1-b7c07b177dec",
   "metadata": {
    "tags": []
   },
   "outputs": [
    {
     "data": {
      "text/plain": [
       "[2, 2, 2, 2]"
      ]
     },
     "execution_count": 735,
     "metadata": {},
     "output_type": "execute_result"
    }
   ],
   "source": [
    "G_all[4484]"
   ]
  },
  {
   "cell_type": "code",
   "execution_count": 736,
   "id": "1c12b9c2-613d-4c7e-ae86-2b4de640c468",
   "metadata": {
    "tags": []
   },
   "outputs": [],
   "source": [
    "data['CN_group_index'] = G_all"
   ]
  },
  {
   "cell_type": "code",
   "execution_count": 737,
   "id": "87483839-941b-4f7e-942d-880ed815000b",
   "metadata": {
    "tags": []
   },
   "outputs": [],
   "source": [
    "G_1_index = []\n",
    "\n",
    "for i in data.index[:]:\n",
    "    if 1 in data['CN_group_index'][i]:\n",
    "        G_1_index.append(i)\n",
    "        if 2 in data['CN_group_index'][i]:\n",
    "            pass\n",
    "            #print('G2',i)\n",
    "        elif 3 in data['CN_group_index'][i]:\n",
    "            pass\n",
    "            #print('G3',i)\n",
    "        elif 4 in data['CN_group_index'][i]:\n",
    "            pass\n",
    "            #print('G4',i)\n",
    "        elif 5 in data['CN_group_index'][i]:\n",
    "            pass\n",
    "            #print('G5',i)\n",
    "        "
   ]
  },
  {
   "cell_type": "code",
   "execution_count": null,
   "id": "53eef158-a0e6-4da3-88c4-8c1098f3573b",
   "metadata": {
    "tags": []
   },
   "outputs": [],
   "source": []
  },
  {
   "cell_type": "code",
   "execution_count": null,
   "id": "bcd97403-23cf-48c8-b910-fb292c8e885d",
   "metadata": {
    "tags": []
   },
   "outputs": [],
   "source": []
  },
  {
   "cell_type": "code",
   "execution_count": null,
   "id": "4851e896-3e33-4c76-a54b-29ece7bdddfd",
   "metadata": {
    "tags": []
   },
   "outputs": [],
   "source": []
  },
  {
   "cell_type": "code",
   "execution_count": null,
   "id": "e4d3f442-e65c-4496-97de-c6d03ba215c3",
   "metadata": {
    "tags": []
   },
   "outputs": [],
   "source": []
  },
  {
   "cell_type": "code",
   "execution_count": 740,
   "id": "54cf9fa5-795c-4e52-8bea-46ab0d8c2265",
   "metadata": {
    "tags": []
   },
   "outputs": [
    {
     "data": {
      "application/vnd.jupyter.widget-view+json": {
       "model_id": "9586108811d64014b1e4003621174d42",
       "version_major": 2,
       "version_minor": 0
      },
      "text/plain": [
       "  0%|          | 0/15000 [00:00<?, ?it/s]"
      ]
     },
     "metadata": {},
     "output_type": "display_data"
    }
   ],
   "source": [
    "# analyze G-1 for inter-atomic distances and angles\n",
    "G_1_angles = []\n",
    "G_1_angle_distance_info_all = []\n",
    "#data_all.iloc[G_1_index].index[:5]\n",
    "p_bar = tqdm(data.index)\n",
    "for i in p_bar:\n",
    "    if i in G_1_index:\n",
    "        p_bar.set_description(f'Working on \"{i}\"')\n",
    "        # replace the following line if necessary \n",
    "        #absds = safe_literal_eval(data['match_gph'][i])\n",
    "        #\n",
    "        absds = data['match_gph'][i]\n",
    "        ####\n",
    "        # here we analyze all the gph if the corresponding CN_g_index is 1 \n",
    "        angles_gph_1 = []\n",
    "        distance_gph_1 = []\n",
    "        for jt in range(len(data['CN_group_index'][i])):\n",
    "            jidx = data['CN_group_index'][i][jt]\n",
    "            if jidx==1:\n",
    "                #plane_structure = plane_structures_list[i][jt]\n",
    "                plane_structure = plane_structures_list[i][jt]\n",
    "                plane_structure_pbc = plane_structures_pbc_list[i][jt]\n",
    "\n",
    "                [A,B,C,D] = absds[jt]\n",
    "                # analyze nninfo and get CN\n",
    "                #nn_sites,CN = get_1nn_on_plane(plane_structure,plane_fun_coeff=plane_fun_coeff)\n",
    "                for cutoff in range(7,30):\n",
    "                    try:\n",
    "                        # Try to call your function with the current parameter\n",
    "                        C_NN = CrystalNN(distance_cutoffs=(2,2.4),x_diff_weight=0.0, porous_adjustment=False,search_cutoff=cutoff )\n",
    "                        nn_sites,nn_info = get_1nn_m(plane_structure_pbc,\n",
    "                                           plane_structure,\n",
    "                                           [A,B,C,D],\n",
    "                                           NN_method=C_NN\n",
    "                                          )\n",
    "                        cutoff_.append(cutoff)\n",
    "                        break\n",
    "                    except Exception as e:\n",
    "                        # If there is an error, print it and continue to the next parameter\n",
    "                        continue\n",
    "\n",
    "                keys = nn_info.keys()\n",
    "                # angles are rounded to 0.001\n",
    "                angles_gph_1.append(np.unique(np.concatenate([[x[3] for x in nn_info[k]['angle_info']]  for k in keys])))\n",
    "                distance_gph_1.append([ nn_info[k]['angle_info'] for k in keys])\n",
    "        G_1_angles.append(angles_gph_1)\n",
    "        G_1_angle_distance_info_all.append(distance_gph_1)"
   ]
  },
  {
   "cell_type": "code",
   "execution_count": null,
   "id": "7677ecf9-3507-4078-80da-63a86f615dd0",
   "metadata": {
    "tags": []
   },
   "outputs": [],
   "source": []
  },
  {
   "cell_type": "code",
   "execution_count": null,
   "id": "b9ad9f19-1e69-4cb0-a633-784b61b04730",
   "metadata": {
    "tags": []
   },
   "outputs": [],
   "source": []
  },
  {
   "cell_type": "code",
   "execution_count": null,
   "id": "56b38389-7c0a-4d70-8cbb-e3618ec0485c",
   "metadata": {
    "tags": []
   },
   "outputs": [],
   "source": []
  },
  {
   "cell_type": "code",
   "execution_count": null,
   "id": "b61bd920-abd0-4f5e-a091-776ab02c99d0",
   "metadata": {
    "tags": []
   },
   "outputs": [],
   "source": []
  },
  {
   "cell_type": "code",
   "execution_count": null,
   "id": "d49f9c78-a05d-46f7-b0ae-a8df94acedcc",
   "metadata": {
    "tags": []
   },
   "outputs": [],
   "source": []
  },
  {
   "cell_type": "code",
   "execution_count": null,
   "id": "f1b1c8bb-90fa-4d17-a4d2-c576062ea20a",
   "metadata": {
    "tags": []
   },
   "outputs": [],
   "source": []
  },
  {
   "cell_type": "code",
   "execution_count": null,
   "id": "0c15e428-5f50-46d1-9eaf-d5e7bf093ead",
   "metadata": {
    "tags": []
   },
   "outputs": [],
   "source": []
  },
  {
   "cell_type": "code",
   "execution_count": null,
   "id": "50f1402b-7a52-4d80-a4bb-38f2c1fe0fc2",
   "metadata": {
    "tags": []
   },
   "outputs": [],
   "source": []
  },
  {
   "cell_type": "code",
   "execution_count": null,
   "id": "9a082806-286b-4f00-990d-553e993f0f6b",
   "metadata": {
    "tags": []
   },
   "outputs": [],
   "source": []
  },
  {
   "cell_type": "code",
   "execution_count": null,
   "id": "15198601-2802-4f00-8d23-340f71863c8f",
   "metadata": {
    "tags": []
   },
   "outputs": [],
   "source": []
  },
  {
   "cell_type": "code",
   "execution_count": 748,
   "id": "711cf768-f71d-4c8c-b395-f6880b26a606",
   "metadata": {
    "tags": []
   },
   "outputs": [],
   "source": [
    "def angle_outside_range(angles):\n",
    "    '''\n",
    "    angle in degree, \n",
    "    outside +/- 5 from 60 and 120 will be reported as True\n",
    "    '''\n",
    "    x = [True for angle in angles if (0<= angle and angle<55)or(65< angle and angle<115)or(125< angle and angle<175)]\n",
    "    if True in x:\n",
    "        return True\n",
    "    else:\n",
    "        return False"
   ]
  },
  {
   "cell_type": "code",
   "execution_count": null,
   "id": "0ea1d997-1dfc-48b5-abbf-27afa9606364",
   "metadata": {
    "tags": []
   },
   "outputs": [],
   "source": []
  },
  {
   "cell_type": "code",
   "execution_count": null,
   "id": "f4faf53b-86b2-4c72-bd3d-cca3d1fb6a38",
   "metadata": {
    "tags": []
   },
   "outputs": [],
   "source": []
  },
  {
   "cell_type": "code",
   "execution_count": null,
   "id": "a033144a-1345-445f-bf94-77170b0f7c40",
   "metadata": {
    "tags": []
   },
   "outputs": [],
   "source": []
  },
  {
   "cell_type": "code",
   "execution_count": null,
   "id": "c330fe4d-761e-4a02-a0e0-a1909df3b44c",
   "metadata": {
    "tags": []
   },
   "outputs": [],
   "source": []
  },
  {
   "cell_type": "code",
   "execution_count": 751,
   "id": "218dc9ee-5e84-4583-b531-e0da780eebdc",
   "metadata": {},
   "outputs": [],
   "source": [
    "G_1_angle_reg_index = []\n",
    "G_1_angle_nonreg_index = []\n",
    "G_1_angle_nonreg_angle = []\n",
    "\n",
    "\n",
    "for i, angle_list in zip(G_1_index,G_1_angles):\n",
    "    reg_ang_true = False\n",
    "    for angle in angle_list:\n",
    "        if len(angle)==2 and 60 in angle and 120 in angle:\n",
    "            reg_ang_true = True\n",
    "            \n",
    "    if reg_ang_true:\n",
    "        G_1_angle_reg_index.append(i)\n",
    "    else:\n",
    "        G_1_angle_nonreg_angle.append(angle)\n",
    "        G_1_angle_nonreg_index.append(i)"
   ]
  },
  {
   "cell_type": "code",
   "execution_count": null,
   "id": "7d968589-6b0a-4b02-91df-711bd7229be9",
   "metadata": {
    "tags": []
   },
   "outputs": [],
   "source": []
  },
  {
   "cell_type": "code",
   "execution_count": 752,
   "id": "5e873a1d-ffb8-48b4-be58-9ca2e8b22546",
   "metadata": {
    "tags": []
   },
   "outputs": [
    {
     "data": {
      "text/plain": [
       "(6734, [1, 3, 5, 8, 11])"
      ]
     },
     "execution_count": 752,
     "metadata": {},
     "output_type": "execute_result"
    }
   ],
   "source": [
    "len(G_1_angle_reg_index),G_1_angle_reg_index[:5]"
   ]
  },
  {
   "cell_type": "code",
   "execution_count": null,
   "id": "aaca2a4c-1b83-47c8-9aa5-182072fffb5d",
   "metadata": {
    "tags": []
   },
   "outputs": [],
   "source": []
  },
  {
   "cell_type": "code",
   "execution_count": 753,
   "id": "2b479a76-6848-4a28-b17f-5afcd48ae76a",
   "metadata": {
    "tags": []
   },
   "outputs": [],
   "source": [
    "#plane_structures_list[5553][1]"
   ]
  },
  {
   "cell_type": "code",
   "execution_count": 754,
   "id": "b5d467f9-4f24-41a7-b874-8fa8e9967b67",
   "metadata": {
    "tags": []
   },
   "outputs": [
    {
     "data": {
      "text/plain": [
       "(6734, [1, 3, 5, 8, 11])"
      ]
     },
     "execution_count": 754,
     "metadata": {},
     "output_type": "execute_result"
    }
   ],
   "source": [
    "len(G_1_angle_reg_index),G_1_angle_reg_index[:5]"
   ]
  },
  {
   "cell_type": "code",
   "execution_count": 755,
   "id": "8194562b-16ea-4c4e-a3de-0c8e3736c64b",
   "metadata": {
    "tags": []
   },
   "outputs": [],
   "source": [
    "all_data_G_1_angle_labels = []\n",
    "all_data_G_1_angle_data = [] \n",
    "# all empty nets\n",
    "# empty net with reasonable angles: 1\n",
    "# empty net with not reasonable angles: 2\n",
    "# non-empty net: 3\n",
    "for i in data.index:\n",
    "    if i in G_1_index:\n",
    "        sub_labels = []\n",
    "        sub_data = []\n",
    "        angle_list = G_1_angles[G_1_index.index(i)]\n",
    "        for angle in angle_list:\n",
    "            sub_data.append(list(angle))\n",
    "            if len(angle)==2 and 60 in angle and 120 in angle:\n",
    "                sub_labels.append(1)\n",
    "            else:\n",
    "                sub_labels.append(2)\n",
    "        all_data_G_1_angle_labels.append(sub_labels)\n",
    "        all_data_G_1_angle_data.append(sub_data)\n",
    "    else:\n",
    "        all_data_G_1_angle_labels.append([3])\n",
    "        all_data_G_1_angle_data.append('N/A')"
   ]
  },
  {
   "cell_type": "code",
   "execution_count": null,
   "id": "573103fb-545f-4f68-9b2c-8d562586be90",
   "metadata": {
    "tags": []
   },
   "outputs": [],
   "source": []
  },
  {
   "cell_type": "code",
   "execution_count": 756,
   "id": "52596af3-e096-4f9a-869f-189557f86846",
   "metadata": {
    "tags": []
   },
   "outputs": [],
   "source": [
    "data['angle_labels']=all_data_G_1_angle_labels\n",
    "data['unique_angles']=all_data_G_1_angle_data"
   ]
  },
  {
   "cell_type": "code",
   "execution_count": 757,
   "id": "20a2162b-5ac5-4be9-94b7-6bce3251c704",
   "metadata": {
    "tags": []
   },
   "outputs": [],
   "source": [
    "#data.rename(columns={\"angle_data\": \"unique_angles\"})"
   ]
  },
  {
   "cell_type": "code",
   "execution_count": null,
   "id": "6cd1e6dd-c62f-445a-9d13-5751941593b4",
   "metadata": {
    "tags": []
   },
   "outputs": [],
   "source": []
  },
  {
   "cell_type": "code",
   "execution_count": 759,
   "id": "efec6463-29b6-4f2e-ab8a-8f9a7d1c1b57",
   "metadata": {
    "tags": []
   },
   "outputs": [],
   "source": [
    "#G_1_angle_distance_info_all[G_1_index.index(16)]"
   ]
  },
  {
   "cell_type": "code",
   "execution_count": null,
   "id": "333ad962-43ad-40e4-9c71-9d1060542a93",
   "metadata": {
    "tags": []
   },
   "outputs": [],
   "source": []
  },
  {
   "cell_type": "code",
   "execution_count": null,
   "id": "826760f7-c59c-44ac-b965-d23c8bcdd2d6",
   "metadata": {
    "tags": []
   },
   "outputs": [],
   "source": []
  },
  {
   "cell_type": "code",
   "execution_count": 761,
   "id": "7cfc8d62-075c-48e5-91df-69e09c1d467d",
   "metadata": {
    "tags": []
   },
   "outputs": [],
   "source": [
    "#G_1_angle_nonreg_angle"
   ]
  },
  {
   "cell_type": "code",
   "execution_count": 762,
   "id": "ea903fd3-965e-4f63-ad41-0442519b3516",
   "metadata": {
    "tags": []
   },
   "outputs": [],
   "source": [
    "#plane_structures_pbc_list[1400][0]\n"
   ]
  },
  {
   "cell_type": "code",
   "execution_count": 763,
   "id": "7a2d3b9a-b8f9-482f-b96f-71f720a1b396",
   "metadata": {
    "tags": []
   },
   "outputs": [],
   "source": [
    "# define functions to analyze std of angles around an atom and atomic distances\n",
    "def quantity_std(site_info):\n",
    "    '''\n",
    "    site_info: a list of sites information containing atom index, angles, and distances\n",
    "    site_info[i][ii]=[j,i,k,angle,dij,dik,djk] \n",
    "    return: site grouped angles and distances\n",
    "    '''\n",
    "    l_i = range(len(site_info))\n",
    "    all_si_di = []\n",
    "    all_si_angles = []\n",
    "    for i in l_i:\n",
    "        si = np.array(site_info[i])\n",
    "        si_angles = si.T[3]\n",
    "        jk = [] # site-j and site-k index\n",
    "        si_di = [] # distance around site-i\n",
    "        for j in range(len(si.T[0])):\n",
    "            j_a = si.T[0][j]\n",
    "            if j_a not in jk:\n",
    "                jk.append(j_a)\n",
    "                si_di.append(si.T[4][j])\n",
    "        for k in range(len(si.T[2])):\n",
    "            k_a = si.T[2][k]\n",
    "            if k_a not in jk:\n",
    "                jk.append(k_a)\n",
    "                si_di.append(si.T[4][k])\n",
    "        #print(jk)\n",
    "        all_si_di.append(np.array(si_di))\n",
    "        all_si_angles.append(si_angles)\n",
    "    all_si_di = np.array(all_si_di)\n",
    "    all_si_angles = np.array(all_si_angles)\n",
    "    return all_si_di,all_si_angles\n",
    "\n",
    "# define functions to get the angles and distances around specified sites-i\n",
    "def get_angles_distances_jik(site_info):\n",
    "    '''\n",
    "    site_info: a list of sites information containing atom index, angles, and distances\n",
    "    site_info[i][ii]=[j,i,k,angle,dij,dik,djk] \n",
    "    return: site grouped Angles_jik and Distances-djk\n",
    "    '''\n",
    "    l_i = range(len(site_info))\n",
    "    all_si_di = []\n",
    "    all_si_angles = []\n",
    "    for i in l_i:\n",
    "        si = np.array(site_info[i])\n",
    "        si_angles = si.T[3]\n",
    "        si_djk = si.T[-1]\n",
    "        \n",
    "        all_si_di.append(np.array(si_djk))\n",
    "        all_si_angles.append(si_angles)\n",
    "    all_si_di = np.array(all_si_di)\n",
    "    all_si_angles = np.array(all_si_angles)\n",
    "    return all_si_di,all_si_angles\n"
   ]
  },
  {
   "cell_type": "code",
   "execution_count": 764,
   "id": "dd9e530a-5182-4e92-8d76-89d28ade02e9",
   "metadata": {
    "tags": []
   },
   "outputs": [],
   "source": [
    "# function to group the nearest sites according to angles from get_angles_distances_jik\n",
    "def get_quantity_std(all_site_distances,all_site_angles,angles_around=60,delta=40):\n",
    "    '''\n",
    "    all_site_distances,all_site_angles: np.arrays from get_angles_distances_jik\n",
    "    angels_around: only return distances when the angles are roughtly equal to this value.\n",
    "    delta: difference between max and min angles for grouping the angles. \n",
    "    '''\n",
    "    l_i = range(len(all_site_distances))\n",
    "    selected_angles = np.array([])\n",
    "    selected_djk = np.array([])\n",
    "    for i in l_i:\n",
    "        #print(selected_angles)\n",
    "        si_angles = all_site_angles[i]#-angles_around\n",
    "        si_angles_abs = np.abs(all_site_angles[i]-angles_around)\n",
    "        si_djk = all_site_distances[i]\n",
    "        \n",
    "        angles_abs_sort,angles_abs_group,angles_abs_group_index = group_angles(si_angles_abs,delta=delta)\n",
    "        #print(np.array([si_angles[int(index)] for index in angles_abs_group_index[0]]))\n",
    "        selected_angles = np.concatenate([selected_angles,np.array([si_angles[int(index)] for index in angles_abs_group_index[0]])])\n",
    "        selected_djk = np.concatenate([selected_djk,np.array([si_djk[int(index)] for index in angles_abs_group_index[0]])])\n",
    "    return selected_angles,selected_djk"
   ]
  },
  {
   "cell_type": "code",
   "execution_count": null,
   "id": "172b6704-322e-44ee-945e-ebb79545cfab",
   "metadata": {
    "tags": []
   },
   "outputs": [],
   "source": []
  },
  {
   "cell_type": "code",
   "execution_count": null,
   "id": "06d72e0f-c17e-4521-9972-b56fbe212041",
   "metadata": {
    "tags": []
   },
   "outputs": [],
   "source": []
  },
  {
   "cell_type": "code",
   "execution_count": null,
   "id": "322a985d-ad75-467c-95b1-989d1b813249",
   "metadata": {
    "tags": []
   },
   "outputs": [],
   "source": []
  },
  {
   "cell_type": "code",
   "execution_count": null,
   "id": "99296dfc-93fd-4cc4-8625-fe056e22dda0",
   "metadata": {
    "tags": []
   },
   "outputs": [],
   "source": []
  },
  {
   "cell_type": "code",
   "execution_count": null,
   "id": "7e81cef8-790b-4650-8255-822bf9c8eb20",
   "metadata": {
    "tags": []
   },
   "outputs": [],
   "source": []
  },
  {
   "cell_type": "code",
   "execution_count": null,
   "id": "513ac048-ec9c-4ee9-9864-000bf750bdfa",
   "metadata": {
    "tags": []
   },
   "outputs": [],
   "source": []
  },
  {
   "cell_type": "code",
   "execution_count": 770,
   "id": "b0ed78b9-42d0-4af1-8211-68133126b462",
   "metadata": {
    "tags": []
   },
   "outputs": [],
   "source": [
    "all_data_angles_around_60_mean = []\n",
    "all_data_angles_around_60_std = []\n",
    "all_data_djk_around_60_mean = []\n",
    "all_data_djk_around_60_std = []\n",
    "all_data_angles_around_60 = []\n",
    "all_data_djk_around_60 = []\n",
    "\n",
    "# no data: 'NA'\n",
    "for i in data.index:\n",
    "    if i in G_1_index:\n",
    "        angles_std = []\n",
    "        angles_mean = []\n",
    "        djk_std = []\n",
    "        djk_mean = []\n",
    "        all_angles_jik_list = []\n",
    "        all_djk_list = []\n",
    "        iG = G_1_index.index(i)\n",
    "        for j in range(len(G_1_angle_distance_info_all[iG])):\n",
    "            G_1_angle_distance_info_ = G_1_angle_distance_info_all[iG][j]\n",
    "            \n",
    "            test_di,test_angles = get_angles_distances_jik(G_1_angle_distance_info_)\n",
    "            all_angles_jik, all_djk = get_quantity_std(test_di,test_angles,angles_around=60,delta=20)\n",
    "            \n",
    "            djk_std.append(np.round(np.std(all_djk),5))\n",
    "            angles_std.append(np.round(np.std(all_angles_jik),5))\n",
    "            djk_mean.append(np.round(np.mean(all_djk),5))\n",
    "            angles_mean.append(np.round(np.mean(all_angles_jik),5))\n",
    "            all_angles_jik_list.append(list(all_angles_jik))\n",
    "            all_djk_list.append(list(all_djk))\n",
    "            \n",
    "        all_data_djk_around_60_std.append(djk_std)\n",
    "        all_data_angles_around_60_std.append(angles_std)\n",
    "        all_data_djk_around_60_mean.append(djk_mean)\n",
    "        all_data_angles_around_60_mean.append(angles_mean)\n",
    "        all_data_angles_around_60.append(all_angles_jik_list)\n",
    "        all_data_djk_around_60.append(all_djk_list)\n",
    "    else:\n",
    "        all_data_djk_around_60_std.append('N/A')\n",
    "        all_data_angles_around_60_std.append('N/A')\n",
    "        all_data_djk_around_60_mean.append('N/A')\n",
    "        all_data_angles_around_60_mean.append('N/A')\n",
    "        all_data_angles_around_60.append('N/A')\n",
    "        all_data_djk_around_60.append('N/A')"
   ]
  },
  {
   "cell_type": "code",
   "execution_count": null,
   "id": "dcbf8488-0aa2-4c39-9127-c51b26f11e2c",
   "metadata": {
    "tags": []
   },
   "outputs": [],
   "source": []
  },
  {
   "cell_type": "code",
   "execution_count": 771,
   "id": "81ab9697-f369-4d0d-9f32-8713718d7952",
   "metadata": {
    "tags": []
   },
   "outputs": [],
   "source": [
    "data['distance_mean_60'] = all_data_djk_around_60_mean\n",
    "data['distance_std_60'] = all_data_djk_around_60_std\n",
    "data['angles_mean_60'] = all_data_angles_around_60_mean\n",
    "data['angles_std_60'] = all_data_angles_around_60_std\n",
    "data['angles_60_data'] = all_data_angles_around_60\n",
    "data['distance_60_data'] = all_data_djk_around_60"
   ]
  },
  {
   "cell_type": "code",
   "execution_count": null,
   "id": "8183c562-b474-4e6e-8409-f3fbc05db5c3",
   "metadata": {
    "tags": []
   },
   "outputs": [],
   "source": []
  },
  {
   "cell_type": "code",
   "execution_count": 772,
   "id": "b778c094-a3b2-45bf-8702-be7ba8e03f23",
   "metadata": {
    "tags": []
   },
   "outputs": [],
   "source": [
    "all_data_angles_around_120_mean = []\n",
    "all_data_angles_around_120_std = []\n",
    "all_data_djk_around_120_mean = []\n",
    "all_data_djk_around_120_std = []\n",
    "all_data_angles_around_120 = []\n",
    "all_data_djk_around_120 = []\n",
    "\n",
    "# no data: 'NA'\n",
    "for i in data.index:\n",
    "    if i in G_1_index:\n",
    "        angles_std = []\n",
    "        angles_mean = []\n",
    "        djk_std = []\n",
    "        djk_mean = []\n",
    "        all_angles_jik_list = []\n",
    "        all_djk_list = []\n",
    "        iG = G_1_index.index(i)\n",
    "        for j in range(len(G_1_angle_distance_info_all[iG])):\n",
    "            G_1_angle_distance_info_ = G_1_angle_distance_info_all[iG][j]\n",
    "            \n",
    "            test_di,test_angles = get_angles_distances_jik(G_1_angle_distance_info_)\n",
    "            all_angles_jik, all_djk = get_quantity_std(test_di,test_angles,angles_around=120,delta=20)\n",
    "            \n",
    "            djk_std.append(np.round(np.std(all_djk),5))\n",
    "            angles_std.append(np.round(np.std(all_angles_jik),5))\n",
    "            djk_mean.append(np.round(np.mean(all_djk),5))\n",
    "            angles_mean.append(np.round(np.mean(all_angles_jik),5))\n",
    "            all_angles_jik_list.append(list(all_angles_jik))\n",
    "            all_djk_list.append(list(all_djk))\n",
    "            \n",
    "        all_data_djk_around_120_std.append(djk_std)\n",
    "        all_data_angles_around_120_std.append(angles_std)\n",
    "        all_data_djk_around_120_mean.append(djk_mean)\n",
    "        all_data_angles_around_120_mean.append(angles_mean)\n",
    "        all_data_angles_around_120.append(all_angles_jik_list)\n",
    "        all_data_djk_around_120.append(all_djk_list)\n",
    "    else:\n",
    "        all_data_djk_around_120_std.append('N/A')\n",
    "        all_data_angles_around_120_std.append('N/A')\n",
    "        all_data_djk_around_120_mean.append('N/A')\n",
    "        all_data_angles_around_120_mean.append('N/A')\n",
    "        all_data_angles_around_120.append('N/A')\n",
    "        all_data_djk_around_120.append('N/A')"
   ]
  },
  {
   "cell_type": "code",
   "execution_count": 773,
   "id": "d8c03009-8fcb-413f-8705-1962949309a6",
   "metadata": {
    "tags": []
   },
   "outputs": [],
   "source": [
    "data['distance_mean_120'] = all_data_djk_around_120_mean\n",
    "data['distance_std_120'] = all_data_djk_around_120_std\n",
    "data['angles_mean_120'] = all_data_angles_around_120_mean\n",
    "data['angles_std_120'] = all_data_angles_around_120_std\n",
    "data['angles_120_data'] = all_data_angles_around_120\n",
    "data['distance_120_data'] = all_data_djk_around_120"
   ]
  },
  {
   "cell_type": "code",
   "execution_count": 774,
   "id": "0f2648a9-8ec9-495d-a61e-17c1cdb737b7",
   "metadata": {
    "tags": []
   },
   "outputs": [
    {
     "data": {
      "text/plain": [
       "Index(['Unnamed: 0', 'sorted_cifs_ids_non_empty',\n",
       "       'sorted_cifs_ids_short_non_empty', 'gph_grouped_non_empty',\n",
       "       'sorted_cifs_non_empty', 'cifs_name', 'unique_gph', 'num_atom',\n",
       "       'match_gph', 'CN_plane', 'CN_group_index', 'angle_labels',\n",
       "       'unique_angles', 'distance_mean_60', 'distance_std_60',\n",
       "       'angles_mean_60', 'angles_std_60', 'angles_60_data', 'distance_60_data',\n",
       "       'distance_mean_120', 'distance_std_120', 'angles_mean_120',\n",
       "       'angles_std_120', 'angles_120_data', 'distance_120_data', 'cifs_ids',\n",
       "       'space_group_num', 'composition', 'gph_grouped'],\n",
       "      dtype='object')"
      ]
     },
     "execution_count": 774,
     "metadata": {},
     "output_type": "execute_result"
    }
   ],
   "source": [
    "data.columns"
   ]
  },
  {
   "cell_type": "code",
   "execution_count": null,
   "id": "31268804-43db-4175-8824-f8f7888413d1",
   "metadata": {
    "tags": []
   },
   "outputs": [],
   "source": []
  },
  {
   "cell_type": "code",
   "execution_count": 776,
   "id": "1bbf0c18-cc64-4b04-b05e-326d9d2899c9",
   "metadata": {
    "tags": []
   },
   "outputs": [
    {
     "data": {
      "text/html": [
       "<div>\n",
       "<style scoped>\n",
       "    .dataframe tbody tr th:only-of-type {\n",
       "        vertical-align: middle;\n",
       "    }\n",
       "\n",
       "    .dataframe tbody tr th {\n",
       "        vertical-align: top;\n",
       "    }\n",
       "\n",
       "    .dataframe thead th {\n",
       "        text-align: right;\n",
       "    }\n",
       "</style>\n",
       "<table border=\"1\" class=\"dataframe\">\n",
       "  <thead>\n",
       "    <tr style=\"text-align: right;\">\n",
       "      <th></th>\n",
       "      <th>Unnamed: 0</th>\n",
       "      <th>sorted_cifs_ids_non_empty</th>\n",
       "      <th>sorted_cifs_ids_short_non_empty</th>\n",
       "      <th>gph_grouped_non_empty</th>\n",
       "      <th>sorted_cifs_non_empty</th>\n",
       "      <th>cifs_name</th>\n",
       "      <th>unique_gph</th>\n",
       "      <th>num_atom</th>\n",
       "      <th>match_gph</th>\n",
       "      <th>CN_plane</th>\n",
       "      <th>...</th>\n",
       "      <th>distance_mean_120</th>\n",
       "      <th>distance_std_120</th>\n",
       "      <th>angles_mean_120</th>\n",
       "      <th>angles_std_120</th>\n",
       "      <th>angles_120_data</th>\n",
       "      <th>distance_120_data</th>\n",
       "      <th>cifs_ids</th>\n",
       "      <th>space_group_num</th>\n",
       "      <th>composition</th>\n",
       "      <th>gph_grouped</th>\n",
       "    </tr>\n",
       "  </thead>\n",
       "  <tbody>\n",
       "    <tr>\n",
       "      <th>0</th>\n",
       "      <td>0</td>\n",
       "      <td>71</td>\n",
       "      <td>71</td>\n",
       "      <td>['Fe3Sn2-71-Cagome_big.gph', 'Fe3Sn2-71-Cagome...</td>\n",
       "      <td>intermetallics_search_000071.cif</td>\n",
       "      <td>intermetallics_search_000071.cif</td>\n",
       "      <td>[0]</td>\n",
       "      <td>30</td>\n",
       "      <td>[[-0.10606060825053208, -0.06123412072386011, ...</td>\n",
       "      <td>[[6, 6, 6, 6]]</td>\n",
       "      <td>...</td>\n",
       "      <td>N/A</td>\n",
       "      <td>N/A</td>\n",
       "      <td>N/A</td>\n",
       "      <td>N/A</td>\n",
       "      <td>N/A</td>\n",
       "      <td>N/A</td>\n",
       "      <td>intermetallics_search_000071.cif</td>\n",
       "      <td>166</td>\n",
       "      <td>{'Fe0+': 18.0, 'Sn0+': 12.0}</td>\n",
       "      <td>['Fe3Sn2-71-Cagome_big.gph', 'Fe3Sn2-71-Cagome...</td>\n",
       "    </tr>\n",
       "    <tr>\n",
       "      <th>1</th>\n",
       "      <td>1</td>\n",
       "      <td>74</td>\n",
       "      <td>74</td>\n",
       "      <td>['Fe3Mn4Ge6-74-Cagome_big.gph', 'Fe3Mn4Ge6-74-...</td>\n",
       "      <td>intermetallics_search_000074.cif</td>\n",
       "      <td>intermetallics_search_000074.cif</td>\n",
       "      <td>[0]</td>\n",
       "      <td>13</td>\n",
       "      <td>[[9.84556895428385e-16, 1.7053025658242402e-15...</td>\n",
       "      <td>[[4, 4, 4]]</td>\n",
       "      <td>...</td>\n",
       "      <td>[4.43405]</td>\n",
       "      <td>[0.0]</td>\n",
       "      <td>[120.0]</td>\n",
       "      <td>[0.0]</td>\n",
       "      <td>[[120.0, 120.0, 120.0, 120.0, 120.0, 120.0]]</td>\n",
       "      <td>[[4.43405, 4.43405, 4.43405, 4.43405, 4.43405,...</td>\n",
       "      <td>intermetallics_search_000074.cif</td>\n",
       "      <td>191</td>\n",
       "      <td>{'Fe0+': 3.0001999999999995, 'Mn0+': 3.9998000...</td>\n",
       "      <td>['Fe3Mn4Ge6-74-Cagome_big.gph', 'Fe3Mn4Ge6-74-...</td>\n",
       "    </tr>\n",
       "    <tr>\n",
       "      <th>2</th>\n",
       "      <td>2</td>\n",
       "      <td>77</td>\n",
       "      <td>77</td>\n",
       "      <td>['Bi3Y5-77-Cagome_big.gph', 'Bi3Y5-77-Cagome_b...</td>\n",
       "      <td>intermetallics_search_000077.cif</td>\n",
       "      <td>intermetallics_search_000077.cif</td>\n",
       "      <td>[0]</td>\n",
       "      <td>32</td>\n",
       "      <td>[[0.0, -0.3788635297973532, -0.0, -0.890424010...</td>\n",
       "      <td>[[5, 5, 6, 6, 5, 5, 4, 4]]</td>\n",
       "      <td>...</td>\n",
       "      <td>N/A</td>\n",
       "      <td>N/A</td>\n",
       "      <td>N/A</td>\n",
       "      <td>N/A</td>\n",
       "      <td>N/A</td>\n",
       "      <td>N/A</td>\n",
       "      <td>intermetallics_search_000077.cif</td>\n",
       "      <td>62</td>\n",
       "      <td>{'Y0+': 20.0, 'Bi0+': 12.0}</td>\n",
       "      <td>['Bi3Y5-77-Cagome_big.gph', 'Bi3Y5-77-Cagome_b...</td>\n",
       "    </tr>\n",
       "    <tr>\n",
       "      <th>3</th>\n",
       "      <td>3</td>\n",
       "      <td>362</td>\n",
       "      <td>362</td>\n",
       "      <td>['Cs6K7-362-Cagome_big.gph', 'Cs6K7-362-Cagome...</td>\n",
       "      <td>intermetallics_search_000362.cif</td>\n",
       "      <td>intermetallics_search_000362.cif</td>\n",
       "      <td>[0]</td>\n",
       "      <td>26</td>\n",
       "      <td>[[-1.7456666904760174e-15, -1.0078584460337928...</td>\n",
       "      <td>[[4, 4, 4]]</td>\n",
       "      <td>...</td>\n",
       "      <td>[7.86178]</td>\n",
       "      <td>[0.0]</td>\n",
       "      <td>[120.0]</td>\n",
       "      <td>[0.0]</td>\n",
       "      <td>[[120.0, 120.0, 120.0, 120.0, 120.0, 120.0]]</td>\n",
       "      <td>[[7.86178, 7.86178, 7.86178, 7.86178, 7.86178,...</td>\n",
       "      <td>intermetallics_search_000362.cif</td>\n",
       "      <td>194</td>\n",
       "      <td>{'Cs0+': 12.0, 'K0+': 14.0}</td>\n",
       "      <td>['Cs6K7-362-Cagome_big.gph', 'Cs6K7-362-Cagome...</td>\n",
       "    </tr>\n",
       "    <tr>\n",
       "      <th>4</th>\n",
       "      <td>4</td>\n",
       "      <td>458</td>\n",
       "      <td>458</td>\n",
       "      <td>['Tb2(Fe0.832Al0.168)17-458-Cagome_big.gph', '...</td>\n",
       "      <td>intermetallics_search_000458.cif</td>\n",
       "      <td>intermetallics_search_000458.cif</td>\n",
       "      <td>[0]</td>\n",
       "      <td>22</td>\n",
       "      <td>[[-1.5820614745242897e-17, -2.7402108545734038...</td>\n",
       "      <td>[[4, 4, 4, 4, 4, 4, 4, 4, 4]]</td>\n",
       "      <td>...</td>\n",
       "      <td>[4.266]</td>\n",
       "      <td>[0.0007]</td>\n",
       "      <td>[120.0]</td>\n",
       "      <td>[0.01633]</td>\n",
       "      <td>[[120.0, 120.02, 120.0, 120.02, 120.0, 120.02,...</td>\n",
       "      <td>[[4.26686, 4.266, 4.26686, 4.266, 4.26686, 4.2...</td>\n",
       "      <td>intermetallics_search_000458.cif</td>\n",
       "      <td>191</td>\n",
       "      <td>{'Tb0+': 2.0, 'Fe0+': 14.144000000000005, 'Al0...</td>\n",
       "      <td>['Tb2(Fe0.832Al0.168)17-458-Cagome_big.gph', '...</td>\n",
       "    </tr>\n",
       "    <tr>\n",
       "      <th>...</th>\n",
       "      <td>...</td>\n",
       "      <td>...</td>\n",
       "      <td>...</td>\n",
       "      <td>...</td>\n",
       "      <td>...</td>\n",
       "      <td>...</td>\n",
       "      <td>...</td>\n",
       "      <td>...</td>\n",
       "      <td>...</td>\n",
       "      <td>...</td>\n",
       "      <td>...</td>\n",
       "      <td>...</td>\n",
       "      <td>...</td>\n",
       "      <td>...</td>\n",
       "      <td>...</td>\n",
       "      <td>...</td>\n",
       "      <td>...</td>\n",
       "      <td>...</td>\n",
       "      <td>...</td>\n",
       "      <td>...</td>\n",
       "      <td>...</td>\n",
       "    </tr>\n",
       "    <tr>\n",
       "      <th>14995</th>\n",
       "      <td>14995</td>\n",
       "      <td>687536</td>\n",
       "      <td>687536</td>\n",
       "      <td>['Pt3Zr-687536-Cagome_big.gph']</td>\n",
       "      <td>intermetallics_search_687536.cif</td>\n",
       "      <td>intermetallics_search_687536.cif</td>\n",
       "      <td>[0]</td>\n",
       "      <td>4</td>\n",
       "      <td>[[1.0236380625, -1.0236380624999997, -1.023638...</td>\n",
       "      <td>[[6, 6, 6, 6]]</td>\n",
       "      <td>...</td>\n",
       "      <td>N/A</td>\n",
       "      <td>N/A</td>\n",
       "      <td>N/A</td>\n",
       "      <td>N/A</td>\n",
       "      <td>N/A</td>\n",
       "      <td>N/A</td>\n",
       "      <td>intermetallics_search_687536.cif</td>\n",
       "      <td>221</td>\n",
       "      <td>{'Zr0+': 1.0, 'Pt0+': 3.0}</td>\n",
       "      <td>['Pt3Zr-687536-Cagome_big.gph']</td>\n",
       "    </tr>\n",
       "    <tr>\n",
       "      <th>14996</th>\n",
       "      <td>14996</td>\n",
       "      <td>687540</td>\n",
       "      <td>687540</td>\n",
       "      <td>['CoVIn-687540-Cagome_big.gph', 'CoVIn-687540-...</td>\n",
       "      <td>intermetallics_search_687540.cif</td>\n",
       "      <td>intermetallics_search_687540.cif</td>\n",
       "      <td>[0, 1]</td>\n",
       "      <td>12</td>\n",
       "      <td>[[-1.841449, -1.8414489999999997, -1.841449, -...</td>\n",
       "      <td>[[6, 6, 6, 6], [6, 6, 6, 6]]</td>\n",
       "      <td>...</td>\n",
       "      <td>N/A</td>\n",
       "      <td>N/A</td>\n",
       "      <td>N/A</td>\n",
       "      <td>N/A</td>\n",
       "      <td>N/A</td>\n",
       "      <td>N/A</td>\n",
       "      <td>intermetallics_search_687540.cif</td>\n",
       "      <td>216</td>\n",
       "      <td>{'V0+': 4.0, 'In0+': 4.0, 'Co0+': 4.0}</td>\n",
       "      <td>['CoVIn-687540-Cagome_big.gph', 'CoVIn-687540-...</td>\n",
       "    </tr>\n",
       "    <tr>\n",
       "      <th>14997</th>\n",
       "      <td>14997</td>\n",
       "      <td>687555</td>\n",
       "      <td>687555</td>\n",
       "      <td>['GdCo2-687555-Cagome_big.gph']</td>\n",
       "      <td>intermetallics_search_687555.cif</td>\n",
       "      <td>intermetallics_search_687555.cif</td>\n",
       "      <td>[0]</td>\n",
       "      <td>24</td>\n",
       "      <td>[[0.034234250625, -0.03423425062499999, 0.0342...</td>\n",
       "      <td>[[4, 4, 4, 4, 4, 4, 4, 4, 4, 4, 4, 4]]</td>\n",
       "      <td>...</td>\n",
       "      <td>[4.53217]</td>\n",
       "      <td>[0.0]</td>\n",
       "      <td>[120.0]</td>\n",
       "      <td>[0.0]</td>\n",
       "      <td>[[120.0, 120.0, 120.0, 120.0, 120.0, 120.0, 12...</td>\n",
       "      <td>[[4.53217, 4.53217, 4.53217, 4.53217, 4.53217,...</td>\n",
       "      <td>intermetallics_search_687555.cif</td>\n",
       "      <td>227</td>\n",
       "      <td>{'Gd0+': 8.0, 'Co0+': 16.0}</td>\n",
       "      <td>['GdCo2-687555-Cagome_big.gph']</td>\n",
       "    </tr>\n",
       "    <tr>\n",
       "      <th>14998</th>\n",
       "      <td>14998</td>\n",
       "      <td>687556</td>\n",
       "      <td>687556</td>\n",
       "      <td>['EuCo2-687556-Cagome_big.gph']</td>\n",
       "      <td>intermetallics_search_687556.cif</td>\n",
       "      <td>intermetallics_search_687556.cif</td>\n",
       "      <td>[0]</td>\n",
       "      <td>24</td>\n",
       "      <td>[[0.06837602, -0.06837601999999998, -0.0683760...</td>\n",
       "      <td>[[4, 4, 4, 4, 4, 4, 4, 4, 4, 4, 4, 4]]</td>\n",
       "      <td>...</td>\n",
       "      <td>[4.52911]</td>\n",
       "      <td>[0.0]</td>\n",
       "      <td>[120.0]</td>\n",
       "      <td>[0.0]</td>\n",
       "      <td>[[120.0, 120.0, 120.0, 120.0, 120.0, 120.0, 12...</td>\n",
       "      <td>[[4.52911, 4.52911, 4.52911, 4.52911, 4.52911,...</td>\n",
       "      <td>intermetallics_search_687556.cif</td>\n",
       "      <td>227</td>\n",
       "      <td>{'Eu0+': 8.0, 'Co0+': 16.0}</td>\n",
       "      <td>['EuCo2-687556-Cagome_big.gph']</td>\n",
       "    </tr>\n",
       "    <tr>\n",
       "      <th>14999</th>\n",
       "      <td>14999</td>\n",
       "      <td>710090</td>\n",
       "      <td>710090</td>\n",
       "      <td>['BaGe1.51-710090-Cagome_big.gph']</td>\n",
       "      <td>intermetallics_search_710090.cif</td>\n",
       "      <td>intermetallics_search_710090.cif</td>\n",
       "      <td>[0]</td>\n",
       "      <td>3</td>\n",
       "      <td>[[-7.377167699531863e-17, -1.2777629271545197e...</td>\n",
       "      <td>[[6]]</td>\n",
       "      <td>...</td>\n",
       "      <td>N/A</td>\n",
       "      <td>N/A</td>\n",
       "      <td>N/A</td>\n",
       "      <td>N/A</td>\n",
       "      <td>N/A</td>\n",
       "      <td>N/A</td>\n",
       "      <td>intermetallics_search_710090.cif</td>\n",
       "      <td>191</td>\n",
       "      <td>{'Ba2+': 1.0, 'Ge1.32-': 1.512}</td>\n",
       "      <td>['BaGe1.51-710090-Cagome_big.gph']</td>\n",
       "    </tr>\n",
       "  </tbody>\n",
       "</table>\n",
       "<p>15000 rows × 29 columns</p>\n",
       "</div>"
      ],
      "text/plain": [
       "       Unnamed: 0  sorted_cifs_ids_non_empty  sorted_cifs_ids_short_non_empty  \\\n",
       "0               0                         71                               71   \n",
       "1               1                         74                               74   \n",
       "2               2                         77                               77   \n",
       "3               3                        362                              362   \n",
       "4               4                        458                              458   \n",
       "...           ...                        ...                              ...   \n",
       "14995       14995                     687536                           687536   \n",
       "14996       14996                     687540                           687540   \n",
       "14997       14997                     687555                           687555   \n",
       "14998       14998                     687556                           687556   \n",
       "14999       14999                     710090                           710090   \n",
       "\n",
       "                                   gph_grouped_non_empty  \\\n",
       "0      ['Fe3Sn2-71-Cagome_big.gph', 'Fe3Sn2-71-Cagome...   \n",
       "1      ['Fe3Mn4Ge6-74-Cagome_big.gph', 'Fe3Mn4Ge6-74-...   \n",
       "2      ['Bi3Y5-77-Cagome_big.gph', 'Bi3Y5-77-Cagome_b...   \n",
       "3      ['Cs6K7-362-Cagome_big.gph', 'Cs6K7-362-Cagome...   \n",
       "4      ['Tb2(Fe0.832Al0.168)17-458-Cagome_big.gph', '...   \n",
       "...                                                  ...   \n",
       "14995                    ['Pt3Zr-687536-Cagome_big.gph']   \n",
       "14996  ['CoVIn-687540-Cagome_big.gph', 'CoVIn-687540-...   \n",
       "14997                    ['GdCo2-687555-Cagome_big.gph']   \n",
       "14998                    ['EuCo2-687556-Cagome_big.gph']   \n",
       "14999                 ['BaGe1.51-710090-Cagome_big.gph']   \n",
       "\n",
       "                  sorted_cifs_non_empty                         cifs_name  \\\n",
       "0      intermetallics_search_000071.cif  intermetallics_search_000071.cif   \n",
       "1      intermetallics_search_000074.cif  intermetallics_search_000074.cif   \n",
       "2      intermetallics_search_000077.cif  intermetallics_search_000077.cif   \n",
       "3      intermetallics_search_000362.cif  intermetallics_search_000362.cif   \n",
       "4      intermetallics_search_000458.cif  intermetallics_search_000458.cif   \n",
       "...                                 ...                               ...   \n",
       "14995  intermetallics_search_687536.cif  intermetallics_search_687536.cif   \n",
       "14996  intermetallics_search_687540.cif  intermetallics_search_687540.cif   \n",
       "14997  intermetallics_search_687555.cif  intermetallics_search_687555.cif   \n",
       "14998  intermetallics_search_687556.cif  intermetallics_search_687556.cif   \n",
       "14999  intermetallics_search_710090.cif  intermetallics_search_710090.cif   \n",
       "\n",
       "      unique_gph  num_atom                                          match_gph  \\\n",
       "0            [0]        30  [[-0.10606060825053208, -0.06123412072386011, ...   \n",
       "1            [0]        13  [[9.84556895428385e-16, 1.7053025658242402e-15...   \n",
       "2            [0]        32  [[0.0, -0.3788635297973532, -0.0, -0.890424010...   \n",
       "3            [0]        26  [[-1.7456666904760174e-15, -1.0078584460337928...   \n",
       "4            [0]        22  [[-1.5820614745242897e-17, -2.7402108545734038...   \n",
       "...          ...       ...                                                ...   \n",
       "14995        [0]         4  [[1.0236380625, -1.0236380624999997, -1.023638...   \n",
       "14996     [0, 1]        12  [[-1.841449, -1.8414489999999997, -1.841449, -...   \n",
       "14997        [0]        24  [[0.034234250625, -0.03423425062499999, 0.0342...   \n",
       "14998        [0]        24  [[0.06837602, -0.06837601999999998, -0.0683760...   \n",
       "14999        [0]         3  [[-7.377167699531863e-17, -1.2777629271545197e...   \n",
       "\n",
       "                                     CN_plane  ... distance_mean_120  \\\n",
       "0                              [[6, 6, 6, 6]]  ...               N/A   \n",
       "1                                 [[4, 4, 4]]  ...         [4.43405]   \n",
       "2                  [[5, 5, 6, 6, 5, 5, 4, 4]]  ...               N/A   \n",
       "3                                 [[4, 4, 4]]  ...         [7.86178]   \n",
       "4               [[4, 4, 4, 4, 4, 4, 4, 4, 4]]  ...           [4.266]   \n",
       "...                                       ...  ...               ...   \n",
       "14995                          [[6, 6, 6, 6]]  ...               N/A   \n",
       "14996            [[6, 6, 6, 6], [6, 6, 6, 6]]  ...               N/A   \n",
       "14997  [[4, 4, 4, 4, 4, 4, 4, 4, 4, 4, 4, 4]]  ...         [4.53217]   \n",
       "14998  [[4, 4, 4, 4, 4, 4, 4, 4, 4, 4, 4, 4]]  ...         [4.52911]   \n",
       "14999                                   [[6]]  ...               N/A   \n",
       "\n",
       "      distance_std_120 angles_mean_120 angles_std_120  \\\n",
       "0                  N/A             N/A            N/A   \n",
       "1                [0.0]         [120.0]          [0.0]   \n",
       "2                  N/A             N/A            N/A   \n",
       "3                [0.0]         [120.0]          [0.0]   \n",
       "4             [0.0007]         [120.0]      [0.01633]   \n",
       "...                ...             ...            ...   \n",
       "14995              N/A             N/A            N/A   \n",
       "14996              N/A             N/A            N/A   \n",
       "14997            [0.0]         [120.0]          [0.0]   \n",
       "14998            [0.0]         [120.0]          [0.0]   \n",
       "14999              N/A             N/A            N/A   \n",
       "\n",
       "                                         angles_120_data  \\\n",
       "0                                                    N/A   \n",
       "1           [[120.0, 120.0, 120.0, 120.0, 120.0, 120.0]]   \n",
       "2                                                    N/A   \n",
       "3           [[120.0, 120.0, 120.0, 120.0, 120.0, 120.0]]   \n",
       "4      [[120.0, 120.02, 120.0, 120.02, 120.0, 120.02,...   \n",
       "...                                                  ...   \n",
       "14995                                                N/A   \n",
       "14996                                                N/A   \n",
       "14997  [[120.0, 120.0, 120.0, 120.0, 120.0, 120.0, 12...   \n",
       "14998  [[120.0, 120.0, 120.0, 120.0, 120.0, 120.0, 12...   \n",
       "14999                                                N/A   \n",
       "\n",
       "                                       distance_120_data  \\\n",
       "0                                                    N/A   \n",
       "1      [[4.43405, 4.43405, 4.43405, 4.43405, 4.43405,...   \n",
       "2                                                    N/A   \n",
       "3      [[7.86178, 7.86178, 7.86178, 7.86178, 7.86178,...   \n",
       "4      [[4.26686, 4.266, 4.26686, 4.266, 4.26686, 4.2...   \n",
       "...                                                  ...   \n",
       "14995                                                N/A   \n",
       "14996                                                N/A   \n",
       "14997  [[4.53217, 4.53217, 4.53217, 4.53217, 4.53217,...   \n",
       "14998  [[4.52911, 4.52911, 4.52911, 4.52911, 4.52911,...   \n",
       "14999                                                N/A   \n",
       "\n",
       "                               cifs_ids space_group_num  \\\n",
       "0      intermetallics_search_000071.cif             166   \n",
       "1      intermetallics_search_000074.cif             191   \n",
       "2      intermetallics_search_000077.cif              62   \n",
       "3      intermetallics_search_000362.cif             194   \n",
       "4      intermetallics_search_000458.cif             191   \n",
       "...                                 ...             ...   \n",
       "14995  intermetallics_search_687536.cif             221   \n",
       "14996  intermetallics_search_687540.cif             216   \n",
       "14997  intermetallics_search_687555.cif             227   \n",
       "14998  intermetallics_search_687556.cif             227   \n",
       "14999  intermetallics_search_710090.cif             191   \n",
       "\n",
       "                                             composition  \\\n",
       "0                           {'Fe0+': 18.0, 'Sn0+': 12.0}   \n",
       "1      {'Fe0+': 3.0001999999999995, 'Mn0+': 3.9998000...   \n",
       "2                            {'Y0+': 20.0, 'Bi0+': 12.0}   \n",
       "3                            {'Cs0+': 12.0, 'K0+': 14.0}   \n",
       "4      {'Tb0+': 2.0, 'Fe0+': 14.144000000000005, 'Al0...   \n",
       "...                                                  ...   \n",
       "14995                         {'Zr0+': 1.0, 'Pt0+': 3.0}   \n",
       "14996             {'V0+': 4.0, 'In0+': 4.0, 'Co0+': 4.0}   \n",
       "14997                        {'Gd0+': 8.0, 'Co0+': 16.0}   \n",
       "14998                        {'Eu0+': 8.0, 'Co0+': 16.0}   \n",
       "14999                    {'Ba2+': 1.0, 'Ge1.32-': 1.512}   \n",
       "\n",
       "                                             gph_grouped  \n",
       "0      ['Fe3Sn2-71-Cagome_big.gph', 'Fe3Sn2-71-Cagome...  \n",
       "1      ['Fe3Mn4Ge6-74-Cagome_big.gph', 'Fe3Mn4Ge6-74-...  \n",
       "2      ['Bi3Y5-77-Cagome_big.gph', 'Bi3Y5-77-Cagome_b...  \n",
       "3      ['Cs6K7-362-Cagome_big.gph', 'Cs6K7-362-Cagome...  \n",
       "4      ['Tb2(Fe0.832Al0.168)17-458-Cagome_big.gph', '...  \n",
       "...                                                  ...  \n",
       "14995                    ['Pt3Zr-687536-Cagome_big.gph']  \n",
       "14996  ['CoVIn-687540-Cagome_big.gph', 'CoVIn-687540-...  \n",
       "14997                    ['GdCo2-687555-Cagome_big.gph']  \n",
       "14998                    ['EuCo2-687556-Cagome_big.gph']  \n",
       "14999                 ['BaGe1.51-710090-Cagome_big.gph']  \n",
       "\n",
       "[15000 rows x 29 columns]"
      ]
     },
     "execution_count": 776,
     "metadata": {},
     "output_type": "execute_result"
    }
   ],
   "source": [
    "data"
   ]
  },
  {
   "cell_type": "code",
   "execution_count": null,
   "id": "5083ecff-a019-471d-a611-702187cf89b8",
   "metadata": {
    "tags": []
   },
   "outputs": [],
   "source": []
  },
  {
   "cell_type": "code",
   "execution_count": null,
   "id": "77fb9ae2-2501-4f41-9876-f7f6b7ab3a41",
   "metadata": {
    "tags": []
   },
   "outputs": [],
   "source": []
  },
  {
   "cell_type": "code",
   "execution_count": 778,
   "id": "21efee29-51af-4a4b-8ed7-4b1588873762",
   "metadata": {
    "tags": []
   },
   "outputs": [],
   "source": [
    "data['cifs_ids'] = data['sorted_cifs_non_empty']"
   ]
  },
  {
   "cell_type": "code",
   "execution_count": null,
   "id": "3c68463b-bfa1-4793-bc77-b6ff5601f620",
   "metadata": {
    "tags": []
   },
   "outputs": [],
   "source": []
  },
  {
   "cell_type": "code",
   "execution_count": 779,
   "id": "70b8e6bd-f1d3-460f-818f-7adad9ce9db7",
   "metadata": {
    "tags": []
   },
   "outputs": [],
   "source": [
    "#data.to_csv('./bulk_1_all_grouped_multi_gph_20241021.csv')"
   ]
  },
  {
   "cell_type": "code",
   "execution_count": null,
   "id": "9d931dcc-a677-4c85-9f9b-207d1d5213ec",
   "metadata": {
    "tags": []
   },
   "outputs": [],
   "source": []
  },
  {
   "cell_type": "code",
   "execution_count": null,
   "id": "ae318ccc-d376-4524-9bd1-44327e738eb6",
   "metadata": {
    "tags": []
   },
   "outputs": [],
   "source": []
  },
  {
   "cell_type": "code",
   "execution_count": null,
   "id": "9b1e0ccd-6883-4a37-8e3b-4da5545e3991",
   "metadata": {
    "tags": []
   },
   "outputs": [],
   "source": []
  },
  {
   "cell_type": "code",
   "execution_count": null,
   "id": "23d4d368-48d8-4ca0-87a6-fbce6aaf1b7e",
   "metadata": {
    "tags": []
   },
   "outputs": [],
   "source": []
  },
  {
   "cell_type": "code",
   "execution_count": 785,
   "id": "86afa3c4-72c3-4f2c-81a3-7f233958083d",
   "metadata": {
    "tags": []
   },
   "outputs": [],
   "source": [
    "# expand the list according to gph\n",
    "data_expand = pd.DataFrame()\n",
    "\n",
    "cifs_ids_expand = []\n",
    "cifs_name_expand = []\n",
    "space_group_num_expand = []\n",
    "num_atom_expand = []\n",
    "composition_expand = []\n",
    "\n",
    "unique_gph_files_expand = []\n",
    "plane_fun_gph_expand = []\n",
    "CN_plane_expand = []\n",
    "CN_group_index_expand = []\n",
    "angle_labels_expand = []\n",
    "distance_mean_60_expand = []\n",
    "distance_std_60_expand = []\n",
    "angles_mean_60_expand = []\n",
    "angles_std_60_expand = []\n",
    "angles_60_data_expand = []\n",
    "distance_60_data_expand = []\n",
    "\n",
    "distance_mean_120_expand = []\n",
    "distance_std_120_expand = []\n",
    "angles_mean_120_expand = []\n",
    "angles_std_120_expand = []\n",
    "angles_120_data_expand = []\n",
    "distance_120_data_expand = []\n",
    "\n",
    "unique_angles_expand = []\n",
    "net_names_expand = []\n",
    "\n",
    "\n",
    "\n",
    "for i in data.index:\n",
    "    count_not_1 = 0 # this is used to index correctly the data for each label\n",
    "    for gi in range(len(data['unique_gph'][i])):\n",
    "        cifs_ids_expand.append(data['cifs_ids'][i])\n",
    "        cifs_name_expand.append(data['cifs_name'][i])\n",
    "        space_group_num_expand.append(data['space_group_num'][i])\n",
    "        num_atom_expand.append(data['num_atom'][i])\n",
    "        composition_expand.append(data['composition'][i])\n",
    "        \n",
    "        \n",
    "        # check the unique_gph \n",
    "        unique_gph_index = data['unique_gph'][i][gi]\n",
    "        \n",
    "        gph_name = ast.literal_eval(data['gph_grouped'][i])[unique_gph_index]\n",
    "        unique_gph_files_expand.append(gph_name)\n",
    "        try:\n",
    "            plane_fun_gph_expand.append(data['match_gph'][i][gi])\n",
    "        except:\n",
    "            plane_fun_gph_expand.append('N/A')\n",
    "        if len(data['CN_group_index'][i])>0:\n",
    "            if data['CN_group_index'][i][gi]==1: #most likely empty \n",
    "\n",
    "\n",
    "                net_names_expand.append('Likely_Empty')\n",
    "                CN_plane_expand.append(data['CN_plane'][i][gi])\n",
    "                CN_group_index_expand.append(data['CN_group_index'][i][gi])\n",
    "                angle_labels_expand.append('Measured')\n",
    "\n",
    "                distance_mean_60_expand.append(data['distance_mean_60'][i][gi-count_not_1])\n",
    "                distance_std_60_expand.append(data['distance_std_60'][i][gi-count_not_1])\n",
    "                angles_mean_60_expand.append(data['angles_mean_60'][i][gi-count_not_1])\n",
    "                angles_std_60_expand.append(data['angles_std_60'][i][gi-count_not_1])\n",
    "                angles_60_data_expand.append(data['angles_60_data'][i][gi-count_not_1])\n",
    "                distance_60_data_expand.append(data['distance_60_data'][i][gi-count_not_1])\n",
    "\n",
    "                distance_mean_120_expand.append(data['distance_mean_120'][i][gi-count_not_1])\n",
    "                distance_std_120_expand.append(data['distance_std_120'][i][gi-count_not_1])\n",
    "                angles_mean_120_expand.append(data['angles_mean_120'][i][gi-count_not_1])\n",
    "                angles_std_120_expand.append(data['angles_std_120'][i][gi-count_not_1])\n",
    "                angles_120_data_expand.append(data['angles_120_data'][i][gi-count_not_1])\n",
    "                distance_120_data_expand.append(data['distance_120_data'][i][gi-count_not_1])\n",
    "\n",
    "                unique_angles_expand.append(data['unique_angles'][i][gi-count_not_1])\n",
    "\n",
    "\n",
    "            elif data['CN_group_index'][i][gi]==2: # most likely filled \n",
    "\n",
    "\n",
    "                net_names_expand.append('Likely_Filled')\n",
    "\n",
    "                CN_plane_expand.append(data['CN_plane'][i][gi])\n",
    "                CN_group_index_expand.append(data['CN_group_index'][i][gi])\n",
    "\n",
    "                angle_labels_expand.append('Not measured')\n",
    "\n",
    "                distance_mean_60_expand.append('N/A')\n",
    "                distance_std_60_expand.append('N/A')\n",
    "                angles_mean_60_expand.append('N/A')\n",
    "                angles_std_60_expand.append('N/A')\n",
    "                angles_60_data_expand.append('N/A')\n",
    "                distance_60_data_expand.append('N/A')\n",
    "\n",
    "                distance_mean_120_expand.append('N/A')\n",
    "                distance_std_120_expand.append('N/A')\n",
    "                angles_mean_120_expand.append('N/A')\n",
    "                angles_std_120_expand.append('N/A')\n",
    "                angles_120_data_expand.append('N/A')\n",
    "                distance_120_data_expand.append('N/A')\n",
    "\n",
    "                unique_angles_expand.append('N/A')\n",
    "                count_not_1+=1\n",
    "\n",
    "            else: # other nets with strange CN in-plane\n",
    "                # basics\n",
    "\n",
    "\n",
    "                net_names_expand.append('Other')            \n",
    "\n",
    "                CN_plane_expand.append(data['CN_plane'][i][gi])\n",
    "                CN_group_index_expand.append(data['CN_group_index'][i][gi])\n",
    "                angle_labels_expand.append('Not measured')\n",
    "\n",
    "                distance_mean_60_expand.append('N/A')\n",
    "                distance_std_60_expand.append('N/A')\n",
    "                angles_mean_60_expand.append('N/A')\n",
    "                angles_std_60_expand.append('N/A')\n",
    "                angles_60_data_expand.append('N/A')\n",
    "                distance_60_data_expand.append('N/A')\n",
    "\n",
    "                distance_mean_120_expand.append('N/A')\n",
    "                distance_std_120_expand.append('N/A')\n",
    "                angles_mean_120_expand.append('N/A')\n",
    "                angles_std_120_expand.append('N/A')\n",
    "                angles_120_data_expand.append('N/A')\n",
    "                distance_120_data_expand.append('N/A')\n",
    "\n",
    "                unique_angles_expand.append('N/A')\n",
    "                count_not_1+=1\n",
    "        else:\n",
    "            net_names_expand.append('Other')            \n",
    "\n",
    "            CN_plane_expand.append('N/A')\n",
    "            CN_group_index_expand.append('N/A')\n",
    "            angle_labels_expand.append('Not measured')\n",
    "\n",
    "            distance_mean_60_expand.append('N/A')\n",
    "            distance_std_60_expand.append('N/A')\n",
    "            angles_mean_60_expand.append('N/A')\n",
    "            angles_std_60_expand.append('N/A')\n",
    "            angles_60_data_expand.append('N/A')\n",
    "            distance_60_data_expand.append('N/A')\n",
    "\n",
    "            distance_mean_120_expand.append('N/A')\n",
    "            distance_std_120_expand.append('N/A')\n",
    "            angles_mean_120_expand.append('N/A')\n",
    "            angles_std_120_expand.append('N/A')\n",
    "            angles_120_data_expand.append('N/A')\n",
    "            distance_120_data_expand.append('N/A')\n",
    "\n",
    "            unique_angles_expand.append('N/A')"
   ]
  },
  {
   "cell_type": "code",
   "execution_count": 786,
   "id": "e691641e-075e-4175-9b42-4ce35a923fe1",
   "metadata": {
    "tags": []
   },
   "outputs": [],
   "source": [
    "data_expand['cifs_ids'] = cifs_ids_expand\n",
    "data_expand['cifs_name'] = cifs_name_expand\n",
    "data_expand['space_group_num'] = space_group_num_expand\n",
    "data_expand['num_atom'] = num_atom_expand\n",
    "data_expand['composition'] = composition_expand\n",
    "\n",
    "data_expand['unique_gph_files'] = unique_gph_files_expand\n",
    "data_expand['plane_fun_gph'] = plane_fun_gph_expand\n",
    "data_expand['CN_plane'] = CN_plane_expand\n",
    "data_expand['CN_group_index'] = CN_group_index_expand\n",
    "data_expand['angle_labels'] = angle_labels_expand\n",
    "\n",
    "data_expand['distance_mean_60'] = distance_mean_60_expand\n",
    "data_expand['distance_std_60'] = distance_std_60_expand\n",
    "data_expand['angles_mean_60'] = angles_mean_60_expand\n",
    "data_expand['angles_std_60'] = angles_std_60_expand\n",
    "data_expand['angles_60_data'] = angles_60_data_expand\n",
    "data_expand['distance_60_data'] = distance_60_data_expand\n",
    "\n",
    "data_expand['distance_mean_120'] = distance_mean_120_expand\n",
    "data_expand['distance_std_120'] = distance_std_120_expand\n",
    "data_expand['angles_mean_120'] = angles_mean_120_expand\n",
    "data_expand['angles_std_120'] = angles_std_120_expand\n",
    "data_expand['angles_120_data'] = angles_120_data_expand\n",
    "data_expand['distance_120_data'] = distance_120_data_expand\n",
    "\n",
    "\n",
    "data_expand['unique_angles'] = unique_angles_expand\n",
    "\n",
    "data_expand['net_names'] = net_names_expand"
   ]
  },
  {
   "cell_type": "code",
   "execution_count": null,
   "id": "09afd5bd-3312-4b58-ba67-c82f7aab7978",
   "metadata": {
    "tags": []
   },
   "outputs": [],
   "source": []
  },
  {
   "cell_type": "code",
   "execution_count": null,
   "id": "95fd145d-332e-4574-9630-660ae97f1d9d",
   "metadata": {
    "tags": []
   },
   "outputs": [],
   "source": [
    "data_expand.to_csv('bulk_1_all_grouped_multi_gph_expand_20241021.csv')"
   ]
  },
  {
   "cell_type": "code",
   "execution_count": null,
   "id": "83ad8b35-0e6e-4370-bc64-a1b92beb12d4",
   "metadata": {
    "tags": []
   },
   "outputs": [],
   "source": []
  },
  {
   "cell_type": "code",
   "execution_count": null,
   "id": "d934d945-56a2-47c1-a047-1784e770ae22",
   "metadata": {
    "tags": []
   },
   "outputs": [],
   "source": []
  },
  {
   "cell_type": "code",
   "execution_count": 792,
   "id": "7fc5fb26-1083-4db2-b005-fed90ddd5cf5",
   "metadata": {},
   "outputs": [],
   "source": [
    "# do not include structures with number of atoms lower than four. \n",
    "excluded_index = list(data_expand[data_expand['num_atom']<=4].index)"
   ]
  },
  {
   "cell_type": "code",
   "execution_count": null,
   "id": "838e7b85-6a79-415c-8df2-ed77cc10daae",
   "metadata": {
    "tags": []
   },
   "outputs": [],
   "source": []
  },
  {
   "cell_type": "code",
   "execution_count": null,
   "id": "318bf645-1055-4c5f-9a65-0211126cf9d9",
   "metadata": {},
   "outputs": [],
   "source": []
  },
  {
   "cell_type": "code",
   "execution_count": 795,
   "id": "462b991c-e385-4072-a016-9e9a4420fda8",
   "metadata": {
    "tags": []
   },
   "outputs": [],
   "source": [
    "index_old = data[data['cifs_name'] == data_expand['cifs_name'][0]].index[0]"
   ]
  },
  {
   "cell_type": "code",
   "execution_count": null,
   "id": "9e136782-fc2e-4068-8e9c-70bacaea472d",
   "metadata": {
    "tags": []
   },
   "outputs": [],
   "source": []
  },
  {
   "cell_type": "code",
   "execution_count": 797,
   "id": "0dbdc7f0-5353-4ce2-a0e7-0e3897546e96",
   "metadata": {},
   "outputs": [
    {
     "data": {
      "application/vnd.jupyter.widget-view+json": {
       "model_id": "6bbfd9e52b27415aae2ce33fc23861a3",
       "version_major": 2,
       "version_minor": 0
      },
      "text/plain": [
       "  0%|          | 0/17780 [00:00<?, ?it/s]"
      ]
     },
     "metadata": {},
     "output_type": "display_data"
    }
   ],
   "source": [
    "# analyze G-1 for inter-atomic distances and angles\n",
    "G_2_angles = []\n",
    "G_2_index = []\n",
    "G_2_angle_distance_info_all = []\n",
    "\n",
    "#data_all.iloc[G_1_index].index[:5]\n",
    "p_bar = tqdm(data_expand.index[:])\n",
    "for i in p_bar:\n",
    "    measure_  = data_expand['angle_labels'][i]\n",
    "    CN_i = data_expand['CN_plane'][i]\n",
    "\n",
    "    nn_sites = None\n",
    "    nn_info = None\n",
    "    # only measure the structures that have yet been measured and have only coordination of 6 on the plane. \n",
    "    if i not in excluded_index and (6 in CN_i) and (len(np.unique(CN_i))==1): \n",
    "        #print(i)\n",
    "        G_2_index.append(i)\n",
    "        absds = data_expand['plane_fun_gph'][i]\n",
    "        index_old_structure_list = data[data['cifs_name'] == data_expand['cifs_name'][i]].index[0]\n",
    "        index_plane_structure = data['match_gph'][index_old_structure_list].index(absds)\n",
    "        #print(index_old_structure_list,index_plane_structure)\n",
    "        plane_structure = plane_structures_list[index_old_structure_list][index_plane_structure]\n",
    "        plane_structure_pbc = plane_structures_pbc_list[index_old_structure_list][index_plane_structure]\n",
    "        [A,B,C,D] = absds\n",
    "        for cutoff in range(7,30):\n",
    "            try:\n",
    "                # Try to call your function with the current parameter\n",
    "                C_NN = CrystalNN(distance_cutoffs=(2,2.4),x_diff_weight=0.0, porous_adjustment=False,search_cutoff=cutoff )\n",
    "                nn_sites,nn_info = get_1nn_m(plane_structure_pbc,\n",
    "                                   plane_structure,\n",
    "                                   [A,B,C,D],\n",
    "                                   NN_method=C_NN\n",
    "                                  )\n",
    "                cutoff_.append(cutoff)\n",
    "                break\n",
    "            except Exception as e:\n",
    "                # If there is an error, print it and continue to the next parameter\n",
    "                continue\n",
    "        keys = nn_info.keys()\n",
    "        G_2_angles.append(np.unique(np.concatenate([[x[3] for x in nn_info[k]['angle_info']]  for k in keys])))\n",
    "        G_2_angle_distance_info_all.append([ nn_info[k]['angle_info'] for k in keys])\n",
    "    else:\n",
    "        G_2_angles.append('NA')\n",
    "        G_2_angle_distance_info_all.append('NA')\n",
    "        "
   ]
  },
  {
   "cell_type": "code",
   "execution_count": null,
   "id": "4ff728e5-8e69-457e-870f-a4249b41fa15",
   "metadata": {
    "tags": []
   },
   "outputs": [],
   "source": []
  },
  {
   "cell_type": "code",
   "execution_count": null,
   "id": "721b1a78-1cb3-4b74-bf5a-abc3d8feba93",
   "metadata": {},
   "outputs": [],
   "source": []
  },
  {
   "cell_type": "code",
   "execution_count": 800,
   "id": "8b7826de-4ec0-4e88-bd7d-300bfab90f97",
   "metadata": {},
   "outputs": [],
   "source": [
    "G2_data_angles_around_60_mean = []\n",
    "G2_data_angles_around_60_std = []\n",
    "G2_data_djk_around_60_mean = []\n",
    "G2_data_djk_around_60_std = []\n",
    "G2_data_angles_around_60 = []\n",
    "G2_data_djk_around_60 = []\n",
    "\n",
    "# no data: 'NA'\n",
    "for i in data_expand.index:\n",
    "    if i in G_2_index:\n",
    "        \n",
    "        iG = i\n",
    "        \n",
    "        G_2_angle_distance_info_ = G_2_angle_distance_info_all[iG]\n",
    "        #########\n",
    "        test_di,test_angles = get_angles_distances_jik(G_2_angle_distance_info_)\n",
    "        G2_angles_jik, G2_djk = get_quantity_std(test_di,test_angles,angles_around=60,delta=20)\n",
    "\n",
    "        G2_data_djk_around_60_std.append(np.round(np.std(G2_djk),5))\n",
    "        G2_data_angles_around_60_std.append(np.round(np.std(G2_angles_jik),5))\n",
    "        G2_data_djk_around_60_mean.append(np.round(np.mean(G2_djk),5))\n",
    "        G2_data_angles_around_60_mean.append(np.round(np.mean(G2_angles_jik),5))\n",
    "        G2_data_angles_around_60.append(list(G2_angles_jik))\n",
    "        G2_data_djk_around_60.append(list(G2_djk))\n",
    "        ##########\n",
    "        \n",
    "    else:\n",
    "        G2_data_djk_around_60_std.append('N/A')\n",
    "        G2_data_angles_around_60_std.append('N/A')\n",
    "        G2_data_djk_around_60_mean.append('N/A')\n",
    "        G2_data_angles_around_60_mean.append('N/A')\n",
    "        G2_data_angles_around_60.append('N/A')\n",
    "        G2_data_djk_around_60.append('N/A')"
   ]
  },
  {
   "cell_type": "code",
   "execution_count": null,
   "id": "4f37ba59-7e5c-4950-8b3b-ac091e0774e3",
   "metadata": {},
   "outputs": [],
   "source": []
  },
  {
   "cell_type": "code",
   "execution_count": null,
   "id": "b2e9388b-0487-457f-a79c-3ec475736714",
   "metadata": {
    "tags": []
   },
   "outputs": [],
   "source": []
  },
  {
   "cell_type": "code",
   "execution_count": 802,
   "id": "20bcfca7-35bc-461d-b324-1e166a62b1af",
   "metadata": {
    "tags": []
   },
   "outputs": [],
   "source": [
    "G2_data_angles_around_120_mean = []\n",
    "G2_data_angles_around_120_std = []\n",
    "G2_data_djk_around_120_mean = []\n",
    "G2_data_djk_around_120_std = []\n",
    "G2_data_angles_around_120 = []\n",
    "G2_data_djk_around_120 = []\n",
    "\n",
    "# no data: 'NA'\n",
    "for i in data_expand.index:\n",
    "    if i in G_2_index:\n",
    "        \n",
    "        iG = i\n",
    "        \n",
    "        G_2_angle_distance_info_ = G_2_angle_distance_info_all[iG]\n",
    "        #########\n",
    "        test_di,test_angles = get_angles_distances_jik(G_2_angle_distance_info_)\n",
    "        G2_angles_jik, G2_djk = get_quantity_std(test_di,test_angles,angles_around=120,delta=20)\n",
    "\n",
    "        G2_data_djk_around_120_std.append(np.round(np.std(G2_djk),5))\n",
    "        G2_data_angles_around_120_std.append(np.round(np.std(G2_angles_jik),5))\n",
    "        G2_data_djk_around_120_mean.append(np.round(np.mean(G2_djk),5))\n",
    "        G2_data_angles_around_120_mean.append(np.round(np.mean(G2_angles_jik),5))\n",
    "        G2_data_angles_around_120.append(list(G2_angles_jik))\n",
    "        G2_data_djk_around_120.append(list(G2_djk))\n",
    "        ##########\n",
    "        \n",
    "    else:\n",
    "        G2_data_djk_around_120_std.append('N/A')\n",
    "        G2_data_angles_around_120_std.append('N/A')\n",
    "        G2_data_djk_around_120_mean.append('N/A')\n",
    "        G2_data_angles_around_120_mean.append('N/A')\n",
    "        G2_data_angles_around_120.append('N/A')\n",
    "        G2_data_djk_around_120.append('N/A')"
   ]
  },
  {
   "cell_type": "code",
   "execution_count": null,
   "id": "ebd2e120-48f1-4bb1-80b5-d43194cde9f8",
   "metadata": {},
   "outputs": [],
   "source": []
  },
  {
   "cell_type": "code",
   "execution_count": null,
   "id": "7ff9be18-dbde-4623-8bcb-df925bb62cd6",
   "metadata": {},
   "outputs": [],
   "source": []
  },
  {
   "cell_type": "code",
   "execution_count": 804,
   "id": "6acc5956-b460-4b92-a6bc-665e88b54909",
   "metadata": {
    "tags": []
   },
   "outputs": [],
   "source": [
    "angle_labels_expand_G2 = deepcopy(angle_labels_expand)\n",
    "distance_mean_60_expand_G2 = deepcopy(distance_mean_60_expand)\n",
    "distance_std_60_expand_G2 = deepcopy(distance_std_60_expand)\n",
    "angles_mean_60_expand_G2 = deepcopy(angles_mean_60_expand)\n",
    "angles_std_60_expand_G2 = deepcopy(angles_std_60_expand)\n",
    "angles_60_data_expand_G2 = deepcopy(angles_60_data_expand)\n",
    "distance_60_data_expand_G2 = deepcopy(distance_60_data_expand)\n",
    "distance_mean_120_expand_G2 = deepcopy(distance_mean_120_expand)\n",
    "distance_std_120_expand_G2 = deepcopy(distance_std_120_expand)\n",
    "angles_mean_120_expand_G2 = deepcopy(angles_mean_120_expand)\n",
    "angles_std_120_expand_G2 = deepcopy(angles_std_120_expand)\n",
    "angles_120_data_expand_G2 = deepcopy(angles_120_data_expand)\n",
    "distance_120_data_expand_G2 = deepcopy(distance_120_data_expand)\n",
    "\n",
    "unique_angles_expand_G2 = deepcopy(unique_angles_expand)"
   ]
  },
  {
   "cell_type": "code",
   "execution_count": null,
   "id": "ac3b5a6a-84e9-4ab0-ab10-4149a67e65bf",
   "metadata": {
    "tags": []
   },
   "outputs": [],
   "source": []
  },
  {
   "cell_type": "code",
   "execution_count": null,
   "id": "8c91708e-597f-4439-bfc3-5186119f8b3d",
   "metadata": {
    "tags": []
   },
   "outputs": [],
   "source": []
  },
  {
   "cell_type": "code",
   "execution_count": 806,
   "id": "d7e2cb0b-e2ac-419e-84f9-243305bac466",
   "metadata": {},
   "outputs": [],
   "source": [
    "for i in data_expand.index:\n",
    "    if i in G_2_index:\n",
    "        angle_labels_expand_G2[i] = \"Measured\"\n",
    "        \n",
    "        distance_mean_60_expand_G2[i] = G2_data_djk_around_60_mean[i] \n",
    "        distance_std_60_expand_G2[i] = G2_data_djk_around_60_std[i] \n",
    "        angles_mean_60_expand_G2[i] = G2_data_angles_around_60_mean[i]\n",
    "        angles_std_60_expand_G2[i] = G2_data_angles_around_60_std[i]\n",
    "        angles_60_data_expand_G2[i] = G2_data_angles_around_60[i]\n",
    "        distance_60_data_expand_G2[i] = G2_data_djk_around_60[i]\n",
    "        \n",
    "        distance_mean_120_expand_G2[i] = G2_data_djk_around_120_mean[i]\n",
    "        distance_std_120_expand_G2[i] = G2_data_djk_around_120_std[i]\n",
    "        angles_mean_120_expand_G2[i] = G2_data_angles_around_120_mean[i]\n",
    "        angles_std_120_expand_G2[i] = G2_data_angles_around_120_std[i]\n",
    "        angles_120_data_expand_G2[i] = G2_data_angles_around_120[i]\n",
    "        distance_120_data_expand_G2[i] = G2_data_djk_around_120[i]\n",
    "        \n",
    "        unique_angles_expand_G2[i] = list(np.unique(G_2_angles[i]))"
   ]
  },
  {
   "cell_type": "code",
   "execution_count": null,
   "id": "1e3d252e-7b92-4ece-a32b-08ceb445bbd3",
   "metadata": {
    "tags": []
   },
   "outputs": [],
   "source": []
  },
  {
   "cell_type": "code",
   "execution_count": 807,
   "id": "1a88208b-9950-484a-8c9b-0275806c011f",
   "metadata": {},
   "outputs": [],
   "source": [
    "data_expand['angle_labels'] = angle_labels_expand_G2\n",
    "\n",
    "data_expand['distance_mean_60'] = distance_mean_60_expand_G2\n",
    "data_expand['distance_std_60'] = distance_std_60_expand_G2\n",
    "data_expand['angles_mean_60'] = angles_mean_60_expand_G2\n",
    "data_expand['angles_std_60'] = angles_std_60_expand_G2\n",
    "data_expand['angles_60_data'] = angles_60_data_expand_G2\n",
    "data_expand['distance_60_data'] = distance_60_data_expand_G2\n",
    "\n",
    "data_expand['distance_mean_120'] = distance_mean_120_expand_G2\n",
    "data_expand['distance_std_120'] = distance_std_120_expand_G2\n",
    "data_expand['angles_mean_120'] = angles_mean_120_expand_G2\n",
    "data_expand['angles_std_120'] = angles_std_120_expand_G2\n",
    "data_expand['angles_120_data'] = angles_120_data_expand_G2\n",
    "data_expand['distance_120_data'] = distance_120_data_expand_G2\n",
    "\n",
    "data_expand['unique_angles'] = unique_angles_expand_G2"
   ]
  },
  {
   "cell_type": "code",
   "execution_count": 809,
   "id": "63fd4186-a13b-4efe-a3c1-5e240d8c60c1",
   "metadata": {
    "tags": []
   },
   "outputs": [],
   "source": [
    "data_expand.to_csv('./bulk_1_all_grouped_multi_gph_expand_2_20241111.csv')"
   ]
  },
  {
   "cell_type": "code",
   "execution_count": null,
   "id": "518e8316-1f63-4562-9d34-a522e482f07e",
   "metadata": {
    "tags": []
   },
   "outputs": [],
   "source": []
  },
  {
   "cell_type": "code",
   "execution_count": null,
   "id": "b3585a59-4d8b-4a62-9c81-85032db4019a",
   "metadata": {
    "tags": []
   },
   "outputs": [],
   "source": []
  },
  {
   "cell_type": "code",
   "execution_count": null,
   "id": "49fa01a0-74db-48ae-af30-caf809ca88d7",
   "metadata": {
    "tags": []
   },
   "outputs": [],
   "source": []
  },
  {
   "cell_type": "code",
   "execution_count": null,
   "id": "645abf11-3b1d-40eb-a782-d626047de213",
   "metadata": {},
   "outputs": [],
   "source": []
  },
  {
   "cell_type": "code",
   "execution_count": 635,
   "id": "06cd7fdf-0a96-4b17-863d-cee7bac199bd",
   "metadata": {
    "tags": []
   },
   "outputs": [],
   "source": [
    "# \n",
    "filtered_3atom_remain_index = [x for x in data.index if data['num_atom'][x]==3]\n",
    "filtered_4atom_Cu3Au_type_remain_index = [x for x in data.index if (data['num_atom'][x]==4)&(data['space_group_num'][x]==221) ]\n",
    "filtered_4atom_Cu3Au_type_remain_index_expand = [x for x in data.index if (data_expand['num_atom'][x]==4)&(data_expand['space_group_num'][x]==221) ]\n",
    "\n"
   ]
  },
  {
   "cell_type": "code",
   "execution_count": 639,
   "id": "602cc7e3-8cd8-4838-b391-43101b45c94d",
   "metadata": {
    "tags": []
   },
   "outputs": [],
   "source": [
    "Cu3Au_type_data = data.iloc[filtered_4atom_Cu3Au_type_remain_index]"
   ]
  },
  {
   "cell_type": "code",
   "execution_count": 641,
   "id": "39d740a4-88d7-4661-a3b2-a26eec8c49ab",
   "metadata": {
    "tags": []
   },
   "outputs": [],
   "source": [
    "Cu3Au_type_data.to_csv('All_Cu3Au_structure_type_perfect_filled.csv') "
   ]
  },
  {
   "cell_type": "code",
   "execution_count": 636,
   "id": "9139b385-d3a1-48cc-955b-f8e53e10ae69",
   "metadata": {
    "tags": []
   },
   "outputs": [
    {
     "data": {
      "text/html": [
       "<div>\n",
       "<style scoped>\n",
       "    .dataframe tbody tr th:only-of-type {\n",
       "        vertical-align: middle;\n",
       "    }\n",
       "\n",
       "    .dataframe tbody tr th {\n",
       "        vertical-align: top;\n",
       "    }\n",
       "\n",
       "    .dataframe thead th {\n",
       "        text-align: right;\n",
       "    }\n",
       "</style>\n",
       "<table border=\"1\" class=\"dataframe\">\n",
       "  <thead>\n",
       "    <tr style=\"text-align: right;\">\n",
       "      <th></th>\n",
       "      <th>cifs_ids</th>\n",
       "      <th>cifs_name</th>\n",
       "      <th>space_group_num</th>\n",
       "      <th>num_atom</th>\n",
       "      <th>composition</th>\n",
       "      <th>unique_gph_files</th>\n",
       "      <th>plane_fun_gph</th>\n",
       "      <th>CN_plane</th>\n",
       "      <th>CN_group_index</th>\n",
       "      <th>angle_labels</th>\n",
       "      <th>...</th>\n",
       "      <th>angles_60_data</th>\n",
       "      <th>distance_60_data</th>\n",
       "      <th>distance_mean_120</th>\n",
       "      <th>distance_std_120</th>\n",
       "      <th>angles_mean_120</th>\n",
       "      <th>angles_std_120</th>\n",
       "      <th>angles_120_data</th>\n",
       "      <th>distance_120_data</th>\n",
       "      <th>unique_angles</th>\n",
       "      <th>net_names</th>\n",
       "    </tr>\n",
       "  </thead>\n",
       "  <tbody>\n",
       "    <tr>\n",
       "      <th>30</th>\n",
       "      <td>intermetallics_search_005116.cif</td>\n",
       "      <td>intermetallics_search_005116.cif</td>\n",
       "      <td>221</td>\n",
       "      <td>4</td>\n",
       "      <td>{'Fe0+': 1.0, 'Ni0+': 3.0}</td>\n",
       "      <td>FeNi3-5116-Cagome_big.gph</td>\n",
       "      <td>[0.8019202499999999, 0.8019202499999999, -0.80...</td>\n",
       "      <td>[6, 6, 6, 6]</td>\n",
       "      <td>2</td>\n",
       "      <td>Not measured</td>\n",
       "      <td>...</td>\n",
       "      <td>N/A</td>\n",
       "      <td>N/A</td>\n",
       "      <td>N/A</td>\n",
       "      <td>N/A</td>\n",
       "      <td>N/A</td>\n",
       "      <td>N/A</td>\n",
       "      <td>N/A</td>\n",
       "      <td>N/A</td>\n",
       "      <td>N/A</td>\n",
       "      <td>Likely_Filled</td>\n",
       "    </tr>\n",
       "    <tr>\n",
       "      <th>81</th>\n",
       "      <td>intermetallics_search_012215.cif</td>\n",
       "      <td>intermetallics_search_012215.cif</td>\n",
       "      <td>221</td>\n",
       "      <td>4</td>\n",
       "      <td>{'Dy0+': 1.0, 'Al0+': 3.0}</td>\n",
       "      <td>Al3Dy-12215-Cagome_big.gph</td>\n",
       "      <td>[1.121481, -1.1214809999999997, -1.121481, 0.0]</td>\n",
       "      <td>[6, 6, 6, 6]</td>\n",
       "      <td>2</td>\n",
       "      <td>Not measured</td>\n",
       "      <td>...</td>\n",
       "      <td>N/A</td>\n",
       "      <td>N/A</td>\n",
       "      <td>N/A</td>\n",
       "      <td>N/A</td>\n",
       "      <td>N/A</td>\n",
       "      <td>N/A</td>\n",
       "      <td>N/A</td>\n",
       "      <td>N/A</td>\n",
       "      <td>N/A</td>\n",
       "      <td>Likely_Filled</td>\n",
       "    </tr>\n",
       "    <tr>\n",
       "      <th>265</th>\n",
       "      <td>intermetallics_search_034328.cif</td>\n",
       "      <td>intermetallics_search_034328.cif</td>\n",
       "      <td>221</td>\n",
       "      <td>4</td>\n",
       "      <td>{'Sr0+': 1.0, 'Sn0+': 0.75, 'Pb0+': 2.25}</td>\n",
       "      <td>SrSn0.75Pb2.25-34328-Cagome_big.gph</td>\n",
       "      <td>[1.5342538224999998, -1.5342538224999998, 1.53...</td>\n",
       "      <td>[6, 6, 6, 6]</td>\n",
       "      <td>2</td>\n",
       "      <td>Not measured</td>\n",
       "      <td>...</td>\n",
       "      <td>N/A</td>\n",
       "      <td>N/A</td>\n",
       "      <td>N/A</td>\n",
       "      <td>N/A</td>\n",
       "      <td>N/A</td>\n",
       "      <td>N/A</td>\n",
       "      <td>N/A</td>\n",
       "      <td>N/A</td>\n",
       "      <td>N/A</td>\n",
       "      <td>Likely_Filled</td>\n",
       "    </tr>\n",
       "    <tr>\n",
       "      <th>277</th>\n",
       "      <td>intermetallics_search_036719.cif</td>\n",
       "      <td>intermetallics_search_036719.cif</td>\n",
       "      <td>221</td>\n",
       "      <td>4</td>\n",
       "      <td>{'Fe0+': 3.0, 'Ge0+': 1.0}</td>\n",
       "      <td>Fe3Ge-36719-Cagome_big.gph</td>\n",
       "      <td>[-0.8402930556250001, 0.8402930556249999, 0.84...</td>\n",
       "      <td>[6, 6, 6, 6]</td>\n",
       "      <td>2</td>\n",
       "      <td>Not measured</td>\n",
       "      <td>...</td>\n",
       "      <td>N/A</td>\n",
       "      <td>N/A</td>\n",
       "      <td>N/A</td>\n",
       "      <td>N/A</td>\n",
       "      <td>N/A</td>\n",
       "      <td>N/A</td>\n",
       "      <td>N/A</td>\n",
       "      <td>N/A</td>\n",
       "      <td>N/A</td>\n",
       "      <td>Likely_Filled</td>\n",
       "    </tr>\n",
       "    <tr>\n",
       "      <th>339</th>\n",
       "      <td>intermetallics_search_040334.cif</td>\n",
       "      <td>intermetallics_search_040334.cif</td>\n",
       "      <td>221</td>\n",
       "      <td>4</td>\n",
       "      <td>{'Fe0+': 1.0, 'Ni0+': 3.0}</td>\n",
       "      <td>Ni3Fe-40334-Cagome_big.gph</td>\n",
       "      <td>[-0.7854390624999998, 0.7854390624999998, -0.7...</td>\n",
       "      <td>[6, 6, 6, 6]</td>\n",
       "      <td>2</td>\n",
       "      <td>Not measured</td>\n",
       "      <td>...</td>\n",
       "      <td>N/A</td>\n",
       "      <td>N/A</td>\n",
       "      <td>N/A</td>\n",
       "      <td>N/A</td>\n",
       "      <td>N/A</td>\n",
       "      <td>N/A</td>\n",
       "      <td>N/A</td>\n",
       "      <td>N/A</td>\n",
       "      <td>N/A</td>\n",
       "      <td>Likely_Filled</td>\n",
       "    </tr>\n",
       "    <tr>\n",
       "      <th>...</th>\n",
       "      <td>...</td>\n",
       "      <td>...</td>\n",
       "      <td>...</td>\n",
       "      <td>...</td>\n",
       "      <td>...</td>\n",
       "      <td>...</td>\n",
       "      <td>...</td>\n",
       "      <td>...</td>\n",
       "      <td>...</td>\n",
       "      <td>...</td>\n",
       "      <td>...</td>\n",
       "      <td>...</td>\n",
       "      <td>...</td>\n",
       "      <td>...</td>\n",
       "      <td>...</td>\n",
       "      <td>...</td>\n",
       "      <td>...</td>\n",
       "      <td>...</td>\n",
       "      <td>...</td>\n",
       "      <td>...</td>\n",
       "      <td>...</td>\n",
       "    </tr>\n",
       "    <tr>\n",
       "      <th>14989</th>\n",
       "      <td>intermetallics_search_648666.cif</td>\n",
       "      <td>intermetallics_search_648666.cif</td>\n",
       "      <td>221</td>\n",
       "      <td>4</td>\n",
       "      <td>{'Yb0+': 1.0, 'Pb0+': 3.0}</td>\n",
       "      <td>Pb3Yb-648666-Cagome_big.gph</td>\n",
       "      <td>[1.4779264899999998, -1.4779264899999998, 1.47...</td>\n",
       "      <td>[6, 6, 6, 6]</td>\n",
       "      <td>2</td>\n",
       "      <td>Not measured</td>\n",
       "      <td>...</td>\n",
       "      <td>N/A</td>\n",
       "      <td>N/A</td>\n",
       "      <td>N/A</td>\n",
       "      <td>N/A</td>\n",
       "      <td>N/A</td>\n",
       "      <td>N/A</td>\n",
       "      <td>N/A</td>\n",
       "      <td>N/A</td>\n",
       "      <td>N/A</td>\n",
       "      <td>Likely_Filled</td>\n",
       "    </tr>\n",
       "    <tr>\n",
       "      <th>14991</th>\n",
       "      <td>intermetallics_search_648683.cif</td>\n",
       "      <td>intermetallics_search_648683.cif</td>\n",
       "      <td>221</td>\n",
       "      <td>4</td>\n",
       "      <td>{'Pr0+': 1.0, 'Pd0+': 3.0}</td>\n",
       "      <td>Pd3Pr-648683-Cagome_big.gph</td>\n",
       "      <td>[1.0718978556249998, -1.0718978556249998, 1.07...</td>\n",
       "      <td>[6, 6, 6, 6]</td>\n",
       "      <td>2</td>\n",
       "      <td>Not measured</td>\n",
       "      <td>...</td>\n",
       "      <td>N/A</td>\n",
       "      <td>N/A</td>\n",
       "      <td>N/A</td>\n",
       "      <td>N/A</td>\n",
       "      <td>N/A</td>\n",
       "      <td>N/A</td>\n",
       "      <td>N/A</td>\n",
       "      <td>N/A</td>\n",
       "      <td>N/A</td>\n",
       "      <td>Likely_Filled</td>\n",
       "    </tr>\n",
       "    <tr>\n",
       "      <th>14992</th>\n",
       "      <td>intermetallics_search_648684.cif</td>\n",
       "      <td>intermetallics_search_648684.cif</td>\n",
       "      <td>221</td>\n",
       "      <td>4</td>\n",
       "      <td>{'Pr0+': 1.0, 'Pd0+': 3.0}</td>\n",
       "      <td>Pd3Pr-648684-Cagome_big.gph</td>\n",
       "      <td>[1.0705006225000002, -1.0705006225, -1.0705006...</td>\n",
       "      <td>[6, 6, 6, 6]</td>\n",
       "      <td>2</td>\n",
       "      <td>Not measured</td>\n",
       "      <td>...</td>\n",
       "      <td>N/A</td>\n",
       "      <td>N/A</td>\n",
       "      <td>N/A</td>\n",
       "      <td>N/A</td>\n",
       "      <td>N/A</td>\n",
       "      <td>N/A</td>\n",
       "      <td>N/A</td>\n",
       "      <td>N/A</td>\n",
       "      <td>N/A</td>\n",
       "      <td>Likely_Filled</td>\n",
       "    </tr>\n",
       "    <tr>\n",
       "      <th>14993</th>\n",
       "      <td>intermetallics_search_648689.cif</td>\n",
       "      <td>intermetallics_search_648689.cif</td>\n",
       "      <td>221</td>\n",
       "      <td>4</td>\n",
       "      <td>{'Pr0+': 1.0, 'Pd0+': 3.0}</td>\n",
       "      <td>Pd3Pr-648689-Cagome_big.gph</td>\n",
       "      <td>[1.0686390624999997, -1.0686390624999997, 1.06...</td>\n",
       "      <td>[6, 6, 6, 6]</td>\n",
       "      <td>2</td>\n",
       "      <td>Not measured</td>\n",
       "      <td>...</td>\n",
       "      <td>N/A</td>\n",
       "      <td>N/A</td>\n",
       "      <td>N/A</td>\n",
       "      <td>N/A</td>\n",
       "      <td>N/A</td>\n",
       "      <td>N/A</td>\n",
       "      <td>N/A</td>\n",
       "      <td>N/A</td>\n",
       "      <td>N/A</td>\n",
       "      <td>Likely_Filled</td>\n",
       "    </tr>\n",
       "    <tr>\n",
       "      <th>14994</th>\n",
       "      <td>intermetallics_search_648690.cif</td>\n",
       "      <td>intermetallics_search_648690.cif</td>\n",
       "      <td>221</td>\n",
       "      <td>4</td>\n",
       "      <td>{'Pr0+': 1.0, 'Pd0+': 3.0}</td>\n",
       "      <td>Pd3Pr-648690-Cagome_big.gph</td>\n",
       "      <td>[1.0717425624999999, -1.0717425624999999, 1.07...</td>\n",
       "      <td>[6, 6, 6, 6]</td>\n",
       "      <td>2</td>\n",
       "      <td>Not measured</td>\n",
       "      <td>...</td>\n",
       "      <td>N/A</td>\n",
       "      <td>N/A</td>\n",
       "      <td>N/A</td>\n",
       "      <td>N/A</td>\n",
       "      <td>N/A</td>\n",
       "      <td>N/A</td>\n",
       "      <td>N/A</td>\n",
       "      <td>N/A</td>\n",
       "      <td>N/A</td>\n",
       "      <td>Likely_Filled</td>\n",
       "    </tr>\n",
       "  </tbody>\n",
       "</table>\n",
       "<p>1253 rows × 24 columns</p>\n",
       "</div>"
      ],
      "text/plain": [
       "                               cifs_ids                         cifs_name  \\\n",
       "30     intermetallics_search_005116.cif  intermetallics_search_005116.cif   \n",
       "81     intermetallics_search_012215.cif  intermetallics_search_012215.cif   \n",
       "265    intermetallics_search_034328.cif  intermetallics_search_034328.cif   \n",
       "277    intermetallics_search_036719.cif  intermetallics_search_036719.cif   \n",
       "339    intermetallics_search_040334.cif  intermetallics_search_040334.cif   \n",
       "...                                 ...                               ...   \n",
       "14989  intermetallics_search_648666.cif  intermetallics_search_648666.cif   \n",
       "14991  intermetallics_search_648683.cif  intermetallics_search_648683.cif   \n",
       "14992  intermetallics_search_648684.cif  intermetallics_search_648684.cif   \n",
       "14993  intermetallics_search_648689.cif  intermetallics_search_648689.cif   \n",
       "14994  intermetallics_search_648690.cif  intermetallics_search_648690.cif   \n",
       "\n",
       "       space_group_num  num_atom                                composition  \\\n",
       "30                 221         4                 {'Fe0+': 1.0, 'Ni0+': 3.0}   \n",
       "81                 221         4                 {'Dy0+': 1.0, 'Al0+': 3.0}   \n",
       "265                221         4  {'Sr0+': 1.0, 'Sn0+': 0.75, 'Pb0+': 2.25}   \n",
       "277                221         4                 {'Fe0+': 3.0, 'Ge0+': 1.0}   \n",
       "339                221         4                 {'Fe0+': 1.0, 'Ni0+': 3.0}   \n",
       "...                ...       ...                                        ...   \n",
       "14989              221         4                 {'Yb0+': 1.0, 'Pb0+': 3.0}   \n",
       "14991              221         4                 {'Pr0+': 1.0, 'Pd0+': 3.0}   \n",
       "14992              221         4                 {'Pr0+': 1.0, 'Pd0+': 3.0}   \n",
       "14993              221         4                 {'Pr0+': 1.0, 'Pd0+': 3.0}   \n",
       "14994              221         4                 {'Pr0+': 1.0, 'Pd0+': 3.0}   \n",
       "\n",
       "                          unique_gph_files  \\\n",
       "30               FeNi3-5116-Cagome_big.gph   \n",
       "81              Al3Dy-12215-Cagome_big.gph   \n",
       "265    SrSn0.75Pb2.25-34328-Cagome_big.gph   \n",
       "277             Fe3Ge-36719-Cagome_big.gph   \n",
       "339             Ni3Fe-40334-Cagome_big.gph   \n",
       "...                                    ...   \n",
       "14989          Pb3Yb-648666-Cagome_big.gph   \n",
       "14991          Pd3Pr-648683-Cagome_big.gph   \n",
       "14992          Pd3Pr-648684-Cagome_big.gph   \n",
       "14993          Pd3Pr-648689-Cagome_big.gph   \n",
       "14994          Pd3Pr-648690-Cagome_big.gph   \n",
       "\n",
       "                                           plane_fun_gph      CN_plane  \\\n",
       "30     [0.8019202499999999, 0.8019202499999999, -0.80...  [6, 6, 6, 6]   \n",
       "81       [1.121481, -1.1214809999999997, -1.121481, 0.0]  [6, 6, 6, 6]   \n",
       "265    [1.5342538224999998, -1.5342538224999998, 1.53...  [6, 6, 6, 6]   \n",
       "277    [-0.8402930556250001, 0.8402930556249999, 0.84...  [6, 6, 6, 6]   \n",
       "339    [-0.7854390624999998, 0.7854390624999998, -0.7...  [6, 6, 6, 6]   \n",
       "...                                                  ...           ...   \n",
       "14989  [1.4779264899999998, -1.4779264899999998, 1.47...  [6, 6, 6, 6]   \n",
       "14991  [1.0718978556249998, -1.0718978556249998, 1.07...  [6, 6, 6, 6]   \n",
       "14992  [1.0705006225000002, -1.0705006225, -1.0705006...  [6, 6, 6, 6]   \n",
       "14993  [1.0686390624999997, -1.0686390624999997, 1.06...  [6, 6, 6, 6]   \n",
       "14994  [1.0717425624999999, -1.0717425624999999, 1.07...  [6, 6, 6, 6]   \n",
       "\n",
       "      CN_group_index  angle_labels  ... angles_60_data distance_60_data  \\\n",
       "30                 2  Not measured  ...            N/A              N/A   \n",
       "81                 2  Not measured  ...            N/A              N/A   \n",
       "265                2  Not measured  ...            N/A              N/A   \n",
       "277                2  Not measured  ...            N/A              N/A   \n",
       "339                2  Not measured  ...            N/A              N/A   \n",
       "...              ...           ...  ...            ...              ...   \n",
       "14989              2  Not measured  ...            N/A              N/A   \n",
       "14991              2  Not measured  ...            N/A              N/A   \n",
       "14992              2  Not measured  ...            N/A              N/A   \n",
       "14993              2  Not measured  ...            N/A              N/A   \n",
       "14994              2  Not measured  ...            N/A              N/A   \n",
       "\n",
       "      distance_mean_120 distance_std_120 angles_mean_120 angles_std_120  \\\n",
       "30                  N/A              N/A             N/A            N/A   \n",
       "81                  N/A              N/A             N/A            N/A   \n",
       "265                 N/A              N/A             N/A            N/A   \n",
       "277                 N/A              N/A             N/A            N/A   \n",
       "339                 N/A              N/A             N/A            N/A   \n",
       "...                 ...              ...             ...            ...   \n",
       "14989               N/A              N/A             N/A            N/A   \n",
       "14991               N/A              N/A             N/A            N/A   \n",
       "14992               N/A              N/A             N/A            N/A   \n",
       "14993               N/A              N/A             N/A            N/A   \n",
       "14994               N/A              N/A             N/A            N/A   \n",
       "\n",
       "      angles_120_data distance_120_data unique_angles      net_names  \n",
       "30                N/A               N/A           N/A  Likely_Filled  \n",
       "81                N/A               N/A           N/A  Likely_Filled  \n",
       "265               N/A               N/A           N/A  Likely_Filled  \n",
       "277               N/A               N/A           N/A  Likely_Filled  \n",
       "339               N/A               N/A           N/A  Likely_Filled  \n",
       "...               ...               ...           ...            ...  \n",
       "14989             N/A               N/A           N/A  Likely_Filled  \n",
       "14991             N/A               N/A           N/A  Likely_Filled  \n",
       "14992             N/A               N/A           N/A  Likely_Filled  \n",
       "14993             N/A               N/A           N/A  Likely_Filled  \n",
       "14994             N/A               N/A           N/A  Likely_Filled  \n",
       "\n",
       "[1253 rows x 24 columns]"
      ]
     },
     "execution_count": 636,
     "metadata": {},
     "output_type": "execute_result"
    }
   ],
   "source": [
    "data_expand.iloc[filtered_4atom_Cu3Au_type_remain_index_expand]"
   ]
  },
  {
   "cell_type": "code",
   "execution_count": null,
   "id": "3806751d-6bea-4bfc-88a0-20bde9b82de2",
   "metadata": {},
   "outputs": [],
   "source": []
  }
 ],
 "metadata": {
  "kernelspec": {
   "display_name": "Python 3 (ipykernel)",
   "language": "python",
   "name": "python3"
  },
  "language_info": {
   "codemirror_mode": {
    "name": "ipython",
    "version": 3
   },
   "file_extension": ".py",
   "mimetype": "text/x-python",
   "name": "python",
   "nbconvert_exporter": "python",
   "pygments_lexer": "ipython3",
   "version": "3.7.12"
  }
 },
 "nbformat": 4,
 "nbformat_minor": 5
}
